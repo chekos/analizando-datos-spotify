{
 "cells": [
  {
   "cell_type": "markdown",
   "id": "92dde7fb-1c53-4bb4-845f-8631b00dce10",
   "metadata": {},
   "source": [
    "# Explorando JSONs\n",
    "\n",
    "1. Inferences.json - Inferencias sobre mi personsa\n",
    "2. Playlist1.json - Lista de listas de reproducción \n",
    "3. SearchQueries.json - Busquedas\n",
    "4. StreamingHistory*.json - Historial de streams\n",
    "5. YourLibrary.json - Los tracks guardados en mi biblioteca"
   ]
  },
  {
   "cell_type": "code",
   "execution_count": 1,
   "id": "35e9f4fb-7056-4569-9636-11c8959f2615",
   "metadata": {},
   "outputs": [],
   "source": [
    "from rich import print\n",
    "import json\n",
    "from glob import glob\n",
    "\n",
    "import pandas as pd"
   ]
  },
  {
   "cell_type": "markdown",
   "id": "e949bba3-1657-4727-a7ad-b02b1ac72f1e",
   "metadata": {},
   "source": [
    "## Inferences\n",
    "\n",
    "It's a simple long list."
   ]
  },
  {
   "cell_type": "code",
   "execution_count": 2,
   "id": "f6aaa0a7-d28d-454b-b96c-355c5e65e6a1",
   "metadata": {},
   "outputs": [],
   "source": [
    "with open(\"MyData/Inferences.json\", \"r\") as file:\n",
    "    inferences_json = json.load(file)"
   ]
  },
  {
   "cell_type": "code",
   "execution_count": 3,
   "id": "bf024726-2516-4f79-938d-82b926141196",
   "metadata": {},
   "outputs": [
    {
     "data": {
      "text/html": [
       "<div>\n",
       "<style scoped>\n",
       "    .dataframe tbody tr th:only-of-type {\n",
       "        vertical-align: middle;\n",
       "    }\n",
       "\n",
       "    .dataframe tbody tr th {\n",
       "        vertical-align: top;\n",
       "    }\n",
       "\n",
       "    .dataframe thead th {\n",
       "        text-align: right;\n",
       "    }\n",
       "</style>\n",
       "<table border=\"1\" class=\"dataframe\">\n",
       "  <thead>\n",
       "    <tr style=\"text-align: right;\">\n",
       "      <th></th>\n",
       "      <th>inferences</th>\n",
       "    </tr>\n",
       "  </thead>\n",
       "  <tbody>\n",
       "    <tr>\n",
       "      <th>0</th>\n",
       "      <td>1P_Custom_Discovery_Streamers</td>\n",
       "    </tr>\n",
       "    <tr>\n",
       "      <th>1</th>\n",
       "      <td>1P_Custom_High_Intent_Streamers</td>\n",
       "    </tr>\n",
       "    <tr>\n",
       "      <th>2</th>\n",
       "      <td>1P_Custom_Social_Gamers</td>\n",
       "    </tr>\n",
       "    <tr>\n",
       "      <th>3</th>\n",
       "      <td>2P_AT&amp;T_DirectTV_HHEC_0P1C_HAS_DTV &gt; Y_28Feb20...</td>\n",
       "    </tr>\n",
       "    <tr>\n",
       "      <th>4</th>\n",
       "      <td>2P_AT&amp;T_HHEC_0P1B_HAS_TV &gt; Y_10Apr2020_US [Do ...</td>\n",
       "    </tr>\n",
       "    <tr>\n",
       "      <th>...</th>\n",
       "      <td>...</td>\n",
       "    </tr>\n",
       "    <tr>\n",
       "      <th>1633</th>\n",
       "      <td>podcast-audience-segmentation-rules-engagement...</td>\n",
       "    </tr>\n",
       "    <tr>\n",
       "      <th>1634</th>\n",
       "      <td>podcast-audience-segmentation-rules-engagement...</td>\n",
       "    </tr>\n",
       "    <tr>\n",
       "      <th>1635</th>\n",
       "      <td>podcast-audience-segmentation-rules-engagement...</td>\n",
       "    </tr>\n",
       "    <tr>\n",
       "      <th>1636</th>\n",
       "      <td>podcast-audience-segmentation-rules-format-len...</td>\n",
       "    </tr>\n",
       "    <tr>\n",
       "      <th>1637</th>\n",
       "      <td>podcast-audience-segmentation-rules-format-len...</td>\n",
       "    </tr>\n",
       "  </tbody>\n",
       "</table>\n",
       "<p>1638 rows × 1 columns</p>\n",
       "</div>"
      ],
      "text/plain": [
       "                                             inferences\n",
       "0                         1P_Custom_Discovery_Streamers\n",
       "1                       1P_Custom_High_Intent_Streamers\n",
       "2                               1P_Custom_Social_Gamers\n",
       "3     2P_AT&T_DirectTV_HHEC_0P1C_HAS_DTV > Y_28Feb20...\n",
       "4     2P_AT&T_HHEC_0P1B_HAS_TV > Y_10Apr2020_US [Do ...\n",
       "...                                                 ...\n",
       "1633  podcast-audience-segmentation-rules-engagement...\n",
       "1634  podcast-audience-segmentation-rules-engagement...\n",
       "1635  podcast-audience-segmentation-rules-engagement...\n",
       "1636  podcast-audience-segmentation-rules-format-len...\n",
       "1637  podcast-audience-segmentation-rules-format-len...\n",
       "\n",
       "[1638 rows x 1 columns]"
      ]
     },
     "execution_count": 3,
     "metadata": {},
     "output_type": "execute_result"
    }
   ],
   "source": [
    "inferences_df = pd.DataFrame(inferences_json)\n",
    "inferences_df.to_csv(\"csvs/inferences.csv\", encoding = 'utf-8', index=False)\n",
    "inferences_df"
   ]
  },
  {
   "cell_type": "code",
   "execution_count": 4,
   "id": "94b69f0a-2437-48df-8553-7d90c558d1d9",
   "metadata": {},
   "outputs": [],
   "source": [
    "with open(\"MyData/Playlist1.json\", \"r\") as file:\n",
    "    playlists_json = json.load(file)"
   ]
  },
  {
   "cell_type": "code",
   "execution_count": 5,
   "id": "de9b9153-ed9d-4239-9d30-9adde0ed3472",
   "metadata": {
    "tags": []
   },
   "outputs": [
    {
     "data": {
      "text/html": [
       "<pre style=\"white-space:pre;overflow-x:auto;line-height:normal;font-family:Menlo,'DejaVu Sans Mono',consolas,'Courier New',monospace\">Appending playlist:\n",
       "<span style=\"font-weight: bold\">{</span><span style=\"color: #008000; text-decoration-color: #008000\">'name'</span>: <span style=\"color: #008000; text-decoration-color: #008000\">'Heavy Rotation: Oct 21'</span>, <span style=\"color: #008000; text-decoration-color: #008000\">'last_modified_date'</span>: <span style=\"color: #008000; text-decoration-color: #008000\">'2021-10-07'</span>, <span style=\"color: #008000; text-decoration-color: #008000\">'n_items'</span>: <span style=\"color: #008080; text-decoration-color: #008080; font-weight: bold\">17</span>, \n",
       "<span style=\"color: #008000; text-decoration-color: #008000\">'description'</span>: <span style=\"color: #800080; text-decoration-color: #800080; font-style: italic\">None</span>, <span style=\"color: #008000; text-decoration-color: #008000\">'n_followers'</span>: <span style=\"color: #008080; text-decoration-color: #008080; font-weight: bold\">0</span><span style=\"font-weight: bold\">}</span>\n",
       "</pre>\n"
      ],
      "text/plain": [
       "Appending playlist:\n",
       "\u001b[1m{\u001b[0m\u001b[32m'name'\u001b[0m: \u001b[32m'Heavy Rotation: Oct 21'\u001b[0m, \u001b[32m'last_modified_date'\u001b[0m: \u001b[32m'2021-10-07'\u001b[0m, \u001b[32m'n_items'\u001b[0m: \u001b[1;36m17\u001b[0m, \n",
       "\u001b[32m'description'\u001b[0m: \u001b[3;35mNone\u001b[0m, \u001b[32m'n_followers'\u001b[0m: \u001b[1;36m0\u001b[0m\u001b[1m}\u001b[0m\n"
      ]
     },
     "metadata": {},
     "output_type": "display_data"
    },
    {
     "data": {
      "text/html": [
       "<pre style=\"white-space:pre;overflow-x:auto;line-height:normal;font-family:Menlo,'DejaVu Sans Mono',consolas,'Courier New',monospace\">Appending playlist:\n",
       "<span style=\"font-weight: bold\">{</span><span style=\"color: #008000; text-decoration-color: #008000\">'name'</span>: <span style=\"color: #008000; text-decoration-color: #008000\">'descubriendo'</span>, <span style=\"color: #008000; text-decoration-color: #008000\">'last_modified_date'</span>: <span style=\"color: #008000; text-decoration-color: #008000\">'2021-10-06'</span>, <span style=\"color: #008000; text-decoration-color: #008000\">'n_items'</span>: <span style=\"color: #008080; text-decoration-color: #008080; font-weight: bold\">17</span>, <span style=\"color: #008000; text-decoration-color: #008000\">'description'</span>: \n",
       "<span style=\"color: #800080; text-decoration-color: #800080; font-style: italic\">None</span>, <span style=\"color: #008000; text-decoration-color: #008000\">'n_followers'</span>: <span style=\"color: #008080; text-decoration-color: #008080; font-weight: bold\">0</span><span style=\"font-weight: bold\">}</span>\n",
       "</pre>\n"
      ],
      "text/plain": [
       "Appending playlist:\n",
       "\u001b[1m{\u001b[0m\u001b[32m'name'\u001b[0m: \u001b[32m'descubriendo'\u001b[0m, \u001b[32m'last_modified_date'\u001b[0m: \u001b[32m'2021-10-06'\u001b[0m, \u001b[32m'n_items'\u001b[0m: \u001b[1;36m17\u001b[0m, \u001b[32m'description'\u001b[0m: \n",
       "\u001b[3;35mNone\u001b[0m, \u001b[32m'n_followers'\u001b[0m: \u001b[1;36m0\u001b[0m\u001b[1m}\u001b[0m\n"
      ]
     },
     "metadata": {},
     "output_type": "display_data"
    },
    {
     "data": {
      "text/html": [
       "<pre style=\"white-space:pre;overflow-x:auto;line-height:normal;font-family:Menlo,'DejaVu Sans Mono',consolas,'Courier New',monospace\">Appending playlist:\n",
       "<span style=\"font-weight: bold\">{</span><span style=\"color: #008000; text-decoration-color: #008000\">'name'</span>: <span style=\"color: #008000; text-decoration-color: #008000\">'World We Created'</span>, <span style=\"color: #008000; text-decoration-color: #008000\">'last_modified_date'</span>: <span style=\"color: #008000; text-decoration-color: #008000\">'2021-09-27'</span>, <span style=\"color: #008000; text-decoration-color: #008000\">'n_items'</span>: <span style=\"color: #008080; text-decoration-color: #008080; font-weight: bold\">2</span>, <span style=\"color: #008000; text-decoration-color: #008000\">'description'</span>:\n",
       "<span style=\"color: #800080; text-decoration-color: #800080; font-style: italic\">None</span>, <span style=\"color: #008000; text-decoration-color: #008000\">'n_followers'</span>: <span style=\"color: #008080; text-decoration-color: #008080; font-weight: bold\">0</span><span style=\"font-weight: bold\">}</span>\n",
       "</pre>\n"
      ],
      "text/plain": [
       "Appending playlist:\n",
       "\u001b[1m{\u001b[0m\u001b[32m'name'\u001b[0m: \u001b[32m'World We Created'\u001b[0m, \u001b[32m'last_modified_date'\u001b[0m: \u001b[32m'2021-09-27'\u001b[0m, \u001b[32m'n_items'\u001b[0m: \u001b[1;36m2\u001b[0m, \u001b[32m'description'\u001b[0m:\n",
       "\u001b[3;35mNone\u001b[0m, \u001b[32m'n_followers'\u001b[0m: \u001b[1;36m0\u001b[0m\u001b[1m}\u001b[0m\n"
      ]
     },
     "metadata": {},
     "output_type": "display_data"
    },
    {
     "data": {
      "text/html": [
       "<pre style=\"white-space:pre;overflow-x:auto;line-height:normal;font-family:Menlo,'DejaVu Sans Mono',consolas,'Courier New',monospace\">Appending playlist:\n",
       "<span style=\"font-weight: bold\">{</span><span style=\"color: #008000; text-decoration-color: #008000\">'name'</span>: <span style=\"color: #008000; text-decoration-color: #008000\">'30-min workout'</span>, <span style=\"color: #008000; text-decoration-color: #008000\">'last_modified_date'</span>: <span style=\"color: #008000; text-decoration-color: #008000\">'2021-09-28'</span>, <span style=\"color: #008000; text-decoration-color: #008000\">'n_items'</span>: <span style=\"color: #008080; text-decoration-color: #008080; font-weight: bold\">14</span>, <span style=\"color: #008000; text-decoration-color: #008000\">'description'</span>: \n",
       "<span style=\"color: #800080; text-decoration-color: #800080; font-style: italic\">None</span>, <span style=\"color: #008000; text-decoration-color: #008000\">'n_followers'</span>: <span style=\"color: #008080; text-decoration-color: #008080; font-weight: bold\">0</span><span style=\"font-weight: bold\">}</span>\n",
       "</pre>\n"
      ],
      "text/plain": [
       "Appending playlist:\n",
       "\u001b[1m{\u001b[0m\u001b[32m'name'\u001b[0m: \u001b[32m'30-min workout'\u001b[0m, \u001b[32m'last_modified_date'\u001b[0m: \u001b[32m'2021-09-28'\u001b[0m, \u001b[32m'n_items'\u001b[0m: \u001b[1;36m14\u001b[0m, \u001b[32m'description'\u001b[0m: \n",
       "\u001b[3;35mNone\u001b[0m, \u001b[32m'n_followers'\u001b[0m: \u001b[1;36m0\u001b[0m\u001b[1m}\u001b[0m\n"
      ]
     },
     "metadata": {},
     "output_type": "display_data"
    },
    {
     "data": {
      "text/html": [
       "<pre style=\"white-space:pre;overflow-x:auto;line-height:normal;font-family:Menlo,'DejaVu Sans Mono',consolas,'Courier New',monospace\">Appending playlist:\n",
       "<span style=\"font-weight: bold\">{</span><span style=\"color: #008000; text-decoration-color: #008000\">'name'</span>: <span style=\"color: #008000; text-decoration-color: #008000\">'Beibi Songs'</span>, <span style=\"color: #008000; text-decoration-color: #008000\">'last_modified_date'</span>: <span style=\"color: #008000; text-decoration-color: #008000\">'2021-09-04'</span>, <span style=\"color: #008000; text-decoration-color: #008000\">'n_items'</span>: <span style=\"color: #008080; text-decoration-color: #008080; font-weight: bold\">2</span>, <span style=\"color: #008000; text-decoration-color: #008000\">'description'</span>: \n",
       "<span style=\"color: #800080; text-decoration-color: #800080; font-style: italic\">None</span>, <span style=\"color: #008000; text-decoration-color: #008000\">'n_followers'</span>: <span style=\"color: #008080; text-decoration-color: #008080; font-weight: bold\">0</span><span style=\"font-weight: bold\">}</span>\n",
       "</pre>\n"
      ],
      "text/plain": [
       "Appending playlist:\n",
       "\u001b[1m{\u001b[0m\u001b[32m'name'\u001b[0m: \u001b[32m'Beibi Songs'\u001b[0m, \u001b[32m'last_modified_date'\u001b[0m: \u001b[32m'2021-09-04'\u001b[0m, \u001b[32m'n_items'\u001b[0m: \u001b[1;36m2\u001b[0m, \u001b[32m'description'\u001b[0m: \n",
       "\u001b[3;35mNone\u001b[0m, \u001b[32m'n_followers'\u001b[0m: \u001b[1;36m0\u001b[0m\u001b[1m}\u001b[0m\n"
      ]
     },
     "metadata": {},
     "output_type": "display_data"
    },
    {
     "data": {
      "text/html": [
       "<pre style=\"white-space:pre;overflow-x:auto;line-height:normal;font-family:Menlo,'DejaVu Sans Mono',consolas,'Courier New',monospace\">Appending playlist:\n",
       "<span style=\"font-weight: bold\">{</span><span style=\"color: #008000; text-decoration-color: #008000\">'name'</span>: <span style=\"color: #008000; text-decoration-color: #008000\">'Heavy Rotation: Sept 21'</span>, <span style=\"color: #008000; text-decoration-color: #008000\">'last_modified_date'</span>: <span style=\"color: #008000; text-decoration-color: #008000\">'2021-09-13'</span>, <span style=\"color: #008000; text-decoration-color: #008000\">'n_items'</span>: <span style=\"color: #008080; text-decoration-color: #008080; font-weight: bold\">18</span>, \n",
       "<span style=\"color: #008000; text-decoration-color: #008000\">'description'</span>: <span style=\"color: #800080; text-decoration-color: #800080; font-style: italic\">None</span>, <span style=\"color: #008000; text-decoration-color: #008000\">'n_followers'</span>: <span style=\"color: #008080; text-decoration-color: #008080; font-weight: bold\">0</span><span style=\"font-weight: bold\">}</span>\n",
       "</pre>\n"
      ],
      "text/plain": [
       "Appending playlist:\n",
       "\u001b[1m{\u001b[0m\u001b[32m'name'\u001b[0m: \u001b[32m'Heavy Rotation: Sept 21'\u001b[0m, \u001b[32m'last_modified_date'\u001b[0m: \u001b[32m'2021-09-13'\u001b[0m, \u001b[32m'n_items'\u001b[0m: \u001b[1;36m18\u001b[0m, \n",
       "\u001b[32m'description'\u001b[0m: \u001b[3;35mNone\u001b[0m, \u001b[32m'n_followers'\u001b[0m: \u001b[1;36m0\u001b[0m\u001b[1m}\u001b[0m\n"
      ]
     },
     "metadata": {},
     "output_type": "display_data"
    },
    {
     "data": {
      "text/html": [
       "<pre style=\"white-space:pre;overflow-x:auto;line-height:normal;font-family:Menlo,'DejaVu Sans Mono',consolas,'Courier New',monospace\">Appending playlist:\n",
       "<span style=\"font-weight: bold\">{</span><span style=\"color: #008000; text-decoration-color: #008000\">'name'</span>: <span style=\"color: #008000; text-decoration-color: #008000\">'Algo Bien'</span>, <span style=\"color: #008000; text-decoration-color: #008000\">'last_modified_date'</span>: <span style=\"color: #008000; text-decoration-color: #008000\">'2021-08-06'</span>, <span style=\"color: #008000; text-decoration-color: #008000\">'n_items'</span>: <span style=\"color: #008080; text-decoration-color: #008080; font-weight: bold\">1</span>, <span style=\"color: #008000; text-decoration-color: #008000\">'description'</span>: <span style=\"color: #800080; text-decoration-color: #800080; font-style: italic\">None</span>, \n",
       "<span style=\"color: #008000; text-decoration-color: #008000\">'n_followers'</span>: <span style=\"color: #008080; text-decoration-color: #008080; font-weight: bold\">0</span><span style=\"font-weight: bold\">}</span>\n",
       "</pre>\n"
      ],
      "text/plain": [
       "Appending playlist:\n",
       "\u001b[1m{\u001b[0m\u001b[32m'name'\u001b[0m: \u001b[32m'Algo Bien'\u001b[0m, \u001b[32m'last_modified_date'\u001b[0m: \u001b[32m'2021-08-06'\u001b[0m, \u001b[32m'n_items'\u001b[0m: \u001b[1;36m1\u001b[0m, \u001b[32m'description'\u001b[0m: \u001b[3;35mNone\u001b[0m, \n",
       "\u001b[32m'n_followers'\u001b[0m: \u001b[1;36m0\u001b[0m\u001b[1m}\u001b[0m\n"
      ]
     },
     "metadata": {},
     "output_type": "display_data"
    },
    {
     "data": {
      "text/html": [
       "<pre style=\"white-space:pre;overflow-x:auto;line-height:normal;font-family:Menlo,'DejaVu Sans Mono',consolas,'Courier New',monospace\">Appending playlist:\n",
       "<span style=\"font-weight: bold\">{</span><span style=\"color: #008000; text-decoration-color: #008000\">'name'</span>: <span style=\"color: #008000; text-decoration-color: #008000\">'⚡️ talk'</span>, <span style=\"color: #008000; text-decoration-color: #008000\">'last_modified_date'</span>: <span style=\"color: #008000; text-decoration-color: #008000\">'2021-08-01'</span>, <span style=\"color: #008000; text-decoration-color: #008000\">'n_items'</span>: <span style=\"color: #008080; text-decoration-color: #008080; font-weight: bold\">8</span>, <span style=\"color: #008000; text-decoration-color: #008000\">'description'</span>: <span style=\"color: #800080; text-decoration-color: #800080; font-style: italic\">None</span>, \n",
       "<span style=\"color: #008000; text-decoration-color: #008000\">'n_followers'</span>: <span style=\"color: #008080; text-decoration-color: #008080; font-weight: bold\">0</span><span style=\"font-weight: bold\">}</span>\n",
       "</pre>\n"
      ],
      "text/plain": [
       "Appending playlist:\n",
       "\u001b[1m{\u001b[0m\u001b[32m'name'\u001b[0m: \u001b[32m'⚡️ talk'\u001b[0m, \u001b[32m'last_modified_date'\u001b[0m: \u001b[32m'2021-08-01'\u001b[0m, \u001b[32m'n_items'\u001b[0m: \u001b[1;36m8\u001b[0m, \u001b[32m'description'\u001b[0m: \u001b[3;35mNone\u001b[0m, \n",
       "\u001b[32m'n_followers'\u001b[0m: \u001b[1;36m0\u001b[0m\u001b[1m}\u001b[0m\n"
      ]
     },
     "metadata": {},
     "output_type": "display_data"
    },
    {
     "data": {
      "text/html": [
       "<pre style=\"white-space:pre;overflow-x:auto;line-height:normal;font-family:Menlo,'DejaVu Sans Mono',consolas,'Courier New',monospace\">Appending playlist:\n",
       "<span style=\"font-weight: bold\">{</span><span style=\"color: #008000; text-decoration-color: #008000\">'name'</span>: <span style=\"color: #008000; text-decoration-color: #008000\">'boom boom'</span>, <span style=\"color: #008000; text-decoration-color: #008000\">'last_modified_date'</span>: <span style=\"color: #008000; text-decoration-color: #008000\">'2021-07-18'</span>, <span style=\"color: #008000; text-decoration-color: #008000\">'n_items'</span>: <span style=\"color: #008080; text-decoration-color: #008080; font-weight: bold\">9</span>, <span style=\"color: #008000; text-decoration-color: #008000\">'description'</span>: <span style=\"color: #800080; text-decoration-color: #800080; font-style: italic\">None</span>, \n",
       "<span style=\"color: #008000; text-decoration-color: #008000\">'n_followers'</span>: <span style=\"color: #008080; text-decoration-color: #008080; font-weight: bold\">0</span><span style=\"font-weight: bold\">}</span>\n",
       "</pre>\n"
      ],
      "text/plain": [
       "Appending playlist:\n",
       "\u001b[1m{\u001b[0m\u001b[32m'name'\u001b[0m: \u001b[32m'boom boom'\u001b[0m, \u001b[32m'last_modified_date'\u001b[0m: \u001b[32m'2021-07-18'\u001b[0m, \u001b[32m'n_items'\u001b[0m: \u001b[1;36m9\u001b[0m, \u001b[32m'description'\u001b[0m: \u001b[3;35mNone\u001b[0m, \n",
       "\u001b[32m'n_followers'\u001b[0m: \u001b[1;36m0\u001b[0m\u001b[1m}\u001b[0m\n"
      ]
     },
     "metadata": {},
     "output_type": "display_data"
    },
    {
     "data": {
      "text/html": [
       "<pre style=\"white-space:pre;overflow-x:auto;line-height:normal;font-family:Menlo,'DejaVu Sans Mono',consolas,'Courier New',monospace\">Appending playlist:\n",
       "<span style=\"font-weight: bold\">{</span><span style=\"color: #008000; text-decoration-color: #008000\">'name'</span>: <span style=\"color: #008000; text-decoration-color: #008000\">'Bien Jalado'</span>, <span style=\"color: #008000; text-decoration-color: #008000\">'last_modified_date'</span>: <span style=\"color: #008000; text-decoration-color: #008000\">'2021-06-30'</span>, <span style=\"color: #008000; text-decoration-color: #008000\">'n_items'</span>: <span style=\"color: #008080; text-decoration-color: #008080; font-weight: bold\">16</span>, <span style=\"color: #008000; text-decoration-color: #008000\">'description'</span>: \n",
       "<span style=\"color: #800080; text-decoration-color: #800080; font-style: italic\">None</span>, <span style=\"color: #008000; text-decoration-color: #008000\">'n_followers'</span>: <span style=\"color: #008080; text-decoration-color: #008080; font-weight: bold\">0</span><span style=\"font-weight: bold\">}</span>\n",
       "</pre>\n"
      ],
      "text/plain": [
       "Appending playlist:\n",
       "\u001b[1m{\u001b[0m\u001b[32m'name'\u001b[0m: \u001b[32m'Bien Jalado'\u001b[0m, \u001b[32m'last_modified_date'\u001b[0m: \u001b[32m'2021-06-30'\u001b[0m, \u001b[32m'n_items'\u001b[0m: \u001b[1;36m16\u001b[0m, \u001b[32m'description'\u001b[0m: \n",
       "\u001b[3;35mNone\u001b[0m, \u001b[32m'n_followers'\u001b[0m: \u001b[1;36m0\u001b[0m\u001b[1m}\u001b[0m\n"
      ]
     },
     "metadata": {},
     "output_type": "display_data"
    },
    {
     "data": {
      "text/html": [
       "<pre style=\"white-space:pre;overflow-x:auto;line-height:normal;font-family:Menlo,'DejaVu Sans Mono',consolas,'Courier New',monospace\">Appending playlist:\n",
       "<span style=\"font-weight: bold\">{</span><span style=\"color: #008000; text-decoration-color: #008000\">'name'</span>: <span style=\"color: #008000; text-decoration-color: #008000\">'Nirvana in Gaza'</span>, <span style=\"color: #008000; text-decoration-color: #008000\">'last_modified_date'</span>: <span style=\"color: #008000; text-decoration-color: #008000\">'2021-06-19'</span>, <span style=\"color: #008000; text-decoration-color: #008000\">'n_items'</span>: <span style=\"color: #008080; text-decoration-color: #008080; font-weight: bold\">1</span>, <span style=\"color: #008000; text-decoration-color: #008000\">'description'</span>: \n",
       "<span style=\"color: #800080; text-decoration-color: #800080; font-style: italic\">None</span>, <span style=\"color: #008000; text-decoration-color: #008000\">'n_followers'</span>: <span style=\"color: #008080; text-decoration-color: #008080; font-weight: bold\">0</span><span style=\"font-weight: bold\">}</span>\n",
       "</pre>\n"
      ],
      "text/plain": [
       "Appending playlist:\n",
       "\u001b[1m{\u001b[0m\u001b[32m'name'\u001b[0m: \u001b[32m'Nirvana in Gaza'\u001b[0m, \u001b[32m'last_modified_date'\u001b[0m: \u001b[32m'2021-06-19'\u001b[0m, \u001b[32m'n_items'\u001b[0m: \u001b[1;36m1\u001b[0m, \u001b[32m'description'\u001b[0m: \n",
       "\u001b[3;35mNone\u001b[0m, \u001b[32m'n_followers'\u001b[0m: \u001b[1;36m0\u001b[0m\u001b[1m}\u001b[0m\n"
      ]
     },
     "metadata": {},
     "output_type": "display_data"
    },
    {
     "data": {
      "text/html": [
       "<pre style=\"white-space:pre;overflow-x:auto;line-height:normal;font-family:Menlo,'DejaVu Sans Mono',consolas,'Courier New',monospace\">Appending playlist:\n",
       "<span style=\"font-weight: bold\">{</span><span style=\"color: #008000; text-decoration-color: #008000\">'name'</span>: <span style=\"color: #008000; text-decoration-color: #008000\">'kk'</span>, <span style=\"color: #008000; text-decoration-color: #008000\">'last_modified_date'</span>: <span style=\"color: #008000; text-decoration-color: #008000\">'2021-06-18'</span>, <span style=\"color: #008000; text-decoration-color: #008000\">'n_items'</span>: <span style=\"color: #008080; text-decoration-color: #008080; font-weight: bold\">3</span>, <span style=\"color: #008000; text-decoration-color: #008000\">'description'</span>: <span style=\"color: #800080; text-decoration-color: #800080; font-style: italic\">None</span>, \n",
       "<span style=\"color: #008000; text-decoration-color: #008000\">'n_followers'</span>: <span style=\"color: #008080; text-decoration-color: #008080; font-weight: bold\">0</span><span style=\"font-weight: bold\">}</span>\n",
       "</pre>\n"
      ],
      "text/plain": [
       "Appending playlist:\n",
       "\u001b[1m{\u001b[0m\u001b[32m'name'\u001b[0m: \u001b[32m'kk'\u001b[0m, \u001b[32m'last_modified_date'\u001b[0m: \u001b[32m'2021-06-18'\u001b[0m, \u001b[32m'n_items'\u001b[0m: \u001b[1;36m3\u001b[0m, \u001b[32m'description'\u001b[0m: \u001b[3;35mNone\u001b[0m, \n",
       "\u001b[32m'n_followers'\u001b[0m: \u001b[1;36m0\u001b[0m\u001b[1m}\u001b[0m\n"
      ]
     },
     "metadata": {},
     "output_type": "display_data"
    },
    {
     "data": {
      "text/html": [
       "<pre style=\"white-space:pre;overflow-x:auto;line-height:normal;font-family:Menlo,'DejaVu Sans Mono',consolas,'Courier New',monospace\">Appending playlist:\n",
       "<span style=\"font-weight: bold\">{</span><span style=\"color: #008000; text-decoration-color: #008000\">'name'</span>: <span style=\"color: #008000; text-decoration-color: #008000\">'kdc'</span>, <span style=\"color: #008000; text-decoration-color: #008000\">'last_modified_date'</span>: <span style=\"color: #008000; text-decoration-color: #008000\">'2021-06-12'</span>, <span style=\"color: #008000; text-decoration-color: #008000\">'n_items'</span>: <span style=\"color: #008080; text-decoration-color: #008080; font-weight: bold\">3</span>, <span style=\"color: #008000; text-decoration-color: #008000\">'description'</span>: <span style=\"color: #800080; text-decoration-color: #800080; font-style: italic\">None</span>, \n",
       "<span style=\"color: #008000; text-decoration-color: #008000\">'n_followers'</span>: <span style=\"color: #008080; text-decoration-color: #008080; font-weight: bold\">0</span><span style=\"font-weight: bold\">}</span>\n",
       "</pre>\n"
      ],
      "text/plain": [
       "Appending playlist:\n",
       "\u001b[1m{\u001b[0m\u001b[32m'name'\u001b[0m: \u001b[32m'kdc'\u001b[0m, \u001b[32m'last_modified_date'\u001b[0m: \u001b[32m'2021-06-12'\u001b[0m, \u001b[32m'n_items'\u001b[0m: \u001b[1;36m3\u001b[0m, \u001b[32m'description'\u001b[0m: \u001b[3;35mNone\u001b[0m, \n",
       "\u001b[32m'n_followers'\u001b[0m: \u001b[1;36m0\u001b[0m\u001b[1m}\u001b[0m\n"
      ]
     },
     "metadata": {},
     "output_type": "display_data"
    },
    {
     "data": {
      "text/html": [
       "<pre style=\"white-space:pre;overflow-x:auto;line-height:normal;font-family:Menlo,'DejaVu Sans Mono',consolas,'Courier New',monospace\">Appending playlist:\n",
       "<span style=\"font-weight: bold\">{</span><span style=\"color: #008000; text-decoration-color: #008000\">'name'</span>: <span style=\"color: #008000; text-decoration-color: #008000\">'MVP: El Grave'</span>, <span style=\"color: #008000; text-decoration-color: #008000\">'last_modified_date'</span>: <span style=\"color: #008000; text-decoration-color: #008000\">'2021-06-23'</span>, <span style=\"color: #008000; text-decoration-color: #008000\">'n_items'</span>: <span style=\"color: #008080; text-decoration-color: #008080; font-weight: bold\">4</span>, <span style=\"color: #008000; text-decoration-color: #008000\">'description'</span>: \n",
       "<span style=\"color: #800080; text-decoration-color: #800080; font-style: italic\">None</span>, <span style=\"color: #008000; text-decoration-color: #008000\">'n_followers'</span>: <span style=\"color: #008080; text-decoration-color: #008080; font-weight: bold\">0</span><span style=\"font-weight: bold\">}</span>\n",
       "</pre>\n"
      ],
      "text/plain": [
       "Appending playlist:\n",
       "\u001b[1m{\u001b[0m\u001b[32m'name'\u001b[0m: \u001b[32m'MVP: El Grave'\u001b[0m, \u001b[32m'last_modified_date'\u001b[0m: \u001b[32m'2021-06-23'\u001b[0m, \u001b[32m'n_items'\u001b[0m: \u001b[1;36m4\u001b[0m, \u001b[32m'description'\u001b[0m: \n",
       "\u001b[3;35mNone\u001b[0m, \u001b[32m'n_followers'\u001b[0m: \u001b[1;36m0\u001b[0m\u001b[1m}\u001b[0m\n"
      ]
     },
     "metadata": {},
     "output_type": "display_data"
    },
    {
     "data": {
      "text/html": [
       "<pre style=\"white-space:pre;overflow-x:auto;line-height:normal;font-family:Menlo,'DejaVu Sans Mono',consolas,'Courier New',monospace\">Appending playlist:\n",
       "<span style=\"font-weight: bold\">{</span><span style=\"color: #008000; text-decoration-color: #008000\">'name'</span>: <span style=\"color: #008000; text-decoration-color: #008000\">'ideas'</span>, <span style=\"color: #008000; text-decoration-color: #008000\">'last_modified_date'</span>: <span style=\"color: #008000; text-decoration-color: #008000\">'2021-06-11'</span>, <span style=\"color: #008000; text-decoration-color: #008000\">'n_items'</span>: <span style=\"color: #008080; text-decoration-color: #008080; font-weight: bold\">1</span>, <span style=\"color: #008000; text-decoration-color: #008000\">'description'</span>: <span style=\"color: #800080; text-decoration-color: #800080; font-style: italic\">None</span>, \n",
       "<span style=\"color: #008000; text-decoration-color: #008000\">'n_followers'</span>: <span style=\"color: #008080; text-decoration-color: #008080; font-weight: bold\">0</span><span style=\"font-weight: bold\">}</span>\n",
       "</pre>\n"
      ],
      "text/plain": [
       "Appending playlist:\n",
       "\u001b[1m{\u001b[0m\u001b[32m'name'\u001b[0m: \u001b[32m'ideas'\u001b[0m, \u001b[32m'last_modified_date'\u001b[0m: \u001b[32m'2021-06-11'\u001b[0m, \u001b[32m'n_items'\u001b[0m: \u001b[1;36m1\u001b[0m, \u001b[32m'description'\u001b[0m: \u001b[3;35mNone\u001b[0m, \n",
       "\u001b[32m'n_followers'\u001b[0m: \u001b[1;36m0\u001b[0m\u001b[1m}\u001b[0m\n"
      ]
     },
     "metadata": {},
     "output_type": "display_data"
    },
    {
     "data": {
      "text/html": [
       "<pre style=\"white-space:pre;overflow-x:auto;line-height:normal;font-family:Menlo,'DejaVu Sans Mono',consolas,'Courier New',monospace\">Appending playlist:\n",
       "<span style=\"font-weight: bold\">{</span><span style=\"color: #008000; text-decoration-color: #008000\">'name'</span>: <span style=\"color: #008000; text-decoration-color: #008000\">'Más Rap Escucha #0001'</span>, <span style=\"color: #008000; text-decoration-color: #008000\">'last_modified_date'</span>: <span style=\"color: #008000; text-decoration-color: #008000\">'2021-06-23'</span>, <span style=\"color: #008000; text-decoration-color: #008000\">'n_items'</span>: <span style=\"color: #008080; text-decoration-color: #008080; font-weight: bold\">12</span>, \n",
       "<span style=\"color: #008000; text-decoration-color: #008000\">'description'</span>: <span style=\"color: #008000; text-decoration-color: #008000\">'Las recomendaciones de la semana.'</span>, <span style=\"color: #008000; text-decoration-color: #008000\">'n_followers'</span>: <span style=\"color: #008080; text-decoration-color: #008080; font-weight: bold\">1</span><span style=\"font-weight: bold\">}</span>\n",
       "</pre>\n"
      ],
      "text/plain": [
       "Appending playlist:\n",
       "\u001b[1m{\u001b[0m\u001b[32m'name'\u001b[0m: \u001b[32m'Más Rap Escucha #0001'\u001b[0m, \u001b[32m'last_modified_date'\u001b[0m: \u001b[32m'2021-06-23'\u001b[0m, \u001b[32m'n_items'\u001b[0m: \u001b[1;36m12\u001b[0m, \n",
       "\u001b[32m'description'\u001b[0m: \u001b[32m'Las recomendaciones de la semana.'\u001b[0m, \u001b[32m'n_followers'\u001b[0m: \u001b[1;36m1\u001b[0m\u001b[1m}\u001b[0m\n"
      ]
     },
     "metadata": {},
     "output_type": "display_data"
    },
    {
     "data": {
      "text/html": [
       "<pre style=\"white-space:pre;overflow-x:auto;line-height:normal;font-family:Menlo,'DejaVu Sans Mono',consolas,'Courier New',monospace\">Appending playlist:\n",
       "<span style=\"font-weight: bold\">{</span><span style=\"color: #008000; text-decoration-color: #008000\">'name'</span>: <span style=\"color: #008000; text-decoration-color: #008000\">'Más Rap: Desamor Cholero'</span>, <span style=\"color: #008000; text-decoration-color: #008000\">'last_modified_date'</span>: <span style=\"color: #008000; text-decoration-color: #008000\">'2021-06-08'</span>, <span style=\"color: #008000; text-decoration-color: #008000\">'n_items'</span>: <span style=\"color: #008080; text-decoration-color: #008080; font-weight: bold\">5</span>, \n",
       "<span style=\"color: #008000; text-decoration-color: #008000\">'description'</span>: <span style=\"color: #800080; text-decoration-color: #800080; font-style: italic\">None</span>, <span style=\"color: #008000; text-decoration-color: #008000\">'n_followers'</span>: <span style=\"color: #008080; text-decoration-color: #008080; font-weight: bold\">0</span><span style=\"font-weight: bold\">}</span>\n",
       "</pre>\n"
      ],
      "text/plain": [
       "Appending playlist:\n",
       "\u001b[1m{\u001b[0m\u001b[32m'name'\u001b[0m: \u001b[32m'Más Rap: Desamor Cholero'\u001b[0m, \u001b[32m'last_modified_date'\u001b[0m: \u001b[32m'2021-06-08'\u001b[0m, \u001b[32m'n_items'\u001b[0m: \u001b[1;36m5\u001b[0m, \n",
       "\u001b[32m'description'\u001b[0m: \u001b[3;35mNone\u001b[0m, \u001b[32m'n_followers'\u001b[0m: \u001b[1;36m0\u001b[0m\u001b[1m}\u001b[0m\n"
      ]
     },
     "metadata": {},
     "output_type": "display_data"
    },
    {
     "data": {
      "text/html": [
       "<pre style=\"white-space:pre;overflow-x:auto;line-height:normal;font-family:Menlo,'DejaVu Sans Mono',consolas,'Courier New',monospace\">Appending playlist:\n",
       "<span style=\"font-weight: bold\">{</span><span style=\"color: #008000; text-decoration-color: #008000\">'name'</span>: <span style=\"color: #008000; text-decoration-color: #008000\">'Más Rap Vol. I, Ep. 3: Thriller Raps'</span>, <span style=\"color: #008000; text-decoration-color: #008000\">'last_modified_date'</span>: <span style=\"color: #008000; text-decoration-color: #008000\">'2021-06-09'</span>, \n",
       "<span style=\"color: #008000; text-decoration-color: #008000\">'n_items'</span>: <span style=\"color: #008080; text-decoration-color: #008080; font-weight: bold\">12</span>, <span style=\"color: #008000; text-decoration-color: #008000\">'description'</span>: <span style=\"color: #008000; text-decoration-color: #008000\">'Rolas de historias que parecen de película'</span>, <span style=\"color: #008000; text-decoration-color: #008000\">'n_followers'</span>: <span style=\"color: #008080; text-decoration-color: #008080; font-weight: bold\">0</span><span style=\"font-weight: bold\">}</span>\n",
       "</pre>\n"
      ],
      "text/plain": [
       "Appending playlist:\n",
       "\u001b[1m{\u001b[0m\u001b[32m'name'\u001b[0m: \u001b[32m'Más Rap Vol. I, Ep. 3: Thriller Raps'\u001b[0m, \u001b[32m'last_modified_date'\u001b[0m: \u001b[32m'2021-06-09'\u001b[0m, \n",
       "\u001b[32m'n_items'\u001b[0m: \u001b[1;36m12\u001b[0m, \u001b[32m'description'\u001b[0m: \u001b[32m'Rolas de historias que parecen de película'\u001b[0m, \u001b[32m'n_followers'\u001b[0m: \u001b[1;36m0\u001b[0m\u001b[1m}\u001b[0m\n"
      ]
     },
     "metadata": {},
     "output_type": "display_data"
    },
    {
     "data": {
      "text/html": [
       "<pre style=\"white-space:pre;overflow-x:auto;line-height:normal;font-family:Menlo,'DejaVu Sans Mono',consolas,'Courier New',monospace\">Appending playlist:\n",
       "<span style=\"font-weight: bold\">{</span><span style=\"color: #008000; text-decoration-color: #008000\">'name'</span>: <span style=\"color: #008000; text-decoration-color: #008000\">'Más Rap Vol. I, Ep. 2: Rolas Enfermas'</span>, <span style=\"color: #008000; text-decoration-color: #008000\">'last_modified_date'</span>: <span style=\"color: #008000; text-decoration-color: #008000\">'2021-06-10'</span>, \n",
       "<span style=\"color: #008000; text-decoration-color: #008000\">'n_items'</span>: <span style=\"color: #008080; text-decoration-color: #008080; font-weight: bold\">12</span>, <span style=\"color: #008000; text-decoration-color: #008000\">'description'</span>: <span style=\"color: #008000; text-decoration-color: #008000\">'Rolas que se pasan de lanza'</span>, <span style=\"color: #008000; text-decoration-color: #008000\">'n_followers'</span>: <span style=\"color: #008080; text-decoration-color: #008080; font-weight: bold\">1</span><span style=\"font-weight: bold\">}</span>\n",
       "</pre>\n"
      ],
      "text/plain": [
       "Appending playlist:\n",
       "\u001b[1m{\u001b[0m\u001b[32m'name'\u001b[0m: \u001b[32m'Más Rap Vol. I, Ep. 2: Rolas Enfermas'\u001b[0m, \u001b[32m'last_modified_date'\u001b[0m: \u001b[32m'2021-06-10'\u001b[0m, \n",
       "\u001b[32m'n_items'\u001b[0m: \u001b[1;36m12\u001b[0m, \u001b[32m'description'\u001b[0m: \u001b[32m'Rolas que se pasan de lanza'\u001b[0m, \u001b[32m'n_followers'\u001b[0m: \u001b[1;36m1\u001b[0m\u001b[1m}\u001b[0m\n"
      ]
     },
     "metadata": {},
     "output_type": "display_data"
    },
    {
     "data": {
      "text/html": [
       "<pre style=\"white-space:pre;overflow-x:auto;line-height:normal;font-family:Menlo,'DejaVu Sans Mono',consolas,'Courier New',monospace\">Appending playlist:\n",
       "<span style=\"font-weight: bold\">{</span><span style=\"color: #008000; text-decoration-color: #008000\">'name'</span>: <span style=\"color: #008000; text-decoration-color: #008000\">'Más Rap Vol. I, Ep. 1: Somos Más Rap'</span>, <span style=\"color: #008000; text-decoration-color: #008000\">'last_modified_date'</span>: <span style=\"color: #008000; text-decoration-color: #008000\">'2021-06-10'</span>, \n",
       "<span style=\"color: #008000; text-decoration-color: #008000\">'n_items'</span>: <span style=\"color: #008080; text-decoration-color: #008080; font-weight: bold\">19</span>, <span style=\"color: #008000; text-decoration-color: #008000\">'description'</span>: <span style=\"color: #008000; text-decoration-color: #008000\">'Rolas que explican quienes son Más Rap'</span>, <span style=\"color: #008000; text-decoration-color: #008000\">'n_followers'</span>: <span style=\"color: #008080; text-decoration-color: #008080; font-weight: bold\">1</span><span style=\"font-weight: bold\">}</span>\n",
       "</pre>\n"
      ],
      "text/plain": [
       "Appending playlist:\n",
       "\u001b[1m{\u001b[0m\u001b[32m'name'\u001b[0m: \u001b[32m'Más Rap Vol. I, Ep. 1: Somos Más Rap'\u001b[0m, \u001b[32m'last_modified_date'\u001b[0m: \u001b[32m'2021-06-10'\u001b[0m, \n",
       "\u001b[32m'n_items'\u001b[0m: \u001b[1;36m19\u001b[0m, \u001b[32m'description'\u001b[0m: \u001b[32m'Rolas que explican quienes son Más Rap'\u001b[0m, \u001b[32m'n_followers'\u001b[0m: \u001b[1;36m1\u001b[0m\u001b[1m}\u001b[0m\n"
      ]
     },
     "metadata": {},
     "output_type": "display_data"
    },
    {
     "data": {
      "text/html": [
       "<pre style=\"white-space:pre;overflow-x:auto;line-height:normal;font-family:Menlo,'DejaVu Sans Mono',consolas,'Courier New',monospace\">Appending playlist:\n",
       "<span style=\"font-weight: bold\">{</span><span style=\"color: #008000; text-decoration-color: #008000\">'name'</span>: <span style=\"color: #008000; text-decoration-color: #008000\">'Locofonías #001'</span>, <span style=\"color: #008000; text-decoration-color: #008000\">'last_modified_date'</span>: <span style=\"color: #008000; text-decoration-color: #008000\">'2021-06-02'</span>, <span style=\"color: #008000; text-decoration-color: #008000\">'n_items'</span>: <span style=\"color: #008080; text-decoration-color: #008080; font-weight: bold\">7</span>, <span style=\"color: #008000; text-decoration-color: #008000\">'description'</span>: \n",
       "<span style=\"color: #800080; text-decoration-color: #800080; font-style: italic\">None</span>, <span style=\"color: #008000; text-decoration-color: #008000\">'n_followers'</span>: <span style=\"color: #008080; text-decoration-color: #008080; font-weight: bold\">0</span><span style=\"font-weight: bold\">}</span>\n",
       "</pre>\n"
      ],
      "text/plain": [
       "Appending playlist:\n",
       "\u001b[1m{\u001b[0m\u001b[32m'name'\u001b[0m: \u001b[32m'Locofonías #001'\u001b[0m, \u001b[32m'last_modified_date'\u001b[0m: \u001b[32m'2021-06-02'\u001b[0m, \u001b[32m'n_items'\u001b[0m: \u001b[1;36m7\u001b[0m, \u001b[32m'description'\u001b[0m: \n",
       "\u001b[3;35mNone\u001b[0m, \u001b[32m'n_followers'\u001b[0m: \u001b[1;36m0\u001b[0m\u001b[1m}\u001b[0m\n"
      ]
     },
     "metadata": {},
     "output_type": "display_data"
    },
    {
     "data": {
      "text/html": [
       "<pre style=\"white-space:pre;overflow-x:auto;line-height:normal;font-family:Menlo,'DejaVu Sans Mono',consolas,'Courier New',monospace\">Appending playlist:\n",
       "<span style=\"font-weight: bold\">{</span><span style=\"color: #008000; text-decoration-color: #008000\">'name'</span>: <span style=\"color: #008000; text-decoration-color: #008000\">'desamor cholero'</span>, <span style=\"color: #008000; text-decoration-color: #008000\">'last_modified_date'</span>: <span style=\"color: #008000; text-decoration-color: #008000\">'2021-06-02'</span>, <span style=\"color: #008000; text-decoration-color: #008000\">'n_items'</span>: <span style=\"color: #008080; text-decoration-color: #008080; font-weight: bold\">4</span>, <span style=\"color: #008000; text-decoration-color: #008000\">'description'</span>: \n",
       "<span style=\"color: #800080; text-decoration-color: #800080; font-style: italic\">None</span>, <span style=\"color: #008000; text-decoration-color: #008000\">'n_followers'</span>: <span style=\"color: #008080; text-decoration-color: #008080; font-weight: bold\">0</span><span style=\"font-weight: bold\">}</span>\n",
       "</pre>\n"
      ],
      "text/plain": [
       "Appending playlist:\n",
       "\u001b[1m{\u001b[0m\u001b[32m'name'\u001b[0m: \u001b[32m'desamor cholero'\u001b[0m, \u001b[32m'last_modified_date'\u001b[0m: \u001b[32m'2021-06-02'\u001b[0m, \u001b[32m'n_items'\u001b[0m: \u001b[1;36m4\u001b[0m, \u001b[32m'description'\u001b[0m: \n",
       "\u001b[3;35mNone\u001b[0m, \u001b[32m'n_followers'\u001b[0m: \u001b[1;36m0\u001b[0m\u001b[1m}\u001b[0m\n"
      ]
     },
     "metadata": {},
     "output_type": "display_data"
    },
    {
     "data": {
      "text/html": [
       "<pre style=\"white-space:pre;overflow-x:auto;line-height:normal;font-family:Menlo,'DejaVu Sans Mono',consolas,'Courier New',monospace\">Appending playlist:\n",
       "<span style=\"font-weight: bold\">{</span><span style=\"color: #008000; text-decoration-color: #008000\">'name'</span>: <span style=\"color: #008000; text-decoration-color: #008000\">'pa cuando me caga el mundo'</span>, <span style=\"color: #008000; text-decoration-color: #008000\">'last_modified_date'</span>: <span style=\"color: #008000; text-decoration-color: #008000\">'2021-05-27'</span>, <span style=\"color: #008000; text-decoration-color: #008000\">'n_items'</span>: <span style=\"color: #008080; text-decoration-color: #008080; font-weight: bold\">21</span>, \n",
       "<span style=\"color: #008000; text-decoration-color: #008000\">'description'</span>: <span style=\"color: #800080; text-decoration-color: #800080; font-style: italic\">None</span>, <span style=\"color: #008000; text-decoration-color: #008000\">'n_followers'</span>: <span style=\"color: #008080; text-decoration-color: #008080; font-weight: bold\">0</span><span style=\"font-weight: bold\">}</span>\n",
       "</pre>\n"
      ],
      "text/plain": [
       "Appending playlist:\n",
       "\u001b[1m{\u001b[0m\u001b[32m'name'\u001b[0m: \u001b[32m'pa cuando me caga el mundo'\u001b[0m, \u001b[32m'last_modified_date'\u001b[0m: \u001b[32m'2021-05-27'\u001b[0m, \u001b[32m'n_items'\u001b[0m: \u001b[1;36m21\u001b[0m, \n",
       "\u001b[32m'description'\u001b[0m: \u001b[3;35mNone\u001b[0m, \u001b[32m'n_followers'\u001b[0m: \u001b[1;36m0\u001b[0m\u001b[1m}\u001b[0m\n"
      ]
     },
     "metadata": {},
     "output_type": "display_data"
    },
    {
     "data": {
      "text/html": [
       "<pre style=\"white-space:pre;overflow-x:auto;line-height:normal;font-family:Menlo,'DejaVu Sans Mono',consolas,'Courier New',monospace\">Appending playlist:\n",
       "<span style=\"font-weight: bold\">{</span><span style=\"color: #008000; text-decoration-color: #008000\">'name'</span>: <span style=\"color: #008000; text-decoration-color: #008000\">'ponte las pilas'</span>, <span style=\"color: #008000; text-decoration-color: #008000\">'last_modified_date'</span>: <span style=\"color: #008000; text-decoration-color: #008000\">'2021-05-08'</span>, <span style=\"color: #008000; text-decoration-color: #008000\">'n_items'</span>: <span style=\"color: #008080; text-decoration-color: #008080; font-weight: bold\">2</span>, <span style=\"color: #008000; text-decoration-color: #008000\">'description'</span>: \n",
       "<span style=\"color: #800080; text-decoration-color: #800080; font-style: italic\">None</span>, <span style=\"color: #008000; text-decoration-color: #008000\">'n_followers'</span>: <span style=\"color: #008080; text-decoration-color: #008080; font-weight: bold\">0</span><span style=\"font-weight: bold\">}</span>\n",
       "</pre>\n"
      ],
      "text/plain": [
       "Appending playlist:\n",
       "\u001b[1m{\u001b[0m\u001b[32m'name'\u001b[0m: \u001b[32m'ponte las pilas'\u001b[0m, \u001b[32m'last_modified_date'\u001b[0m: \u001b[32m'2021-05-08'\u001b[0m, \u001b[32m'n_items'\u001b[0m: \u001b[1;36m2\u001b[0m, \u001b[32m'description'\u001b[0m: \n",
       "\u001b[3;35mNone\u001b[0m, \u001b[32m'n_followers'\u001b[0m: \u001b[1;36m0\u001b[0m\u001b[1m}\u001b[0m\n"
      ]
     },
     "metadata": {},
     "output_type": "display_data"
    },
    {
     "data": {
      "text/html": [
       "<pre style=\"white-space:pre;overflow-x:auto;line-height:normal;font-family:Menlo,'DejaVu Sans Mono',consolas,'Courier New',monospace\">Appending playlist:\n",
       "<span style=\"font-weight: bold\">{</span><span style=\"color: #008000; text-decoration-color: #008000\">'name'</span>: <span style=\"color: #008000; text-decoration-color: #008000\">'Morena Mía'</span>, <span style=\"color: #008000; text-decoration-color: #008000\">'last_modified_date'</span>: <span style=\"color: #008000; text-decoration-color: #008000\">'2021-05-30'</span>, <span style=\"color: #008000; text-decoration-color: #008000\">'n_items'</span>: <span style=\"color: #008080; text-decoration-color: #008080; font-weight: bold\">2</span>, <span style=\"color: #008000; text-decoration-color: #008000\">'description'</span>: <span style=\"color: #800080; text-decoration-color: #800080; font-style: italic\">None</span>,\n",
       "<span style=\"color: #008000; text-decoration-color: #008000\">'n_followers'</span>: <span style=\"color: #008080; text-decoration-color: #008080; font-weight: bold\">0</span><span style=\"font-weight: bold\">}</span>\n",
       "</pre>\n"
      ],
      "text/plain": [
       "Appending playlist:\n",
       "\u001b[1m{\u001b[0m\u001b[32m'name'\u001b[0m: \u001b[32m'Morena Mía'\u001b[0m, \u001b[32m'last_modified_date'\u001b[0m: \u001b[32m'2021-05-30'\u001b[0m, \u001b[32m'n_items'\u001b[0m: \u001b[1;36m2\u001b[0m, \u001b[32m'description'\u001b[0m: \u001b[3;35mNone\u001b[0m,\n",
       "\u001b[32m'n_followers'\u001b[0m: \u001b[1;36m0\u001b[0m\u001b[1m}\u001b[0m\n"
      ]
     },
     "metadata": {},
     "output_type": "display_data"
    },
    {
     "data": {
      "text/html": [
       "<pre style=\"white-space:pre;overflow-x:auto;line-height:normal;font-family:Menlo,'DejaVu Sans Mono',consolas,'Courier New',monospace\">Appending playlist:\n",
       "<span style=\"font-weight: bold\">{</span><span style=\"color: #008000; text-decoration-color: #008000\">'name'</span>: <span style=\"color: #008000; text-decoration-color: #008000\">'Muerte En Hawaii'</span>, <span style=\"color: #008000; text-decoration-color: #008000\">'last_modified_date'</span>: <span style=\"color: #008000; text-decoration-color: #008000\">'2021-04-19'</span>, <span style=\"color: #008000; text-decoration-color: #008000\">'n_items'</span>: <span style=\"color: #008080; text-decoration-color: #008080; font-weight: bold\">7</span>, <span style=\"color: #008000; text-decoration-color: #008000\">'description'</span>:\n",
       "<span style=\"color: #800080; text-decoration-color: #800080; font-style: italic\">None</span>, <span style=\"color: #008000; text-decoration-color: #008000\">'n_followers'</span>: <span style=\"color: #008080; text-decoration-color: #008080; font-weight: bold\">0</span><span style=\"font-weight: bold\">}</span>\n",
       "</pre>\n"
      ],
      "text/plain": [
       "Appending playlist:\n",
       "\u001b[1m{\u001b[0m\u001b[32m'name'\u001b[0m: \u001b[32m'Muerte En Hawaii'\u001b[0m, \u001b[32m'last_modified_date'\u001b[0m: \u001b[32m'2021-04-19'\u001b[0m, \u001b[32m'n_items'\u001b[0m: \u001b[1;36m7\u001b[0m, \u001b[32m'description'\u001b[0m:\n",
       "\u001b[3;35mNone\u001b[0m, \u001b[32m'n_followers'\u001b[0m: \u001b[1;36m0\u001b[0m\u001b[1m}\u001b[0m\n"
      ]
     },
     "metadata": {},
     "output_type": "display_data"
    },
    {
     "data": {
      "text/html": [
       "<pre style=\"white-space:pre;overflow-x:auto;line-height:normal;font-family:Menlo,'DejaVu Sans Mono',consolas,'Courier New',monospace\">Appending playlist:\n",
       "<span style=\"font-weight: bold\">{</span><span style=\"color: #008000; text-decoration-color: #008000\">'name'</span>: <span style=\"color: #008000; text-decoration-color: #008000\">'LA CANCIÓN'</span>, <span style=\"color: #008000; text-decoration-color: #008000\">'last_modified_date'</span>: <span style=\"color: #008000; text-decoration-color: #008000\">'2021-04-02'</span>, <span style=\"color: #008000; text-decoration-color: #008000\">'n_items'</span>: <span style=\"color: #008080; text-decoration-color: #008080; font-weight: bold\">7</span>, <span style=\"color: #008000; text-decoration-color: #008000\">'description'</span>: <span style=\"color: #800080; text-decoration-color: #800080; font-style: italic\">None</span>,\n",
       "<span style=\"color: #008000; text-decoration-color: #008000\">'n_followers'</span>: <span style=\"color: #008080; text-decoration-color: #008080; font-weight: bold\">0</span><span style=\"font-weight: bold\">}</span>\n",
       "</pre>\n"
      ],
      "text/plain": [
       "Appending playlist:\n",
       "\u001b[1m{\u001b[0m\u001b[32m'name'\u001b[0m: \u001b[32m'LA CANCIÓN'\u001b[0m, \u001b[32m'last_modified_date'\u001b[0m: \u001b[32m'2021-04-02'\u001b[0m, \u001b[32m'n_items'\u001b[0m: \u001b[1;36m7\u001b[0m, \u001b[32m'description'\u001b[0m: \u001b[3;35mNone\u001b[0m,\n",
       "\u001b[32m'n_followers'\u001b[0m: \u001b[1;36m0\u001b[0m\u001b[1m}\u001b[0m\n"
      ]
     },
     "metadata": {},
     "output_type": "display_data"
    },
    {
     "data": {
      "text/html": [
       "<pre style=\"white-space:pre;overflow-x:auto;line-height:normal;font-family:Menlo,'DejaVu Sans Mono',consolas,'Courier New',monospace\">Appending playlist:\n",
       "<span style=\"font-weight: bold\">{</span><span style=\"color: #008000; text-decoration-color: #008000\">'name'</span>: <span style=\"color: #008000; text-decoration-color: #008000\">'El Triki Traka'</span>, <span style=\"color: #008000; text-decoration-color: #008000\">'last_modified_date'</span>: <span style=\"color: #008000; text-decoration-color: #008000\">'2021-04-02'</span>, <span style=\"color: #008000; text-decoration-color: #008000\">'n_items'</span>: <span style=\"color: #008080; text-decoration-color: #008080; font-weight: bold\">3</span>, <span style=\"color: #008000; text-decoration-color: #008000\">'description'</span>: \n",
       "<span style=\"color: #800080; text-decoration-color: #800080; font-style: italic\">None</span>, <span style=\"color: #008000; text-decoration-color: #008000\">'n_followers'</span>: <span style=\"color: #008080; text-decoration-color: #008080; font-weight: bold\">0</span><span style=\"font-weight: bold\">}</span>\n",
       "</pre>\n"
      ],
      "text/plain": [
       "Appending playlist:\n",
       "\u001b[1m{\u001b[0m\u001b[32m'name'\u001b[0m: \u001b[32m'El Triki Traka'\u001b[0m, \u001b[32m'last_modified_date'\u001b[0m: \u001b[32m'2021-04-02'\u001b[0m, \u001b[32m'n_items'\u001b[0m: \u001b[1;36m3\u001b[0m, \u001b[32m'description'\u001b[0m: \n",
       "\u001b[3;35mNone\u001b[0m, \u001b[32m'n_followers'\u001b[0m: \u001b[1;36m0\u001b[0m\u001b[1m}\u001b[0m\n"
      ]
     },
     "metadata": {},
     "output_type": "display_data"
    },
    {
     "data": {
      "text/html": [
       "<pre style=\"white-space:pre;overflow-x:auto;line-height:normal;font-family:Menlo,'DejaVu Sans Mono',consolas,'Courier New',monospace\">Appending playlist:\n",
       "<span style=\"font-weight: bold\">{</span><span style=\"color: #008000; text-decoration-color: #008000\">'name'</span>: <span style=\"color: #008000; text-decoration-color: #008000\">'Penitencia'</span>, <span style=\"color: #008000; text-decoration-color: #008000\">'last_modified_date'</span>: <span style=\"color: #008000; text-decoration-color: #008000\">'2021-05-06'</span>, <span style=\"color: #008000; text-decoration-color: #008000\">'n_items'</span>: <span style=\"color: #008080; text-decoration-color: #008080; font-weight: bold\">18</span>, <span style=\"color: #008000; text-decoration-color: #008000\">'description'</span>: \n",
       "<span style=\"color: #800080; text-decoration-color: #800080; font-style: italic\">None</span>, <span style=\"color: #008000; text-decoration-color: #008000\">'n_followers'</span>: <span style=\"color: #008080; text-decoration-color: #008080; font-weight: bold\">0</span><span style=\"font-weight: bold\">}</span>\n",
       "</pre>\n"
      ],
      "text/plain": [
       "Appending playlist:\n",
       "\u001b[1m{\u001b[0m\u001b[32m'name'\u001b[0m: \u001b[32m'Penitencia'\u001b[0m, \u001b[32m'last_modified_date'\u001b[0m: \u001b[32m'2021-05-06'\u001b[0m, \u001b[32m'n_items'\u001b[0m: \u001b[1;36m18\u001b[0m, \u001b[32m'description'\u001b[0m: \n",
       "\u001b[3;35mNone\u001b[0m, \u001b[32m'n_followers'\u001b[0m: \u001b[1;36m0\u001b[0m\u001b[1m}\u001b[0m\n"
      ]
     },
     "metadata": {},
     "output_type": "display_data"
    },
    {
     "data": {
      "text/html": [
       "<pre style=\"white-space:pre;overflow-x:auto;line-height:normal;font-family:Menlo,'DejaVu Sans Mono',consolas,'Courier New',monospace\">Appending playlist:\n",
       "<span style=\"font-weight: bold\">{</span><span style=\"color: #008000; text-decoration-color: #008000\">'name'</span>: <span style=\"color: #008000; text-decoration-color: #008000\">'lo que ando oyendo '</span>, <span style=\"color: #008000; text-decoration-color: #008000\">'last_modified_date'</span>: <span style=\"color: #008000; text-decoration-color: #008000\">'2021-04-02'</span>, <span style=\"color: #008000; text-decoration-color: #008000\">'n_items'</span>: <span style=\"color: #008080; text-decoration-color: #008080; font-weight: bold\">17</span>, \n",
       "<span style=\"color: #008000; text-decoration-color: #008000\">'description'</span>: <span style=\"color: #008000; text-decoration-color: #008000\">'Febrero 2021.'</span>, <span style=\"color: #008000; text-decoration-color: #008000\">'n_followers'</span>: <span style=\"color: #008080; text-decoration-color: #008080; font-weight: bold\">0</span><span style=\"font-weight: bold\">}</span>\n",
       "</pre>\n"
      ],
      "text/plain": [
       "Appending playlist:\n",
       "\u001b[1m{\u001b[0m\u001b[32m'name'\u001b[0m: \u001b[32m'lo que ando oyendo '\u001b[0m, \u001b[32m'last_modified_date'\u001b[0m: \u001b[32m'2021-04-02'\u001b[0m, \u001b[32m'n_items'\u001b[0m: \u001b[1;36m17\u001b[0m, \n",
       "\u001b[32m'description'\u001b[0m: \u001b[32m'Febrero 2021.'\u001b[0m, \u001b[32m'n_followers'\u001b[0m: \u001b[1;36m0\u001b[0m\u001b[1m}\u001b[0m\n"
      ]
     },
     "metadata": {},
     "output_type": "display_data"
    },
    {
     "data": {
      "text/html": [
       "<pre style=\"white-space:pre;overflow-x:auto;line-height:normal;font-family:Menlo,'DejaVu Sans Mono',consolas,'Courier New',monospace\">Appending playlist:\n",
       "<span style=\"font-weight: bold\">{</span><span style=\"color: #008000; text-decoration-color: #008000\">'name'</span>: <span style=\"color: #008000; text-decoration-color: #008000\">'💖🥺😈😳😫🥵👅💀👀💅🏼'</span>, <span style=\"color: #008000; text-decoration-color: #008000\">'last_modified_date'</span>: <span style=\"color: #008000; text-decoration-color: #008000\">'2021-06-19'</span>, <span style=\"color: #008000; text-decoration-color: #008000\">'n_items'</span>: <span style=\"color: #008080; text-decoration-color: #008080; font-weight: bold\">29</span>, \n",
       "<span style=\"color: #008000; text-decoration-color: #008000\">'description'</span>: <span style=\"color: #800080; text-decoration-color: #800080; font-style: italic\">None</span>, <span style=\"color: #008000; text-decoration-color: #008000\">'n_followers'</span>: <span style=\"color: #008080; text-decoration-color: #008080; font-weight: bold\">0</span><span style=\"font-weight: bold\">}</span>\n",
       "</pre>\n"
      ],
      "text/plain": [
       "Appending playlist:\n",
       "\u001b[1m{\u001b[0m\u001b[32m'name'\u001b[0m: \u001b[32m'💖🥺😈😳😫🥵👅💀👀💅🏼'\u001b[0m, \u001b[32m'last_modified_date'\u001b[0m: \u001b[32m'2021-06-19'\u001b[0m, \u001b[32m'n_items'\u001b[0m: \u001b[1;36m29\u001b[0m, \n",
       "\u001b[32m'description'\u001b[0m: \u001b[3;35mNone\u001b[0m, \u001b[32m'n_followers'\u001b[0m: \u001b[1;36m0\u001b[0m\u001b[1m}\u001b[0m\n"
      ]
     },
     "metadata": {},
     "output_type": "display_data"
    },
    {
     "data": {
      "text/html": [
       "<pre style=\"white-space:pre;overflow-x:auto;line-height:normal;font-family:Menlo,'DejaVu Sans Mono',consolas,'Courier New',monospace\">Appending playlist:\n",
       "<span style=\"font-weight: bold\">{</span><span style=\"color: #008000; text-decoration-color: #008000\">'name'</span>: <span style=\"color: #008000; text-decoration-color: #008000\">'En la Ciudad de la Furia'</span>, <span style=\"color: #008000; text-decoration-color: #008000\">'last_modified_date'</span>: <span style=\"color: #008000; text-decoration-color: #008000\">'2020-08-14'</span>, <span style=\"color: #008000; text-decoration-color: #008000\">'n_items'</span>: <span style=\"color: #008080; text-decoration-color: #008080; font-weight: bold\">101</span>, \n",
       "<span style=\"color: #008000; text-decoration-color: #008000\">'description'</span>: <span style=\"color: #800080; text-decoration-color: #800080; font-style: italic\">None</span>, <span style=\"color: #008000; text-decoration-color: #008000\">'n_followers'</span>: <span style=\"color: #008080; text-decoration-color: #008080; font-weight: bold\">0</span><span style=\"font-weight: bold\">}</span>\n",
       "</pre>\n"
      ],
      "text/plain": [
       "Appending playlist:\n",
       "\u001b[1m{\u001b[0m\u001b[32m'name'\u001b[0m: \u001b[32m'En la Ciudad de la Furia'\u001b[0m, \u001b[32m'last_modified_date'\u001b[0m: \u001b[32m'2020-08-14'\u001b[0m, \u001b[32m'n_items'\u001b[0m: \u001b[1;36m101\u001b[0m, \n",
       "\u001b[32m'description'\u001b[0m: \u001b[3;35mNone\u001b[0m, \u001b[32m'n_followers'\u001b[0m: \u001b[1;36m0\u001b[0m\u001b[1m}\u001b[0m\n"
      ]
     },
     "metadata": {},
     "output_type": "display_data"
    },
    {
     "data": {
      "text/html": [
       "<pre style=\"white-space:pre;overflow-x:auto;line-height:normal;font-family:Menlo,'DejaVu Sans Mono',consolas,'Courier New',monospace\">Appending playlist:\n",
       "<span style=\"font-weight: bold\">{</span><span style=\"color: #008000; text-decoration-color: #008000\">'name'</span>: <span style=\"color: #008000; text-decoration-color: #008000\">'Todos en la Cuadra Bien Locos'</span>, <span style=\"color: #008000; text-decoration-color: #008000\">'last_modified_date'</span>: <span style=\"color: #008000; text-decoration-color: #008000\">'2021-06-17'</span>, <span style=\"color: #008000; text-decoration-color: #008000\">'n_items'</span>: <span style=\"color: #008080; text-decoration-color: #008080; font-weight: bold\">78</span>, \n",
       "<span style=\"color: #008000; text-decoration-color: #008000\">'description'</span>: <span style=\"color: #800080; text-decoration-color: #800080; font-style: italic\">None</span>, <span style=\"color: #008000; text-decoration-color: #008000\">'n_followers'</span>: <span style=\"color: #008080; text-decoration-color: #008080; font-weight: bold\">0</span><span style=\"font-weight: bold\">}</span>\n",
       "</pre>\n"
      ],
      "text/plain": [
       "Appending playlist:\n",
       "\u001b[1m{\u001b[0m\u001b[32m'name'\u001b[0m: \u001b[32m'Todos en la Cuadra Bien Locos'\u001b[0m, \u001b[32m'last_modified_date'\u001b[0m: \u001b[32m'2021-06-17'\u001b[0m, \u001b[32m'n_items'\u001b[0m: \u001b[1;36m78\u001b[0m, \n",
       "\u001b[32m'description'\u001b[0m: \u001b[3;35mNone\u001b[0m, \u001b[32m'n_followers'\u001b[0m: \u001b[1;36m0\u001b[0m\u001b[1m}\u001b[0m\n"
      ]
     },
     "metadata": {},
     "output_type": "display_data"
    },
    {
     "data": {
      "text/html": [
       "<pre style=\"white-space:pre;overflow-x:auto;line-height:normal;font-family:Menlo,'DejaVu Sans Mono',consolas,'Courier New',monospace\">Appending playlist:\n",
       "<span style=\"font-weight: bold\">{</span><span style=\"color: #008000; text-decoration-color: #008000\">'name'</span>: <span style=\"color: #008000; text-decoration-color: #008000\">'Canela'</span>, <span style=\"color: #008000; text-decoration-color: #008000\">'last_modified_date'</span>: <span style=\"color: #008000; text-decoration-color: #008000\">'2021-03-15'</span>, <span style=\"color: #008000; text-decoration-color: #008000\">'n_items'</span>: <span style=\"color: #008080; text-decoration-color: #008080; font-weight: bold\">35</span>, <span style=\"color: #008000; text-decoration-color: #008000\">'description'</span>: <span style=\"color: #800080; text-decoration-color: #800080; font-style: italic\">None</span>, \n",
       "<span style=\"color: #008000; text-decoration-color: #008000\">'n_followers'</span>: <span style=\"color: #008080; text-decoration-color: #008080; font-weight: bold\">0</span><span style=\"font-weight: bold\">}</span>\n",
       "</pre>\n"
      ],
      "text/plain": [
       "Appending playlist:\n",
       "\u001b[1m{\u001b[0m\u001b[32m'name'\u001b[0m: \u001b[32m'Canela'\u001b[0m, \u001b[32m'last_modified_date'\u001b[0m: \u001b[32m'2021-03-15'\u001b[0m, \u001b[32m'n_items'\u001b[0m: \u001b[1;36m35\u001b[0m, \u001b[32m'description'\u001b[0m: \u001b[3;35mNone\u001b[0m, \n",
       "\u001b[32m'n_followers'\u001b[0m: \u001b[1;36m0\u001b[0m\u001b[1m}\u001b[0m\n"
      ]
     },
     "metadata": {},
     "output_type": "display_data"
    },
    {
     "data": {
      "text/html": [
       "<pre style=\"white-space:pre;overflow-x:auto;line-height:normal;font-family:Menlo,'DejaVu Sans Mono',consolas,'Courier New',monospace\">Appending playlist:\n",
       "<span style=\"font-weight: bold\">{</span><span style=\"color: #008000; text-decoration-color: #008000\">'name'</span>: <span style=\"color: #008000; text-decoration-color: #008000\">'codear'</span>, <span style=\"color: #008000; text-decoration-color: #008000\">'last_modified_date'</span>: <span style=\"color: #008000; text-decoration-color: #008000\">'2021-10-05'</span>, <span style=\"color: #008000; text-decoration-color: #008000\">'n_items'</span>: <span style=\"color: #008080; text-decoration-color: #008080; font-weight: bold\">680</span>, <span style=\"color: #008000; text-decoration-color: #008000\">'description'</span>: \n",
       "<span style=\"color: #008000; text-decoration-color: #008000\">'rolitas pa escuchar mientras trabajo &amp;#x2F; escribo código'</span>, <span style=\"color: #008000; text-decoration-color: #008000\">'n_followers'</span>: <span style=\"color: #008080; text-decoration-color: #008080; font-weight: bold\">0</span><span style=\"font-weight: bold\">}</span>\n",
       "</pre>\n"
      ],
      "text/plain": [
       "Appending playlist:\n",
       "\u001b[1m{\u001b[0m\u001b[32m'name'\u001b[0m: \u001b[32m'codear'\u001b[0m, \u001b[32m'last_modified_date'\u001b[0m: \u001b[32m'2021-10-05'\u001b[0m, \u001b[32m'n_items'\u001b[0m: \u001b[1;36m680\u001b[0m, \u001b[32m'description'\u001b[0m: \n",
       "\u001b[32m'rolitas pa escuchar mientras trabajo &#x2F; escribo código'\u001b[0m, \u001b[32m'n_followers'\u001b[0m: \u001b[1;36m0\u001b[0m\u001b[1m}\u001b[0m\n"
      ]
     },
     "metadata": {},
     "output_type": "display_data"
    },
    {
     "data": {
      "text/html": [
       "<pre style=\"white-space:pre;overflow-x:auto;line-height:normal;font-family:Menlo,'DejaVu Sans Mono',consolas,'Courier New',monospace\">Appending playlist:\n",
       "<span style=\"font-weight: bold\">{</span><span style=\"color: #008000; text-decoration-color: #008000\">'name'</span>: <span style=\"color: #008000; text-decoration-color: #008000\">'chichiriviche'</span>, <span style=\"color: #008000; text-decoration-color: #008000\">'last_modified_date'</span>: <span style=\"color: #008000; text-decoration-color: #008000\">'2020-08-22'</span>, <span style=\"color: #008000; text-decoration-color: #008000\">'n_items'</span>: <span style=\"color: #008080; text-decoration-color: #008080; font-weight: bold\">9</span>, <span style=\"color: #008000; text-decoration-color: #008000\">'description'</span>: \n",
       "<span style=\"color: #800080; text-decoration-color: #800080; font-style: italic\">None</span>, <span style=\"color: #008000; text-decoration-color: #008000\">'n_followers'</span>: <span style=\"color: #008080; text-decoration-color: #008080; font-weight: bold\">1</span><span style=\"font-weight: bold\">}</span>\n",
       "</pre>\n"
      ],
      "text/plain": [
       "Appending playlist:\n",
       "\u001b[1m{\u001b[0m\u001b[32m'name'\u001b[0m: \u001b[32m'chichiriviche'\u001b[0m, \u001b[32m'last_modified_date'\u001b[0m: \u001b[32m'2020-08-22'\u001b[0m, \u001b[32m'n_items'\u001b[0m: \u001b[1;36m9\u001b[0m, \u001b[32m'description'\u001b[0m: \n",
       "\u001b[3;35mNone\u001b[0m, \u001b[32m'n_followers'\u001b[0m: \u001b[1;36m1\u001b[0m\u001b[1m}\u001b[0m\n"
      ]
     },
     "metadata": {},
     "output_type": "display_data"
    },
    {
     "data": {
      "text/html": [
       "<pre style=\"white-space:pre;overflow-x:auto;line-height:normal;font-family:Menlo,'DejaVu Sans Mono',consolas,'Courier New',monospace\">Appending playlist:\n",
       "<span style=\"font-weight: bold\">{</span><span style=\"color: #008000; text-decoration-color: #008000\">'name'</span>: <span style=\"color: #008000; text-decoration-color: #008000\">'technician'</span>, <span style=\"color: #008000; text-decoration-color: #008000\">'last_modified_date'</span>: <span style=\"color: #008000; text-decoration-color: #008000\">'2020-09-18'</span>, <span style=\"color: #008000; text-decoration-color: #008000\">'n_items'</span>: <span style=\"color: #008080; text-decoration-color: #008080; font-weight: bold\">27</span>, <span style=\"color: #008000; text-decoration-color: #008000\">'description'</span>: \n",
       "<span style=\"color: #800080; text-decoration-color: #800080; font-style: italic\">None</span>, <span style=\"color: #008000; text-decoration-color: #008000\">'n_followers'</span>: <span style=\"color: #008080; text-decoration-color: #008080; font-weight: bold\">0</span><span style=\"font-weight: bold\">}</span>\n",
       "</pre>\n"
      ],
      "text/plain": [
       "Appending playlist:\n",
       "\u001b[1m{\u001b[0m\u001b[32m'name'\u001b[0m: \u001b[32m'technician'\u001b[0m, \u001b[32m'last_modified_date'\u001b[0m: \u001b[32m'2020-09-18'\u001b[0m, \u001b[32m'n_items'\u001b[0m: \u001b[1;36m27\u001b[0m, \u001b[32m'description'\u001b[0m: \n",
       "\u001b[3;35mNone\u001b[0m, \u001b[32m'n_followers'\u001b[0m: \u001b[1;36m0\u001b[0m\u001b[1m}\u001b[0m\n"
      ]
     },
     "metadata": {},
     "output_type": "display_data"
    },
    {
     "data": {
      "text/html": [
       "<pre style=\"white-space:pre;overflow-x:auto;line-height:normal;font-family:Menlo,'DejaVu Sans Mono',consolas,'Courier New',monospace\">Appending playlist:\n",
       "<span style=\"font-weight: bold\">{</span><span style=\"color: #008000; text-decoration-color: #008000\">'name'</span>: <span style=\"color: #008000; text-decoration-color: #008000\">'my five faves'</span>, <span style=\"color: #008000; text-decoration-color: #008000\">'last_modified_date'</span>: <span style=\"color: #008000; text-decoration-color: #008000\">'2020-11-16'</span>, <span style=\"color: #008000; text-decoration-color: #008000\">'n_items'</span>: <span style=\"color: #008080; text-decoration-color: #008080; font-weight: bold\">13</span>, <span style=\"color: #008000; text-decoration-color: #008000\">'description'</span>: \n",
       "<span style=\"color: #800080; text-decoration-color: #800080; font-style: italic\">None</span>, <span style=\"color: #008000; text-decoration-color: #008000\">'n_followers'</span>: <span style=\"color: #008080; text-decoration-color: #008080; font-weight: bold\">0</span><span style=\"font-weight: bold\">}</span>\n",
       "</pre>\n"
      ],
      "text/plain": [
       "Appending playlist:\n",
       "\u001b[1m{\u001b[0m\u001b[32m'name'\u001b[0m: \u001b[32m'my five faves'\u001b[0m, \u001b[32m'last_modified_date'\u001b[0m: \u001b[32m'2020-11-16'\u001b[0m, \u001b[32m'n_items'\u001b[0m: \u001b[1;36m13\u001b[0m, \u001b[32m'description'\u001b[0m: \n",
       "\u001b[3;35mNone\u001b[0m, \u001b[32m'n_followers'\u001b[0m: \u001b[1;36m0\u001b[0m\u001b[1m}\u001b[0m\n"
      ]
     },
     "metadata": {},
     "output_type": "display_data"
    },
    {
     "data": {
      "text/html": [
       "<pre style=\"white-space:pre;overflow-x:auto;line-height:normal;font-family:Menlo,'DejaVu Sans Mono',consolas,'Courier New',monospace\">Appending playlist:\n",
       "<span style=\"font-weight: bold\">{</span><span style=\"color: #008000; text-decoration-color: #008000\">'name'</span>: <span style=\"color: #008000; text-decoration-color: #008000\">'21st Century Thugz Vol. VIII'</span>, <span style=\"color: #008000; text-decoration-color: #008000\">'last_modified_date'</span>: <span style=\"color: #008000; text-decoration-color: #008000\">'2021-03-01'</span>, <span style=\"color: #008000; text-decoration-color: #008000\">'n_items'</span>: <span style=\"color: #008080; text-decoration-color: #008080; font-weight: bold\">15</span>, \n",
       "<span style=\"color: #008000; text-decoration-color: #008000\">'description'</span>: <span style=\"color: #800080; text-decoration-color: #800080; font-style: italic\">None</span>, <span style=\"color: #008000; text-decoration-color: #008000\">'n_followers'</span>: <span style=\"color: #008080; text-decoration-color: #008080; font-weight: bold\">0</span><span style=\"font-weight: bold\">}</span>\n",
       "</pre>\n"
      ],
      "text/plain": [
       "Appending playlist:\n",
       "\u001b[1m{\u001b[0m\u001b[32m'name'\u001b[0m: \u001b[32m'21st Century Thugz Vol. VIII'\u001b[0m, \u001b[32m'last_modified_date'\u001b[0m: \u001b[32m'2021-03-01'\u001b[0m, \u001b[32m'n_items'\u001b[0m: \u001b[1;36m15\u001b[0m, \n",
       "\u001b[32m'description'\u001b[0m: \u001b[3;35mNone\u001b[0m, \u001b[32m'n_followers'\u001b[0m: \u001b[1;36m0\u001b[0m\u001b[1m}\u001b[0m\n"
      ]
     },
     "metadata": {},
     "output_type": "display_data"
    },
    {
     "data": {
      "text/html": [
       "<pre style=\"white-space:pre;overflow-x:auto;line-height:normal;font-family:Menlo,'DejaVu Sans Mono',consolas,'Courier New',monospace\">Appending playlist:\n",
       "<span style=\"font-weight: bold\">{</span><span style=\"color: #008000; text-decoration-color: #008000\">'name'</span>: <span style=\"color: #008000; text-decoration-color: #008000\">'21st Century Thugz Vol. VII'</span>, <span style=\"color: #008000; text-decoration-color: #008000\">'last_modified_date'</span>: <span style=\"color: #008000; text-decoration-color: #008000\">'2020-12-31'</span>, <span style=\"color: #008000; text-decoration-color: #008000\">'n_items'</span>: <span style=\"color: #008080; text-decoration-color: #008080; font-weight: bold\">12</span>, \n",
       "<span style=\"color: #008000; text-decoration-color: #008000\">'description'</span>: <span style=\"color: #800080; text-decoration-color: #800080; font-style: italic\">None</span>, <span style=\"color: #008000; text-decoration-color: #008000\">'n_followers'</span>: <span style=\"color: #008080; text-decoration-color: #008080; font-weight: bold\">0</span><span style=\"font-weight: bold\">}</span>\n",
       "</pre>\n"
      ],
      "text/plain": [
       "Appending playlist:\n",
       "\u001b[1m{\u001b[0m\u001b[32m'name'\u001b[0m: \u001b[32m'21st Century Thugz Vol. VII'\u001b[0m, \u001b[32m'last_modified_date'\u001b[0m: \u001b[32m'2020-12-31'\u001b[0m, \u001b[32m'n_items'\u001b[0m: \u001b[1;36m12\u001b[0m, \n",
       "\u001b[32m'description'\u001b[0m: \u001b[3;35mNone\u001b[0m, \u001b[32m'n_followers'\u001b[0m: \u001b[1;36m0\u001b[0m\u001b[1m}\u001b[0m\n"
      ]
     },
     "metadata": {},
     "output_type": "display_data"
    },
    {
     "data": {
      "text/html": [
       "<pre style=\"white-space:pre;overflow-x:auto;line-height:normal;font-family:Menlo,'DejaVu Sans Mono',consolas,'Courier New',monospace\">Appending playlist:\n",
       "<span style=\"font-weight: bold\">{</span><span style=\"color: #008000; text-decoration-color: #008000\">'name'</span>: <span style=\"color: #008000; text-decoration-color: #008000\">'21st Century Thugz Vol. VI'</span>, <span style=\"color: #008000; text-decoration-color: #008000\">'last_modified_date'</span>: <span style=\"color: #008000; text-decoration-color: #008000\">'2020-10-27'</span>, <span style=\"color: #008000; text-decoration-color: #008000\">'n_items'</span>: <span style=\"color: #008080; text-decoration-color: #008080; font-weight: bold\">12</span>, \n",
       "<span style=\"color: #008000; text-decoration-color: #008000\">'description'</span>: <span style=\"color: #800080; text-decoration-color: #800080; font-style: italic\">None</span>, <span style=\"color: #008000; text-decoration-color: #008000\">'n_followers'</span>: <span style=\"color: #008080; text-decoration-color: #008080; font-weight: bold\">0</span><span style=\"font-weight: bold\">}</span>\n",
       "</pre>\n"
      ],
      "text/plain": [
       "Appending playlist:\n",
       "\u001b[1m{\u001b[0m\u001b[32m'name'\u001b[0m: \u001b[32m'21st Century Thugz Vol. VI'\u001b[0m, \u001b[32m'last_modified_date'\u001b[0m: \u001b[32m'2020-10-27'\u001b[0m, \u001b[32m'n_items'\u001b[0m: \u001b[1;36m12\u001b[0m, \n",
       "\u001b[32m'description'\u001b[0m: \u001b[3;35mNone\u001b[0m, \u001b[32m'n_followers'\u001b[0m: \u001b[1;36m0\u001b[0m\u001b[1m}\u001b[0m\n"
      ]
     },
     "metadata": {},
     "output_type": "display_data"
    },
    {
     "data": {
      "text/html": [
       "<pre style=\"white-space:pre;overflow-x:auto;line-height:normal;font-family:Menlo,'DejaVu Sans Mono',consolas,'Courier New',monospace\">Appending playlist:\n",
       "<span style=\"font-weight: bold\">{</span><span style=\"color: #008000; text-decoration-color: #008000\">'name'</span>: <span style=\"color: #008000; text-decoration-color: #008000\">'21st Century Thugz Vol. V'</span>, <span style=\"color: #008000; text-decoration-color: #008000\">'last_modified_date'</span>: <span style=\"color: #008000; text-decoration-color: #008000\">'2020-10-27'</span>, <span style=\"color: #008000; text-decoration-color: #008000\">'n_items'</span>: <span style=\"color: #008080; text-decoration-color: #008080; font-weight: bold\">7</span>, \n",
       "<span style=\"color: #008000; text-decoration-color: #008000\">'description'</span>: <span style=\"color: #800080; text-decoration-color: #800080; font-style: italic\">None</span>, <span style=\"color: #008000; text-decoration-color: #008000\">'n_followers'</span>: <span style=\"color: #008080; text-decoration-color: #008080; font-weight: bold\">0</span><span style=\"font-weight: bold\">}</span>\n",
       "</pre>\n"
      ],
      "text/plain": [
       "Appending playlist:\n",
       "\u001b[1m{\u001b[0m\u001b[32m'name'\u001b[0m: \u001b[32m'21st Century Thugz Vol. V'\u001b[0m, \u001b[32m'last_modified_date'\u001b[0m: \u001b[32m'2020-10-27'\u001b[0m, \u001b[32m'n_items'\u001b[0m: \u001b[1;36m7\u001b[0m, \n",
       "\u001b[32m'description'\u001b[0m: \u001b[3;35mNone\u001b[0m, \u001b[32m'n_followers'\u001b[0m: \u001b[1;36m0\u001b[0m\u001b[1m}\u001b[0m\n"
      ]
     },
     "metadata": {},
     "output_type": "display_data"
    },
    {
     "data": {
      "text/html": [
       "<pre style=\"white-space:pre;overflow-x:auto;line-height:normal;font-family:Menlo,'DejaVu Sans Mono',consolas,'Courier New',monospace\">Appending playlist:\n",
       "<span style=\"font-weight: bold\">{</span><span style=\"color: #008000; text-decoration-color: #008000\">'name'</span>: <span style=\"color: #008000; text-decoration-color: #008000\">'21st Century Thugz Vol. IV'</span>, <span style=\"color: #008000; text-decoration-color: #008000\">'last_modified_date'</span>: <span style=\"color: #008000; text-decoration-color: #008000\">'2020-10-27'</span>, <span style=\"color: #008000; text-decoration-color: #008000\">'n_items'</span>: <span style=\"color: #008080; text-decoration-color: #008080; font-weight: bold\">23</span>, \n",
       "<span style=\"color: #008000; text-decoration-color: #008000\">'description'</span>: <span style=\"color: #800080; text-decoration-color: #800080; font-style: italic\">None</span>, <span style=\"color: #008000; text-decoration-color: #008000\">'n_followers'</span>: <span style=\"color: #008080; text-decoration-color: #008080; font-weight: bold\">0</span><span style=\"font-weight: bold\">}</span>\n",
       "</pre>\n"
      ],
      "text/plain": [
       "Appending playlist:\n",
       "\u001b[1m{\u001b[0m\u001b[32m'name'\u001b[0m: \u001b[32m'21st Century Thugz Vol. IV'\u001b[0m, \u001b[32m'last_modified_date'\u001b[0m: \u001b[32m'2020-10-27'\u001b[0m, \u001b[32m'n_items'\u001b[0m: \u001b[1;36m23\u001b[0m, \n",
       "\u001b[32m'description'\u001b[0m: \u001b[3;35mNone\u001b[0m, \u001b[32m'n_followers'\u001b[0m: \u001b[1;36m0\u001b[0m\u001b[1m}\u001b[0m\n"
      ]
     },
     "metadata": {},
     "output_type": "display_data"
    },
    {
     "data": {
      "text/html": [
       "<pre style=\"white-space:pre;overflow-x:auto;line-height:normal;font-family:Menlo,'DejaVu Sans Mono',consolas,'Courier New',monospace\">Appending playlist:\n",
       "<span style=\"font-weight: bold\">{</span><span style=\"color: #008000; text-decoration-color: #008000\">'name'</span>: <span style=\"color: #008000; text-decoration-color: #008000\">'21st Century Thugz Vol. III'</span>, <span style=\"color: #008000; text-decoration-color: #008000\">'last_modified_date'</span>: <span style=\"color: #008000; text-decoration-color: #008000\">'2020-10-27'</span>, <span style=\"color: #008000; text-decoration-color: #008000\">'n_items'</span>: <span style=\"color: #008080; text-decoration-color: #008080; font-weight: bold\">18</span>, \n",
       "<span style=\"color: #008000; text-decoration-color: #008000\">'description'</span>: <span style=\"color: #800080; text-decoration-color: #800080; font-style: italic\">None</span>, <span style=\"color: #008000; text-decoration-color: #008000\">'n_followers'</span>: <span style=\"color: #008080; text-decoration-color: #008080; font-weight: bold\">0</span><span style=\"font-weight: bold\">}</span>\n",
       "</pre>\n"
      ],
      "text/plain": [
       "Appending playlist:\n",
       "\u001b[1m{\u001b[0m\u001b[32m'name'\u001b[0m: \u001b[32m'21st Century Thugz Vol. III'\u001b[0m, \u001b[32m'last_modified_date'\u001b[0m: \u001b[32m'2020-10-27'\u001b[0m, \u001b[32m'n_items'\u001b[0m: \u001b[1;36m18\u001b[0m, \n",
       "\u001b[32m'description'\u001b[0m: \u001b[3;35mNone\u001b[0m, \u001b[32m'n_followers'\u001b[0m: \u001b[1;36m0\u001b[0m\u001b[1m}\u001b[0m\n"
      ]
     },
     "metadata": {},
     "output_type": "display_data"
    },
    {
     "data": {
      "text/html": [
       "<pre style=\"white-space:pre;overflow-x:auto;line-height:normal;font-family:Menlo,'DejaVu Sans Mono',consolas,'Courier New',monospace\">Appending playlist:\n",
       "<span style=\"font-weight: bold\">{</span><span style=\"color: #008000; text-decoration-color: #008000\">'name'</span>: <span style=\"color: #008000; text-decoration-color: #008000\">'21st Century Thugz Vol. II'</span>, <span style=\"color: #008000; text-decoration-color: #008000\">'last_modified_date'</span>: <span style=\"color: #008000; text-decoration-color: #008000\">'2018-09-18'</span>, <span style=\"color: #008000; text-decoration-color: #008000\">'n_items'</span>: <span style=\"color: #008080; text-decoration-color: #008080; font-weight: bold\">44</span>, \n",
       "<span style=\"color: #008000; text-decoration-color: #008000\">'description'</span>: <span style=\"color: #800080; text-decoration-color: #800080; font-style: italic\">None</span>, <span style=\"color: #008000; text-decoration-color: #008000\">'n_followers'</span>: <span style=\"color: #008080; text-decoration-color: #008080; font-weight: bold\">0</span><span style=\"font-weight: bold\">}</span>\n",
       "</pre>\n"
      ],
      "text/plain": [
       "Appending playlist:\n",
       "\u001b[1m{\u001b[0m\u001b[32m'name'\u001b[0m: \u001b[32m'21st Century Thugz Vol. II'\u001b[0m, \u001b[32m'last_modified_date'\u001b[0m: \u001b[32m'2018-09-18'\u001b[0m, \u001b[32m'n_items'\u001b[0m: \u001b[1;36m44\u001b[0m, \n",
       "\u001b[32m'description'\u001b[0m: \u001b[3;35mNone\u001b[0m, \u001b[32m'n_followers'\u001b[0m: \u001b[1;36m0\u001b[0m\u001b[1m}\u001b[0m\n"
      ]
     },
     "metadata": {},
     "output_type": "display_data"
    },
    {
     "data": {
      "text/html": [
       "<pre style=\"white-space:pre;overflow-x:auto;line-height:normal;font-family:Menlo,'DejaVu Sans Mono',consolas,'Courier New',monospace\">Appending playlist:\n",
       "<span style=\"font-weight: bold\">{</span><span style=\"color: #008000; text-decoration-color: #008000\">'name'</span>: <span style=\"color: #008000; text-decoration-color: #008000\">'21st Century Thugz Vol. I'</span>, <span style=\"color: #008000; text-decoration-color: #008000\">'last_modified_date'</span>: <span style=\"color: #008000; text-decoration-color: #008000\">'2020-10-27'</span>, <span style=\"color: #008000; text-decoration-color: #008000\">'n_items'</span>: <span style=\"color: #008080; text-decoration-color: #008080; font-weight: bold\">27</span>, \n",
       "<span style=\"color: #008000; text-decoration-color: #008000\">'description'</span>: <span style=\"color: #800080; text-decoration-color: #800080; font-style: italic\">None</span>, <span style=\"color: #008000; text-decoration-color: #008000\">'n_followers'</span>: <span style=\"color: #008080; text-decoration-color: #008080; font-weight: bold\">0</span><span style=\"font-weight: bold\">}</span>\n",
       "</pre>\n"
      ],
      "text/plain": [
       "Appending playlist:\n",
       "\u001b[1m{\u001b[0m\u001b[32m'name'\u001b[0m: \u001b[32m'21st Century Thugz Vol. I'\u001b[0m, \u001b[32m'last_modified_date'\u001b[0m: \u001b[32m'2020-10-27'\u001b[0m, \u001b[32m'n_items'\u001b[0m: \u001b[1;36m27\u001b[0m, \n",
       "\u001b[32m'description'\u001b[0m: \u001b[3;35mNone\u001b[0m, \u001b[32m'n_followers'\u001b[0m: \u001b[1;36m0\u001b[0m\u001b[1m}\u001b[0m\n"
      ]
     },
     "metadata": {},
     "output_type": "display_data"
    },
    {
     "data": {
      "text/html": [
       "<pre style=\"white-space:pre;overflow-x:auto;line-height:normal;font-family:Menlo,'DejaVu Sans Mono',consolas,'Courier New',monospace\">Appending playlist:\n",
       "<span style=\"font-weight: bold\">{</span><span style=\"color: #008000; text-decoration-color: #008000\">'name'</span>: <span style=\"color: #008000; text-decoration-color: #008000\">'La danza del fuego'</span>, <span style=\"color: #008000; text-decoration-color: #008000\">'last_modified_date'</span>: <span style=\"color: #008000; text-decoration-color: #008000\">'2021-03-04'</span>, <span style=\"color: #008000; text-decoration-color: #008000\">'n_items'</span>: <span style=\"color: #008080; text-decoration-color: #008080; font-weight: bold\">6</span>, \n",
       "<span style=\"color: #008000; text-decoration-color: #008000\">'description'</span>: <span style=\"color: #800080; text-decoration-color: #800080; font-style: italic\">None</span>, <span style=\"color: #008000; text-decoration-color: #008000\">'n_followers'</span>: <span style=\"color: #008080; text-decoration-color: #008080; font-weight: bold\">0</span><span style=\"font-weight: bold\">}</span>\n",
       "</pre>\n"
      ],
      "text/plain": [
       "Appending playlist:\n",
       "\u001b[1m{\u001b[0m\u001b[32m'name'\u001b[0m: \u001b[32m'La danza del fuego'\u001b[0m, \u001b[32m'last_modified_date'\u001b[0m: \u001b[32m'2021-03-04'\u001b[0m, \u001b[32m'n_items'\u001b[0m: \u001b[1;36m6\u001b[0m, \n",
       "\u001b[32m'description'\u001b[0m: \u001b[3;35mNone\u001b[0m, \u001b[32m'n_followers'\u001b[0m: \u001b[1;36m0\u001b[0m\u001b[1m}\u001b[0m\n"
      ]
     },
     "metadata": {},
     "output_type": "display_data"
    },
    {
     "data": {
      "text/html": [
       "<pre style=\"white-space:pre;overflow-x:auto;line-height:normal;font-family:Menlo,'DejaVu Sans Mono',consolas,'Courier New',monospace\">Appending playlist:\n",
       "<span style=\"font-weight: bold\">{</span><span style=\"color: #008000; text-decoration-color: #008000\">'name'</span>: <span style=\"color: #008000; text-decoration-color: #008000\">'Lo Que Ando Oyendo'</span>, <span style=\"color: #008000; text-decoration-color: #008000\">'last_modified_date'</span>: <span style=\"color: #008000; text-decoration-color: #008000\">'2021-03-15'</span>, <span style=\"color: #008000; text-decoration-color: #008000\">'n_items'</span>: <span style=\"color: #008080; text-decoration-color: #008080; font-weight: bold\">40</span>, \n",
       "<span style=\"color: #008000; text-decoration-color: #008000\">'description'</span>: <span style=\"color: #800080; text-decoration-color: #800080; font-style: italic\">None</span>, <span style=\"color: #008000; text-decoration-color: #008000\">'n_followers'</span>: <span style=\"color: #008080; text-decoration-color: #008080; font-weight: bold\">1</span><span style=\"font-weight: bold\">}</span>\n",
       "</pre>\n"
      ],
      "text/plain": [
       "Appending playlist:\n",
       "\u001b[1m{\u001b[0m\u001b[32m'name'\u001b[0m: \u001b[32m'Lo Que Ando Oyendo'\u001b[0m, \u001b[32m'last_modified_date'\u001b[0m: \u001b[32m'2021-03-15'\u001b[0m, \u001b[32m'n_items'\u001b[0m: \u001b[1;36m40\u001b[0m, \n",
       "\u001b[32m'description'\u001b[0m: \u001b[3;35mNone\u001b[0m, \u001b[32m'n_followers'\u001b[0m: \u001b[1;36m1\u001b[0m\u001b[1m}\u001b[0m\n"
      ]
     },
     "metadata": {},
     "output_type": "display_data"
    },
    {
     "data": {
      "text/html": [
       "<pre style=\"white-space:pre;overflow-x:auto;line-height:normal;font-family:Menlo,'DejaVu Sans Mono',consolas,'Courier New',monospace\">Appending playlist:\n",
       "<span style=\"font-weight: bold\">{</span><span style=\"color: #008000; text-decoration-color: #008000\">'name'</span>: <span style=\"color: #008000; text-decoration-color: #008000\">'Rich Vagos – Seasson 1'</span>, <span style=\"color: #008000; text-decoration-color: #008000\">'last_modified_date'</span>: <span style=\"color: #008000; text-decoration-color: #008000\">'2021-01-08'</span>, <span style=\"color: #008000; text-decoration-color: #008000\">'n_items'</span>: <span style=\"color: #008080; text-decoration-color: #008080; font-weight: bold\">9</span>, \n",
       "<span style=\"color: #008000; text-decoration-color: #008000\">'description'</span>: <span style=\"color: #800080; text-decoration-color: #800080; font-style: italic\">None</span>, <span style=\"color: #008000; text-decoration-color: #008000\">'n_followers'</span>: <span style=\"color: #008080; text-decoration-color: #008080; font-weight: bold\">0</span><span style=\"font-weight: bold\">}</span>\n",
       "</pre>\n"
      ],
      "text/plain": [
       "Appending playlist:\n",
       "\u001b[1m{\u001b[0m\u001b[32m'name'\u001b[0m: \u001b[32m'Rich Vagos – Seasson 1'\u001b[0m, \u001b[32m'last_modified_date'\u001b[0m: \u001b[32m'2021-01-08'\u001b[0m, \u001b[32m'n_items'\u001b[0m: \u001b[1;36m9\u001b[0m, \n",
       "\u001b[32m'description'\u001b[0m: \u001b[3;35mNone\u001b[0m, \u001b[32m'n_followers'\u001b[0m: \u001b[1;36m0\u001b[0m\u001b[1m}\u001b[0m\n"
      ]
     },
     "metadata": {},
     "output_type": "display_data"
    },
    {
     "data": {
      "text/html": [
       "<pre style=\"white-space:pre;overflow-x:auto;line-height:normal;font-family:Menlo,'DejaVu Sans Mono',consolas,'Courier New',monospace\">Appending playlist:\n",
       "<span style=\"font-weight: bold\">{</span><span style=\"color: #008000; text-decoration-color: #008000\">'name'</span>: <span style=\"color: #008000; text-decoration-color: #008000\">'ZTFO'</span>, <span style=\"color: #008000; text-decoration-color: #008000\">'last_modified_date'</span>: <span style=\"color: #008000; text-decoration-color: #008000\">'2021-01-07'</span>, <span style=\"color: #008000; text-decoration-color: #008000\">'n_items'</span>: <span style=\"color: #008080; text-decoration-color: #008080; font-weight: bold\">10</span>, <span style=\"color: #008000; text-decoration-color: #008000\">'description'</span>: <span style=\"color: #800080; text-decoration-color: #800080; font-style: italic\">None</span>, \n",
       "<span style=\"color: #008000; text-decoration-color: #008000\">'n_followers'</span>: <span style=\"color: #008080; text-decoration-color: #008080; font-weight: bold\">0</span><span style=\"font-weight: bold\">}</span>\n",
       "</pre>\n"
      ],
      "text/plain": [
       "Appending playlist:\n",
       "\u001b[1m{\u001b[0m\u001b[32m'name'\u001b[0m: \u001b[32m'ZTFO'\u001b[0m, \u001b[32m'last_modified_date'\u001b[0m: \u001b[32m'2021-01-07'\u001b[0m, \u001b[32m'n_items'\u001b[0m: \u001b[1;36m10\u001b[0m, \u001b[32m'description'\u001b[0m: \u001b[3;35mNone\u001b[0m, \n",
       "\u001b[32m'n_followers'\u001b[0m: \u001b[1;36m0\u001b[0m\u001b[1m}\u001b[0m\n"
      ]
     },
     "metadata": {},
     "output_type": "display_data"
    },
    {
     "data": {
      "text/html": [
       "<pre style=\"white-space:pre;overflow-x:auto;line-height:normal;font-family:Menlo,'DejaVu Sans Mono',consolas,'Courier New',monospace\">Appending playlist:\n",
       "<span style=\"font-weight: bold\">{</span><span style=\"color: #008000; text-decoration-color: #008000\">'name'</span>: <span style=\"color: #008000; text-decoration-color: #008000\">'VXR$X$'</span>, <span style=\"color: #008000; text-decoration-color: #008000\">'last_modified_date'</span>: <span style=\"color: #008000; text-decoration-color: #008000\">'2021-01-05'</span>, <span style=\"color: #008000; text-decoration-color: #008000\">'n_items'</span>: <span style=\"color: #008080; text-decoration-color: #008080; font-weight: bold\">2</span>, <span style=\"color: #008000; text-decoration-color: #008000\">'description'</span>: <span style=\"color: #800080; text-decoration-color: #800080; font-style: italic\">None</span>, \n",
       "<span style=\"color: #008000; text-decoration-color: #008000\">'n_followers'</span>: <span style=\"color: #008080; text-decoration-color: #008080; font-weight: bold\">0</span><span style=\"font-weight: bold\">}</span>\n",
       "</pre>\n"
      ],
      "text/plain": [
       "Appending playlist:\n",
       "\u001b[1m{\u001b[0m\u001b[32m'name'\u001b[0m: \u001b[32m'VXR$X$'\u001b[0m, \u001b[32m'last_modified_date'\u001b[0m: \u001b[32m'2021-01-05'\u001b[0m, \u001b[32m'n_items'\u001b[0m: \u001b[1;36m2\u001b[0m, \u001b[32m'description'\u001b[0m: \u001b[3;35mNone\u001b[0m, \n",
       "\u001b[32m'n_followers'\u001b[0m: \u001b[1;36m0\u001b[0m\u001b[1m}\u001b[0m\n"
      ]
     },
     "metadata": {},
     "output_type": "display_data"
    },
    {
     "data": {
      "text/html": [
       "<pre style=\"white-space:pre;overflow-x:auto;line-height:normal;font-family:Menlo,'DejaVu Sans Mono',consolas,'Courier New',monospace\">Appending playlist:\n",
       "<span style=\"font-weight: bold\">{</span><span style=\"color: #008000; text-decoration-color: #008000\">'name'</span>: <span style=\"color: #008000; text-decoration-color: #008000\">'N Side '</span>, <span style=\"color: #008000; text-decoration-color: #008000\">'last_modified_date'</span>: <span style=\"color: #008000; text-decoration-color: #008000\">'2021-01-05'</span>, <span style=\"color: #008000; text-decoration-color: #008000\">'n_items'</span>: <span style=\"color: #008080; text-decoration-color: #008080; font-weight: bold\">1</span>, <span style=\"color: #008000; text-decoration-color: #008000\">'description'</span>: <span style=\"color: #800080; text-decoration-color: #800080; font-style: italic\">None</span>, \n",
       "<span style=\"color: #008000; text-decoration-color: #008000\">'n_followers'</span>: <span style=\"color: #008080; text-decoration-color: #008080; font-weight: bold\">0</span><span style=\"font-weight: bold\">}</span>\n",
       "</pre>\n"
      ],
      "text/plain": [
       "Appending playlist:\n",
       "\u001b[1m{\u001b[0m\u001b[32m'name'\u001b[0m: \u001b[32m'N Side '\u001b[0m, \u001b[32m'last_modified_date'\u001b[0m: \u001b[32m'2021-01-05'\u001b[0m, \u001b[32m'n_items'\u001b[0m: \u001b[1;36m1\u001b[0m, \u001b[32m'description'\u001b[0m: \u001b[3;35mNone\u001b[0m, \n",
       "\u001b[32m'n_followers'\u001b[0m: \u001b[1;36m0\u001b[0m\u001b[1m}\u001b[0m\n"
      ]
     },
     "metadata": {},
     "output_type": "display_data"
    },
    {
     "data": {
      "text/html": [
       "<pre style=\"white-space:pre;overflow-x:auto;line-height:normal;font-family:Menlo,'DejaVu Sans Mono',consolas,'Courier New',monospace\">Appending playlist:\n",
       "<span style=\"font-weight: bold\">{</span><span style=\"color: #008000; text-decoration-color: #008000\">'name'</span>: <span style=\"color: #008000; text-decoration-color: #008000\">'La Chikibeibi Wedding'</span>, <span style=\"color: #008000; text-decoration-color: #008000\">'last_modified_date'</span>: <span style=\"color: #008000; text-decoration-color: #008000\">'2021-01-01'</span>, <span style=\"color: #008000; text-decoration-color: #008000\">'n_items'</span>: <span style=\"color: #008080; text-decoration-color: #008080; font-weight: bold\">9</span>, \n",
       "<span style=\"color: #008000; text-decoration-color: #008000\">'description'</span>: <span style=\"color: #800080; text-decoration-color: #800080; font-style: italic\">None</span>, <span style=\"color: #008000; text-decoration-color: #008000\">'n_followers'</span>: <span style=\"color: #008080; text-decoration-color: #008080; font-weight: bold\">0</span><span style=\"font-weight: bold\">}</span>\n",
       "</pre>\n"
      ],
      "text/plain": [
       "Appending playlist:\n",
       "\u001b[1m{\u001b[0m\u001b[32m'name'\u001b[0m: \u001b[32m'La Chikibeibi Wedding'\u001b[0m, \u001b[32m'last_modified_date'\u001b[0m: \u001b[32m'2021-01-01'\u001b[0m, \u001b[32m'n_items'\u001b[0m: \u001b[1;36m9\u001b[0m, \n",
       "\u001b[32m'description'\u001b[0m: \u001b[3;35mNone\u001b[0m, \u001b[32m'n_followers'\u001b[0m: \u001b[1;36m0\u001b[0m\u001b[1m}\u001b[0m\n"
      ]
     },
     "metadata": {},
     "output_type": "display_data"
    },
    {
     "data": {
      "text/html": [
       "<pre style=\"white-space:pre;overflow-x:auto;line-height:normal;font-family:Menlo,'DejaVu Sans Mono',consolas,'Courier New',monospace\">Appending playlist:\n",
       "<span style=\"font-weight: bold\">{</span><span style=\"color: #008000; text-decoration-color: #008000\">'name'</span>: <span style=\"color: #008000; text-decoration-color: #008000\">'✨el barrio✨'</span>, <span style=\"color: #008000; text-decoration-color: #008000\">'last_modified_date'</span>: <span style=\"color: #008000; text-decoration-color: #008000\">'2021-05-27'</span>, <span style=\"color: #008000; text-decoration-color: #008000\">'n_items'</span>: <span style=\"color: #008080; text-decoration-color: #008080; font-weight: bold\">3</span>, <span style=\"color: #008000; text-decoration-color: #008000\">'description'</span>: \n",
       "<span style=\"color: #800080; text-decoration-color: #800080; font-style: italic\">None</span>, <span style=\"color: #008000; text-decoration-color: #008000\">'n_followers'</span>: <span style=\"color: #008080; text-decoration-color: #008080; font-weight: bold\">0</span><span style=\"font-weight: bold\">}</span>\n",
       "</pre>\n"
      ],
      "text/plain": [
       "Appending playlist:\n",
       "\u001b[1m{\u001b[0m\u001b[32m'name'\u001b[0m: \u001b[32m'✨el barrio✨'\u001b[0m, \u001b[32m'last_modified_date'\u001b[0m: \u001b[32m'2021-05-27'\u001b[0m, \u001b[32m'n_items'\u001b[0m: \u001b[1;36m3\u001b[0m, \u001b[32m'description'\u001b[0m: \n",
       "\u001b[3;35mNone\u001b[0m, \u001b[32m'n_followers'\u001b[0m: \u001b[1;36m0\u001b[0m\u001b[1m}\u001b[0m\n"
      ]
     },
     "metadata": {},
     "output_type": "display_data"
    },
    {
     "data": {
      "text/html": [
       "<pre style=\"white-space:pre;overflow-x:auto;line-height:normal;font-family:Menlo,'DejaVu Sans Mono',consolas,'Courier New',monospace\">Appending playlist:\n",
       "<span style=\"font-weight: bold\">{</span><span style=\"color: #008000; text-decoration-color: #008000\">'name'</span>: <span style=\"color: #008000; text-decoration-color: #008000\">'Abrázame Muy Fuerte'</span>, <span style=\"color: #008000; text-decoration-color: #008000\">'last_modified_date'</span>: <span style=\"color: #008000; text-decoration-color: #008000\">'2020-12-23'</span>, <span style=\"color: #008000; text-decoration-color: #008000\">'n_items'</span>: <span style=\"color: #008080; text-decoration-color: #008080; font-weight: bold\">3</span>, \n",
       "<span style=\"color: #008000; text-decoration-color: #008000\">'description'</span>: <span style=\"color: #800080; text-decoration-color: #800080; font-style: italic\">None</span>, <span style=\"color: #008000; text-decoration-color: #008000\">'n_followers'</span>: <span style=\"color: #008080; text-decoration-color: #008080; font-weight: bold\">0</span><span style=\"font-weight: bold\">}</span>\n",
       "</pre>\n"
      ],
      "text/plain": [
       "Appending playlist:\n",
       "\u001b[1m{\u001b[0m\u001b[32m'name'\u001b[0m: \u001b[32m'Abrázame Muy Fuerte'\u001b[0m, \u001b[32m'last_modified_date'\u001b[0m: \u001b[32m'2020-12-23'\u001b[0m, \u001b[32m'n_items'\u001b[0m: \u001b[1;36m3\u001b[0m, \n",
       "\u001b[32m'description'\u001b[0m: \u001b[3;35mNone\u001b[0m, \u001b[32m'n_followers'\u001b[0m: \u001b[1;36m0\u001b[0m\u001b[1m}\u001b[0m\n"
      ]
     },
     "metadata": {},
     "output_type": "display_data"
    },
    {
     "data": {
      "text/html": [
       "<pre style=\"white-space:pre;overflow-x:auto;line-height:normal;font-family:Menlo,'DejaVu Sans Mono',consolas,'Courier New',monospace\">Appending playlist:\n",
       "<span style=\"font-weight: bold\">{</span><span style=\"color: #008000; text-decoration-color: #008000\">'name'</span>: <span style=\"color: #008000; text-decoration-color: #008000\">'Los Vecinos Saben Mi Nombre'</span>, <span style=\"color: #008000; text-decoration-color: #008000\">'last_modified_date'</span>: <span style=\"color: #008000; text-decoration-color: #008000\">'2020-12-21'</span>, <span style=\"color: #008000; text-decoration-color: #008000\">'n_items'</span>: <span style=\"color: #008080; text-decoration-color: #008080; font-weight: bold\">2</span>, \n",
       "<span style=\"color: #008000; text-decoration-color: #008000\">'description'</span>: <span style=\"color: #800080; text-decoration-color: #800080; font-style: italic\">None</span>, <span style=\"color: #008000; text-decoration-color: #008000\">'n_followers'</span>: <span style=\"color: #008080; text-decoration-color: #008080; font-weight: bold\">0</span><span style=\"font-weight: bold\">}</span>\n",
       "</pre>\n"
      ],
      "text/plain": [
       "Appending playlist:\n",
       "\u001b[1m{\u001b[0m\u001b[32m'name'\u001b[0m: \u001b[32m'Los Vecinos Saben Mi Nombre'\u001b[0m, \u001b[32m'last_modified_date'\u001b[0m: \u001b[32m'2020-12-21'\u001b[0m, \u001b[32m'n_items'\u001b[0m: \u001b[1;36m2\u001b[0m, \n",
       "\u001b[32m'description'\u001b[0m: \u001b[3;35mNone\u001b[0m, \u001b[32m'n_followers'\u001b[0m: \u001b[1;36m0\u001b[0m\u001b[1m}\u001b[0m\n"
      ]
     },
     "metadata": {},
     "output_type": "display_data"
    },
    {
     "data": {
      "text/html": [
       "<pre style=\"white-space:pre;overflow-x:auto;line-height:normal;font-family:Menlo,'DejaVu Sans Mono',consolas,'Courier New',monospace\">Appending playlist:\n",
       "<span style=\"font-weight: bold\">{</span><span style=\"color: #008000; text-decoration-color: #008000\">'name'</span>: <span style=\"color: #008000; text-decoration-color: #008000\">'No Te Confundas'</span>, <span style=\"color: #008000; text-decoration-color: #008000\">'last_modified_date'</span>: <span style=\"color: #008000; text-decoration-color: #008000\">'2020-12-20'</span>, <span style=\"color: #008000; text-decoration-color: #008000\">'n_items'</span>: <span style=\"color: #008080; text-decoration-color: #008080; font-weight: bold\">2</span>, <span style=\"color: #008000; text-decoration-color: #008000\">'description'</span>: \n",
       "<span style=\"color: #800080; text-decoration-color: #800080; font-style: italic\">None</span>, <span style=\"color: #008000; text-decoration-color: #008000\">'n_followers'</span>: <span style=\"color: #008080; text-decoration-color: #008080; font-weight: bold\">0</span><span style=\"font-weight: bold\">}</span>\n",
       "</pre>\n"
      ],
      "text/plain": [
       "Appending playlist:\n",
       "\u001b[1m{\u001b[0m\u001b[32m'name'\u001b[0m: \u001b[32m'No Te Confundas'\u001b[0m, \u001b[32m'last_modified_date'\u001b[0m: \u001b[32m'2020-12-20'\u001b[0m, \u001b[32m'n_items'\u001b[0m: \u001b[1;36m2\u001b[0m, \u001b[32m'description'\u001b[0m: \n",
       "\u001b[3;35mNone\u001b[0m, \u001b[32m'n_followers'\u001b[0m: \u001b[1;36m0\u001b[0m\u001b[1m}\u001b[0m\n"
      ]
     },
     "metadata": {},
     "output_type": "display_data"
    },
    {
     "data": {
      "text/html": [
       "<pre style=\"white-space:pre;overflow-x:auto;line-height:normal;font-family:Menlo,'DejaVu Sans Mono',consolas,'Courier New',monospace\">Appending playlist:\n",
       "<span style=\"font-weight: bold\">{</span><span style=\"color: #008000; text-decoration-color: #008000\">'name'</span>: <span style=\"color: #008000; text-decoration-color: #008000\">'to check'</span>, <span style=\"color: #008000; text-decoration-color: #008000\">'last_modified_date'</span>: <span style=\"color: #008000; text-decoration-color: #008000\">'2020-12-14'</span>, <span style=\"color: #008000; text-decoration-color: #008000\">'n_items'</span>: <span style=\"color: #008080; text-decoration-color: #008080; font-weight: bold\">1</span>, <span style=\"color: #008000; text-decoration-color: #008000\">'description'</span>: <span style=\"color: #800080; text-decoration-color: #800080; font-style: italic\">None</span>, \n",
       "<span style=\"color: #008000; text-decoration-color: #008000\">'n_followers'</span>: <span style=\"color: #008080; text-decoration-color: #008080; font-weight: bold\">0</span><span style=\"font-weight: bold\">}</span>\n",
       "</pre>\n"
      ],
      "text/plain": [
       "Appending playlist:\n",
       "\u001b[1m{\u001b[0m\u001b[32m'name'\u001b[0m: \u001b[32m'to check'\u001b[0m, \u001b[32m'last_modified_date'\u001b[0m: \u001b[32m'2020-12-14'\u001b[0m, \u001b[32m'n_items'\u001b[0m: \u001b[1;36m1\u001b[0m, \u001b[32m'description'\u001b[0m: \u001b[3;35mNone\u001b[0m, \n",
       "\u001b[32m'n_followers'\u001b[0m: \u001b[1;36m0\u001b[0m\u001b[1m}\u001b[0m\n"
      ]
     },
     "metadata": {},
     "output_type": "display_data"
    },
    {
     "data": {
      "text/html": [
       "<pre style=\"white-space:pre;overflow-x:auto;line-height:normal;font-family:Menlo,'DejaVu Sans Mono',consolas,'Courier New',monospace\">Appending playlist:\n",
       "<span style=\"font-weight: bold\">{</span><span style=\"color: #008000; text-decoration-color: #008000\">'name'</span>: <span style=\"color: #008000; text-decoration-color: #008000\">'samples'</span>, <span style=\"color: #008000; text-decoration-color: #008000\">'last_modified_date'</span>: <span style=\"color: #008000; text-decoration-color: #008000\">'2020-12-05'</span>, <span style=\"color: #008000; text-decoration-color: #008000\">'n_items'</span>: <span style=\"color: #008080; text-decoration-color: #008080; font-weight: bold\">2</span>, <span style=\"color: #008000; text-decoration-color: #008000\">'description'</span>: <span style=\"color: #800080; text-decoration-color: #800080; font-style: italic\">None</span>, \n",
       "<span style=\"color: #008000; text-decoration-color: #008000\">'n_followers'</span>: <span style=\"color: #008080; text-decoration-color: #008080; font-weight: bold\">0</span><span style=\"font-weight: bold\">}</span>\n",
       "</pre>\n"
      ],
      "text/plain": [
       "Appending playlist:\n",
       "\u001b[1m{\u001b[0m\u001b[32m'name'\u001b[0m: \u001b[32m'samples'\u001b[0m, \u001b[32m'last_modified_date'\u001b[0m: \u001b[32m'2020-12-05'\u001b[0m, \u001b[32m'n_items'\u001b[0m: \u001b[1;36m2\u001b[0m, \u001b[32m'description'\u001b[0m: \u001b[3;35mNone\u001b[0m, \n",
       "\u001b[32m'n_followers'\u001b[0m: \u001b[1;36m0\u001b[0m\u001b[1m}\u001b[0m\n"
      ]
     },
     "metadata": {},
     "output_type": "display_data"
    },
    {
     "data": {
      "text/html": [
       "<pre style=\"white-space:pre;overflow-x:auto;line-height:normal;font-family:Menlo,'DejaVu Sans Mono',consolas,'Courier New',monospace\">Appending playlist:\n",
       "<span style=\"font-weight: bold\">{</span><span style=\"color: #008000; text-decoration-color: #008000\">'name'</span>: <span style=\"color: #008000; text-decoration-color: #008000\">'qué importa '</span>, <span style=\"color: #008000; text-decoration-color: #008000\">'last_modified_date'</span>: <span style=\"color: #008000; text-decoration-color: #008000\">'2020-12-08'</span>, <span style=\"color: #008000; text-decoration-color: #008000\">'n_items'</span>: <span style=\"color: #008080; text-decoration-color: #008080; font-weight: bold\">11</span>, <span style=\"color: #008000; text-decoration-color: #008000\">'description'</span>: \n",
       "<span style=\"color: #800080; text-decoration-color: #800080; font-style: italic\">None</span>, <span style=\"color: #008000; text-decoration-color: #008000\">'n_followers'</span>: <span style=\"color: #008080; text-decoration-color: #008080; font-weight: bold\">0</span><span style=\"font-weight: bold\">}</span>\n",
       "</pre>\n"
      ],
      "text/plain": [
       "Appending playlist:\n",
       "\u001b[1m{\u001b[0m\u001b[32m'name'\u001b[0m: \u001b[32m'qué importa '\u001b[0m, \u001b[32m'last_modified_date'\u001b[0m: \u001b[32m'2020-12-08'\u001b[0m, \u001b[32m'n_items'\u001b[0m: \u001b[1;36m11\u001b[0m, \u001b[32m'description'\u001b[0m: \n",
       "\u001b[3;35mNone\u001b[0m, \u001b[32m'n_followers'\u001b[0m: \u001b[1;36m0\u001b[0m\u001b[1m}\u001b[0m\n"
      ]
     },
     "metadata": {},
     "output_type": "display_data"
    },
    {
     "data": {
      "text/html": [
       "<pre style=\"white-space:pre;overflow-x:auto;line-height:normal;font-family:Menlo,'DejaVu Sans Mono',consolas,'Courier New',monospace\">Appending playlist:\n",
       "<span style=\"font-weight: bold\">{</span><span style=\"color: #008000; text-decoration-color: #008000\">'name'</span>: <span style=\"color: #008000; text-decoration-color: #008000\">'Mexicans are perfect'</span>, <span style=\"color: #008000; text-decoration-color: #008000\">'last_modified_date'</span>: <span style=\"color: #008000; text-decoration-color: #008000\">'2020-11-30'</span>, <span style=\"color: #008000; text-decoration-color: #008000\">'n_items'</span>: <span style=\"color: #008080; text-decoration-color: #008080; font-weight: bold\">9</span>, \n",
       "<span style=\"color: #008000; text-decoration-color: #008000\">'description'</span>: <span style=\"color: #800080; text-decoration-color: #800080; font-style: italic\">None</span>, <span style=\"color: #008000; text-decoration-color: #008000\">'n_followers'</span>: <span style=\"color: #008080; text-decoration-color: #008080; font-weight: bold\">0</span><span style=\"font-weight: bold\">}</span>\n",
       "</pre>\n"
      ],
      "text/plain": [
       "Appending playlist:\n",
       "\u001b[1m{\u001b[0m\u001b[32m'name'\u001b[0m: \u001b[32m'Mexicans are perfect'\u001b[0m, \u001b[32m'last_modified_date'\u001b[0m: \u001b[32m'2020-11-30'\u001b[0m, \u001b[32m'n_items'\u001b[0m: \u001b[1;36m9\u001b[0m, \n",
       "\u001b[32m'description'\u001b[0m: \u001b[3;35mNone\u001b[0m, \u001b[32m'n_followers'\u001b[0m: \u001b[1;36m0\u001b[0m\u001b[1m}\u001b[0m\n"
      ]
     },
     "metadata": {},
     "output_type": "display_data"
    },
    {
     "data": {
      "text/html": [
       "<pre style=\"white-space:pre;overflow-x:auto;line-height:normal;font-family:Menlo,'DejaVu Sans Mono',consolas,'Courier New',monospace\">Appending playlist:\n",
       "<span style=\"font-weight: bold\">{</span><span style=\"color: #008000; text-decoration-color: #008000\">'name'</span>: <span style=\"color: #008000; text-decoration-color: #008000\">'Top 5 - 2020 '</span>, <span style=\"color: #008000; text-decoration-color: #008000\">'last_modified_date'</span>: <span style=\"color: #008000; text-decoration-color: #008000\">'2020-11-18'</span>, <span style=\"color: #008000; text-decoration-color: #008000\">'n_items'</span>: <span style=\"color: #008080; text-decoration-color: #008080; font-weight: bold\">15</span>, <span style=\"color: #008000; text-decoration-color: #008000\">'description'</span>: \n",
       "<span style=\"color: #008000; text-decoration-color: #008000\">'you get 5 songs. they have to have been discovered in 2020 (not necessarily released). go.'</span>,\n",
       "<span style=\"color: #008000; text-decoration-color: #008000\">'n_followers'</span>: <span style=\"color: #008080; text-decoration-color: #008080; font-weight: bold\">0</span><span style=\"font-weight: bold\">}</span>\n",
       "</pre>\n"
      ],
      "text/plain": [
       "Appending playlist:\n",
       "\u001b[1m{\u001b[0m\u001b[32m'name'\u001b[0m: \u001b[32m'Top 5 - 2020 '\u001b[0m, \u001b[32m'last_modified_date'\u001b[0m: \u001b[32m'2020-11-18'\u001b[0m, \u001b[32m'n_items'\u001b[0m: \u001b[1;36m15\u001b[0m, \u001b[32m'description'\u001b[0m: \n",
       "\u001b[32m'you get 5 songs. they have to have been discovered in 2020 \u001b[0m\u001b[32m(\u001b[0m\u001b[32mnot necessarily released\u001b[0m\u001b[32m)\u001b[0m\u001b[32m. go.'\u001b[0m,\n",
       "\u001b[32m'n_followers'\u001b[0m: \u001b[1;36m0\u001b[0m\u001b[1m}\u001b[0m\n"
      ]
     },
     "metadata": {},
     "output_type": "display_data"
    },
    {
     "data": {
      "text/html": [
       "<pre style=\"white-space:pre;overflow-x:auto;line-height:normal;font-family:Menlo,'DejaVu Sans Mono',consolas,'Courier New',monospace\">Appending playlist:\n",
       "<span style=\"font-weight: bold\">{</span><span style=\"color: #008000; text-decoration-color: #008000\">'name'</span>: <span style=\"color: #008000; text-decoration-color: #008000\">'FDT'</span>, <span style=\"color: #008000; text-decoration-color: #008000\">'last_modified_date'</span>: <span style=\"color: #008000; text-decoration-color: #008000\">'2020-12-29'</span>, <span style=\"color: #008000; text-decoration-color: #008000\">'n_items'</span>: <span style=\"color: #008080; text-decoration-color: #008080; font-weight: bold\">133</span>, <span style=\"color: #008000; text-decoration-color: #008000\">'description'</span>: <span style=\"color: #800080; text-decoration-color: #800080; font-style: italic\">None</span>, \n",
       "<span style=\"color: #008000; text-decoration-color: #008000\">'n_followers'</span>: <span style=\"color: #008080; text-decoration-color: #008080; font-weight: bold\">3</span><span style=\"font-weight: bold\">}</span>\n",
       "</pre>\n"
      ],
      "text/plain": [
       "Appending playlist:\n",
       "\u001b[1m{\u001b[0m\u001b[32m'name'\u001b[0m: \u001b[32m'FDT'\u001b[0m, \u001b[32m'last_modified_date'\u001b[0m: \u001b[32m'2020-12-29'\u001b[0m, \u001b[32m'n_items'\u001b[0m: \u001b[1;36m133\u001b[0m, \u001b[32m'description'\u001b[0m: \u001b[3;35mNone\u001b[0m, \n",
       "\u001b[32m'n_followers'\u001b[0m: \u001b[1;36m3\u001b[0m\u001b[1m}\u001b[0m\n"
      ]
     },
     "metadata": {},
     "output_type": "display_data"
    },
    {
     "data": {
      "text/html": [
       "<pre style=\"white-space:pre;overflow-x:auto;line-height:normal;font-family:Menlo,'DejaVu Sans Mono',consolas,'Courier New',monospace\">Appending playlist:\n",
       "<span style=\"font-weight: bold\">{</span><span style=\"color: #008000; text-decoration-color: #008000\">'name'</span>: <span style=\"color: #008000; text-decoration-color: #008000\">'Dakiti'</span>, <span style=\"color: #008000; text-decoration-color: #008000\">'last_modified_date'</span>: <span style=\"color: #008000; text-decoration-color: #008000\">'2021-01-14'</span>, <span style=\"color: #008000; text-decoration-color: #008000\">'n_items'</span>: <span style=\"color: #008080; text-decoration-color: #008080; font-weight: bold\">19</span>, <span style=\"color: #008000; text-decoration-color: #008000\">'description'</span>: <span style=\"color: #800080; text-decoration-color: #800080; font-style: italic\">None</span>, \n",
       "<span style=\"color: #008000; text-decoration-color: #008000\">'n_followers'</span>: <span style=\"color: #008080; text-decoration-color: #008080; font-weight: bold\">0</span><span style=\"font-weight: bold\">}</span>\n",
       "</pre>\n"
      ],
      "text/plain": [
       "Appending playlist:\n",
       "\u001b[1m{\u001b[0m\u001b[32m'name'\u001b[0m: \u001b[32m'Dakiti'\u001b[0m, \u001b[32m'last_modified_date'\u001b[0m: \u001b[32m'2021-01-14'\u001b[0m, \u001b[32m'n_items'\u001b[0m: \u001b[1;36m19\u001b[0m, \u001b[32m'description'\u001b[0m: \u001b[3;35mNone\u001b[0m, \n",
       "\u001b[32m'n_followers'\u001b[0m: \u001b[1;36m0\u001b[0m\u001b[1m}\u001b[0m\n"
      ]
     },
     "metadata": {},
     "output_type": "display_data"
    },
    {
     "data": {
      "text/html": [
       "<pre style=\"white-space:pre;overflow-x:auto;line-height:normal;font-family:Menlo,'DejaVu Sans Mono',consolas,'Courier New',monospace\">Appending playlist:\n",
       "<span style=\"font-weight: bold\">{</span><span style=\"color: #008000; text-decoration-color: #008000\">'name'</span>: <span style=\"color: #008000; text-decoration-color: #008000\">'My playlist #69'</span>, <span style=\"color: #008000; text-decoration-color: #008000\">'last_modified_date'</span>: <span style=\"color: #008000; text-decoration-color: #008000\">'2020-11-01'</span>, <span style=\"color: #008000; text-decoration-color: #008000\">'n_items'</span>: <span style=\"color: #008080; text-decoration-color: #008080; font-weight: bold\">8</span>, <span style=\"color: #008000; text-decoration-color: #008000\">'description'</span>: \n",
       "<span style=\"color: #800080; text-decoration-color: #800080; font-style: italic\">None</span>, <span style=\"color: #008000; text-decoration-color: #008000\">'n_followers'</span>: <span style=\"color: #008080; text-decoration-color: #008080; font-weight: bold\">0</span><span style=\"font-weight: bold\">}</span>\n",
       "</pre>\n"
      ],
      "text/plain": [
       "Appending playlist:\n",
       "\u001b[1m{\u001b[0m\u001b[32m'name'\u001b[0m: \u001b[32m'My playlist #69'\u001b[0m, \u001b[32m'last_modified_date'\u001b[0m: \u001b[32m'2020-11-01'\u001b[0m, \u001b[32m'n_items'\u001b[0m: \u001b[1;36m8\u001b[0m, \u001b[32m'description'\u001b[0m: \n",
       "\u001b[3;35mNone\u001b[0m, \u001b[32m'n_followers'\u001b[0m: \u001b[1;36m0\u001b[0m\u001b[1m}\u001b[0m\n"
      ]
     },
     "metadata": {},
     "output_type": "display_data"
    },
    {
     "data": {
      "text/html": [
       "<pre style=\"white-space:pre;overflow-x:auto;line-height:normal;font-family:Menlo,'DejaVu Sans Mono',consolas,'Courier New',monospace\">Appending playlist:\n",
       "<span style=\"font-weight: bold\">{</span><span style=\"color: #008000; text-decoration-color: #008000\">'name'</span>: <span style=\"color: #008000; text-decoration-color: #008000\">'Soldado Del Amor'</span>, <span style=\"color: #008000; text-decoration-color: #008000\">'last_modified_date'</span>: <span style=\"color: #008000; text-decoration-color: #008000\">'2020-10-16'</span>, <span style=\"color: #008000; text-decoration-color: #008000\">'n_items'</span>: <span style=\"color: #008080; text-decoration-color: #008080; font-weight: bold\">4</span>, <span style=\"color: #008000; text-decoration-color: #008000\">'description'</span>:\n",
       "<span style=\"color: #800080; text-decoration-color: #800080; font-style: italic\">None</span>, <span style=\"color: #008000; text-decoration-color: #008000\">'n_followers'</span>: <span style=\"color: #008080; text-decoration-color: #008080; font-weight: bold\">0</span><span style=\"font-weight: bold\">}</span>\n",
       "</pre>\n"
      ],
      "text/plain": [
       "Appending playlist:\n",
       "\u001b[1m{\u001b[0m\u001b[32m'name'\u001b[0m: \u001b[32m'Soldado Del Amor'\u001b[0m, \u001b[32m'last_modified_date'\u001b[0m: \u001b[32m'2020-10-16'\u001b[0m, \u001b[32m'n_items'\u001b[0m: \u001b[1;36m4\u001b[0m, \u001b[32m'description'\u001b[0m:\n",
       "\u001b[3;35mNone\u001b[0m, \u001b[32m'n_followers'\u001b[0m: \u001b[1;36m0\u001b[0m\u001b[1m}\u001b[0m\n"
      ]
     },
     "metadata": {},
     "output_type": "display_data"
    },
    {
     "data": {
      "text/html": [
       "<pre style=\"white-space:pre;overflow-x:auto;line-height:normal;font-family:Menlo,'DejaVu Sans Mono',consolas,'Courier New',monospace\">Appending playlist:\n",
       "<span style=\"font-weight: bold\">{</span><span style=\"color: #008000; text-decoration-color: #008000\">'name'</span>: <span style=\"color: #008000; text-decoration-color: #008000\">'Remik Gonzale e e ez'</span>, <span style=\"color: #008000; text-decoration-color: #008000\">'last_modified_date'</span>: <span style=\"color: #008000; text-decoration-color: #008000\">'2020-09-24'</span>, <span style=\"color: #008000; text-decoration-color: #008000\">'n_items'</span>: <span style=\"color: #008080; text-decoration-color: #008080; font-weight: bold\">30</span>, \n",
       "<span style=\"color: #008000; text-decoration-color: #008000\">'description'</span>: <span style=\"color: #800080; text-decoration-color: #800080; font-style: italic\">None</span>, <span style=\"color: #008000; text-decoration-color: #008000\">'n_followers'</span>: <span style=\"color: #008080; text-decoration-color: #008080; font-weight: bold\">0</span><span style=\"font-weight: bold\">}</span>\n",
       "</pre>\n"
      ],
      "text/plain": [
       "Appending playlist:\n",
       "\u001b[1m{\u001b[0m\u001b[32m'name'\u001b[0m: \u001b[32m'Remik Gonzale e e ez'\u001b[0m, \u001b[32m'last_modified_date'\u001b[0m: \u001b[32m'2020-09-24'\u001b[0m, \u001b[32m'n_items'\u001b[0m: \u001b[1;36m30\u001b[0m, \n",
       "\u001b[32m'description'\u001b[0m: \u001b[3;35mNone\u001b[0m, \u001b[32m'n_followers'\u001b[0m: \u001b[1;36m0\u001b[0m\u001b[1m}\u001b[0m\n"
      ]
     },
     "metadata": {},
     "output_type": "display_data"
    },
    {
     "data": {
      "text/html": [
       "<pre style=\"white-space:pre;overflow-x:auto;line-height:normal;font-family:Menlo,'DejaVu Sans Mono',consolas,'Courier New',monospace\">Appending playlist:\n",
       "<span style=\"font-weight: bold\">{</span><span style=\"color: #008000; text-decoration-color: #008000\">'name'</span>: <span style=\"color: #008000; text-decoration-color: #008000\">'No Love'</span>, <span style=\"color: #008000; text-decoration-color: #008000\">'last_modified_date'</span>: <span style=\"color: #008000; text-decoration-color: #008000\">'2020-09-18'</span>, <span style=\"color: #008000; text-decoration-color: #008000\">'n_items'</span>: <span style=\"color: #008080; text-decoration-color: #008080; font-weight: bold\">3</span>, <span style=\"color: #008000; text-decoration-color: #008000\">'description'</span>: <span style=\"color: #800080; text-decoration-color: #800080; font-style: italic\">None</span>, \n",
       "<span style=\"color: #008000; text-decoration-color: #008000\">'n_followers'</span>: <span style=\"color: #008080; text-decoration-color: #008080; font-weight: bold\">0</span><span style=\"font-weight: bold\">}</span>\n",
       "</pre>\n"
      ],
      "text/plain": [
       "Appending playlist:\n",
       "\u001b[1m{\u001b[0m\u001b[32m'name'\u001b[0m: \u001b[32m'No Love'\u001b[0m, \u001b[32m'last_modified_date'\u001b[0m: \u001b[32m'2020-09-18'\u001b[0m, \u001b[32m'n_items'\u001b[0m: \u001b[1;36m3\u001b[0m, \u001b[32m'description'\u001b[0m: \u001b[3;35mNone\u001b[0m, \n",
       "\u001b[32m'n_followers'\u001b[0m: \u001b[1;36m0\u001b[0m\u001b[1m}\u001b[0m\n"
      ]
     },
     "metadata": {},
     "output_type": "display_data"
    },
    {
     "data": {
      "text/html": [
       "<pre style=\"white-space:pre;overflow-x:auto;line-height:normal;font-family:Menlo,'DejaVu Sans Mono',consolas,'Courier New',monospace\">Appending playlist:\n",
       "<span style=\"font-weight: bold\">{</span><span style=\"color: #008000; text-decoration-color: #008000\">'name'</span>: <span style=\"color: #008000; text-decoration-color: #008000\">'Está Cabrón Ser Yo'</span>, <span style=\"color: #008000; text-decoration-color: #008000\">'last_modified_date'</span>: <span style=\"color: #008000; text-decoration-color: #008000\">'2020-09-30'</span>, <span style=\"color: #008000; text-decoration-color: #008000\">'n_items'</span>: <span style=\"color: #008080; text-decoration-color: #008080; font-weight: bold\">9</span>, \n",
       "<span style=\"color: #008000; text-decoration-color: #008000\">'description'</span>: <span style=\"color: #800080; text-decoration-color: #800080; font-style: italic\">None</span>, <span style=\"color: #008000; text-decoration-color: #008000\">'n_followers'</span>: <span style=\"color: #008080; text-decoration-color: #008080; font-weight: bold\">0</span><span style=\"font-weight: bold\">}</span>\n",
       "</pre>\n"
      ],
      "text/plain": [
       "Appending playlist:\n",
       "\u001b[1m{\u001b[0m\u001b[32m'name'\u001b[0m: \u001b[32m'Está Cabrón Ser Yo'\u001b[0m, \u001b[32m'last_modified_date'\u001b[0m: \u001b[32m'2020-09-30'\u001b[0m, \u001b[32m'n_items'\u001b[0m: \u001b[1;36m9\u001b[0m, \n",
       "\u001b[32m'description'\u001b[0m: \u001b[3;35mNone\u001b[0m, \u001b[32m'n_followers'\u001b[0m: \u001b[1;36m0\u001b[0m\u001b[1m}\u001b[0m\n"
      ]
     },
     "metadata": {},
     "output_type": "display_data"
    },
    {
     "data": {
      "text/html": [
       "<pre style=\"white-space:pre;overflow-x:auto;line-height:normal;font-family:Menlo,'DejaVu Sans Mono',consolas,'Courier New',monospace\">Appending playlist:\n",
       "<span style=\"font-weight: bold\">{</span><span style=\"color: #008000; text-decoration-color: #008000\">'name'</span>: <span style=\"color: #008000; text-decoration-color: #008000\">'90s? idk'</span>, <span style=\"color: #008000; text-decoration-color: #008000\">'last_modified_date'</span>: <span style=\"color: #008000; text-decoration-color: #008000\">'2020-09-11'</span>, <span style=\"color: #008000; text-decoration-color: #008000\">'n_items'</span>: <span style=\"color: #008080; text-decoration-color: #008080; font-weight: bold\">31</span>, <span style=\"color: #008000; text-decoration-color: #008000\">'description'</span>: \n",
       "<span style=\"color: #008000; text-decoration-color: #008000\">'something bouncy'</span>, <span style=\"color: #008000; text-decoration-color: #008000\">'n_followers'</span>: <span style=\"color: #008080; text-decoration-color: #008080; font-weight: bold\">0</span><span style=\"font-weight: bold\">}</span>\n",
       "</pre>\n"
      ],
      "text/plain": [
       "Appending playlist:\n",
       "\u001b[1m{\u001b[0m\u001b[32m'name'\u001b[0m: \u001b[32m'90s? idk'\u001b[0m, \u001b[32m'last_modified_date'\u001b[0m: \u001b[32m'2020-09-11'\u001b[0m, \u001b[32m'n_items'\u001b[0m: \u001b[1;36m31\u001b[0m, \u001b[32m'description'\u001b[0m: \n",
       "\u001b[32m'something bouncy'\u001b[0m, \u001b[32m'n_followers'\u001b[0m: \u001b[1;36m0\u001b[0m\u001b[1m}\u001b[0m\n"
      ]
     },
     "metadata": {},
     "output_type": "display_data"
    },
    {
     "data": {
      "text/html": [
       "<pre style=\"white-space:pre;overflow-x:auto;line-height:normal;font-family:Menlo,'DejaVu Sans Mono',consolas,'Courier New',monospace\">Appending playlist:\n",
       "<span style=\"font-weight: bold\">{</span><span style=\"color: #008000; text-decoration-color: #008000\">'name'</span>: <span style=\"color: #008000; text-decoration-color: #008000\">'Muerte En Hawaii'</span>, <span style=\"color: #008000; text-decoration-color: #008000\">'last_modified_date'</span>: <span style=\"color: #008000; text-decoration-color: #008000\">'2020-06-16'</span>, <span style=\"color: #008000; text-decoration-color: #008000\">'n_items'</span>: <span style=\"color: #008080; text-decoration-color: #008080; font-weight: bold\">12</span>, \n",
       "<span style=\"color: #008000; text-decoration-color: #008000\">'description'</span>: <span style=\"color: #800080; text-decoration-color: #800080; font-style: italic\">None</span>, <span style=\"color: #008000; text-decoration-color: #008000\">'n_followers'</span>: <span style=\"color: #008080; text-decoration-color: #008080; font-weight: bold\">0</span><span style=\"font-weight: bold\">}</span>\n",
       "</pre>\n"
      ],
      "text/plain": [
       "Appending playlist:\n",
       "\u001b[1m{\u001b[0m\u001b[32m'name'\u001b[0m: \u001b[32m'Muerte En Hawaii'\u001b[0m, \u001b[32m'last_modified_date'\u001b[0m: \u001b[32m'2020-06-16'\u001b[0m, \u001b[32m'n_items'\u001b[0m: \u001b[1;36m12\u001b[0m, \n",
       "\u001b[32m'description'\u001b[0m: \u001b[3;35mNone\u001b[0m, \u001b[32m'n_followers'\u001b[0m: \u001b[1;36m0\u001b[0m\u001b[1m}\u001b[0m\n"
      ]
     },
     "metadata": {},
     "output_type": "display_data"
    },
    {
     "data": {
      "text/html": [
       "<pre style=\"white-space:pre;overflow-x:auto;line-height:normal;font-family:Menlo,'DejaVu Sans Mono',consolas,'Courier New',monospace\">Appending playlist:\n",
       "<span style=\"font-weight: bold\">{</span><span style=\"color: #008000; text-decoration-color: #008000\">'name'</span>: <span style=\"color: #008000; text-decoration-color: #008000\">'Fiesta (Boombox Remix)  – Akapellah'</span>, <span style=\"color: #008000; text-decoration-color: #008000\">'last_modified_date'</span>: <span style=\"color: #008000; text-decoration-color: #008000\">'2020-07-27'</span>, \n",
       "<span style=\"color: #008000; text-decoration-color: #008000\">'n_items'</span>: <span style=\"color: #008080; text-decoration-color: #008080; font-weight: bold\">13</span>, <span style=\"color: #008000; text-decoration-color: #008000\">'description'</span>: <span style=\"color: #800080; text-decoration-color: #800080; font-style: italic\">None</span>, <span style=\"color: #008000; text-decoration-color: #008000\">'n_followers'</span>: <span style=\"color: #008080; text-decoration-color: #008080; font-weight: bold\">0</span><span style=\"font-weight: bold\">}</span>\n",
       "</pre>\n"
      ],
      "text/plain": [
       "Appending playlist:\n",
       "\u001b[1m{\u001b[0m\u001b[32m'name'\u001b[0m: \u001b[32m'Fiesta \u001b[0m\u001b[32m(\u001b[0m\u001b[32mBoombox Remix\u001b[0m\u001b[32m)\u001b[0m\u001b[32m \u001b[0m\u001b[32m – Akapellah'\u001b[0m, \u001b[32m'last_modified_date'\u001b[0m: \u001b[32m'2020-07-27'\u001b[0m, \n",
       "\u001b[32m'n_items'\u001b[0m: \u001b[1;36m13\u001b[0m, \u001b[32m'description'\u001b[0m: \u001b[3;35mNone\u001b[0m, \u001b[32m'n_followers'\u001b[0m: \u001b[1;36m0\u001b[0m\u001b[1m}\u001b[0m\n"
      ]
     },
     "metadata": {},
     "output_type": "display_data"
    },
    {
     "data": {
      "text/html": [
       "<pre style=\"white-space:pre;overflow-x:auto;line-height:normal;font-family:Menlo,'DejaVu Sans Mono',consolas,'Courier New',monospace\">Appending playlist:\n",
       "<span style=\"font-weight: bold\">{</span><span style=\"color: #008000; text-decoration-color: #008000\">'name'</span>: <span style=\"color: #008000; text-decoration-color: #008000\">'to check out'</span>, <span style=\"color: #008000; text-decoration-color: #008000\">'last_modified_date'</span>: <span style=\"color: #008000; text-decoration-color: #008000\">'2020-09-20'</span>, <span style=\"color: #008000; text-decoration-color: #008000\">'n_items'</span>: <span style=\"color: #008080; text-decoration-color: #008080; font-weight: bold\">5</span>, <span style=\"color: #008000; text-decoration-color: #008000\">'description'</span>: \n",
       "<span style=\"color: #800080; text-decoration-color: #800080; font-style: italic\">None</span>, <span style=\"color: #008000; text-decoration-color: #008000\">'n_followers'</span>: <span style=\"color: #008080; text-decoration-color: #008080; font-weight: bold\">0</span><span style=\"font-weight: bold\">}</span>\n",
       "</pre>\n"
      ],
      "text/plain": [
       "Appending playlist:\n",
       "\u001b[1m{\u001b[0m\u001b[32m'name'\u001b[0m: \u001b[32m'to check out'\u001b[0m, \u001b[32m'last_modified_date'\u001b[0m: \u001b[32m'2020-09-20'\u001b[0m, \u001b[32m'n_items'\u001b[0m: \u001b[1;36m5\u001b[0m, \u001b[32m'description'\u001b[0m: \n",
       "\u001b[3;35mNone\u001b[0m, \u001b[32m'n_followers'\u001b[0m: \u001b[1;36m0\u001b[0m\u001b[1m}\u001b[0m\n"
      ]
     },
     "metadata": {},
     "output_type": "display_data"
    },
    {
     "data": {
      "text/html": [
       "<pre style=\"white-space:pre;overflow-x:auto;line-height:normal;font-family:Menlo,'DejaVu Sans Mono',consolas,'Courier New',monospace\">Appending playlist:\n",
       "<span style=\"font-weight: bold\">{</span><span style=\"color: #008000; text-decoration-color: #008000\">'name'</span>: <span style=\"color: #008000; text-decoration-color: #008000\">'Soy Ilegal'</span>, <span style=\"color: #008000; text-decoration-color: #008000\">'last_modified_date'</span>: <span style=\"color: #008000; text-decoration-color: #008000\">'2021-03-01'</span>, <span style=\"color: #008000; text-decoration-color: #008000\">'n_items'</span>: <span style=\"color: #008080; text-decoration-color: #008080; font-weight: bold\">9</span>, <span style=\"color: #008000; text-decoration-color: #008000\">'description'</span>: <span style=\"color: #800080; text-decoration-color: #800080; font-style: italic\">None</span>,\n",
       "<span style=\"color: #008000; text-decoration-color: #008000\">'n_followers'</span>: <span style=\"color: #008080; text-decoration-color: #008080; font-weight: bold\">0</span><span style=\"font-weight: bold\">}</span>\n",
       "</pre>\n"
      ],
      "text/plain": [
       "Appending playlist:\n",
       "\u001b[1m{\u001b[0m\u001b[32m'name'\u001b[0m: \u001b[32m'Soy Ilegal'\u001b[0m, \u001b[32m'last_modified_date'\u001b[0m: \u001b[32m'2021-03-01'\u001b[0m, \u001b[32m'n_items'\u001b[0m: \u001b[1;36m9\u001b[0m, \u001b[32m'description'\u001b[0m: \u001b[3;35mNone\u001b[0m,\n",
       "\u001b[32m'n_followers'\u001b[0m: \u001b[1;36m0\u001b[0m\u001b[1m}\u001b[0m\n"
      ]
     },
     "metadata": {},
     "output_type": "display_data"
    },
    {
     "data": {
      "text/html": [
       "<pre style=\"white-space:pre;overflow-x:auto;line-height:normal;font-family:Menlo,'DejaVu Sans Mono',consolas,'Courier New',monospace\">Appending playlist:\n",
       "<span style=\"font-weight: bold\">{</span><span style=\"color: #008000; text-decoration-color: #008000\">'name'</span>: <span style=\"color: #008000; text-decoration-color: #008000\">'Self Care'</span>, <span style=\"color: #008000; text-decoration-color: #008000\">'last_modified_date'</span>: <span style=\"color: #008000; text-decoration-color: #008000\">'2020-06-11'</span>, <span style=\"color: #008000; text-decoration-color: #008000\">'n_items'</span>: <span style=\"color: #008080; text-decoration-color: #008080; font-weight: bold\">21</span>, <span style=\"color: #008000; text-decoration-color: #008000\">'description'</span>: <span style=\"color: #800080; text-decoration-color: #800080; font-style: italic\">None</span>,\n",
       "<span style=\"color: #008000; text-decoration-color: #008000\">'n_followers'</span>: <span style=\"color: #008080; text-decoration-color: #008080; font-weight: bold\">0</span><span style=\"font-weight: bold\">}</span>\n",
       "</pre>\n"
      ],
      "text/plain": [
       "Appending playlist:\n",
       "\u001b[1m{\u001b[0m\u001b[32m'name'\u001b[0m: \u001b[32m'Self Care'\u001b[0m, \u001b[32m'last_modified_date'\u001b[0m: \u001b[32m'2020-06-11'\u001b[0m, \u001b[32m'n_items'\u001b[0m: \u001b[1;36m21\u001b[0m, \u001b[32m'description'\u001b[0m: \u001b[3;35mNone\u001b[0m,\n",
       "\u001b[32m'n_followers'\u001b[0m: \u001b[1;36m0\u001b[0m\u001b[1m}\u001b[0m\n"
      ]
     },
     "metadata": {},
     "output_type": "display_data"
    },
    {
     "data": {
      "text/html": [
       "<pre style=\"white-space:pre;overflow-x:auto;line-height:normal;font-family:Menlo,'DejaVu Sans Mono',consolas,'Courier New',monospace\">Appending playlist:\n",
       "<span style=\"font-weight: bold\">{</span><span style=\"color: #008000; text-decoration-color: #008000\">'name'</span>: <span style=\"color: #008000; text-decoration-color: #008000\">'Donde Me Vine a Quedar'</span>, <span style=\"color: #008000; text-decoration-color: #008000\">'last_modified_date'</span>: <span style=\"color: #008000; text-decoration-color: #008000\">'2020-05-30'</span>, <span style=\"color: #008000; text-decoration-color: #008000\">'n_items'</span>: <span style=\"color: #008080; text-decoration-color: #008080; font-weight: bold\">11</span>, \n",
       "<span style=\"color: #008000; text-decoration-color: #008000\">'description'</span>: <span style=\"color: #800080; text-decoration-color: #800080; font-style: italic\">None</span>, <span style=\"color: #008000; text-decoration-color: #008000\">'n_followers'</span>: <span style=\"color: #008080; text-decoration-color: #008080; font-weight: bold\">0</span><span style=\"font-weight: bold\">}</span>\n",
       "</pre>\n"
      ],
      "text/plain": [
       "Appending playlist:\n",
       "\u001b[1m{\u001b[0m\u001b[32m'name'\u001b[0m: \u001b[32m'Donde Me Vine a Quedar'\u001b[0m, \u001b[32m'last_modified_date'\u001b[0m: \u001b[32m'2020-05-30'\u001b[0m, \u001b[32m'n_items'\u001b[0m: \u001b[1;36m11\u001b[0m, \n",
       "\u001b[32m'description'\u001b[0m: \u001b[3;35mNone\u001b[0m, \u001b[32m'n_followers'\u001b[0m: \u001b[1;36m0\u001b[0m\u001b[1m}\u001b[0m\n"
      ]
     },
     "metadata": {},
     "output_type": "display_data"
    },
    {
     "data": {
      "text/html": [
       "<pre style=\"white-space:pre;overflow-x:auto;line-height:normal;font-family:Menlo,'DejaVu Sans Mono',consolas,'Courier New',monospace\">Appending playlist:\n",
       "<span style=\"font-weight: bold\">{</span><span style=\"color: #008000; text-decoration-color: #008000\">'name'</span>: <span style=\"color: #008000; text-decoration-color: #008000\">'Spotify.Me'</span>, <span style=\"color: #008000; text-decoration-color: #008000\">'last_modified_date'</span>: <span style=\"color: #008000; text-decoration-color: #008000\">'2020-05-20'</span>, <span style=\"color: #008000; text-decoration-color: #008000\">'n_items'</span>: <span style=\"color: #008080; text-decoration-color: #008080; font-weight: bold\">20</span>, <span style=\"color: #008000; text-decoration-color: #008000\">'description'</span>: \n",
       "<span style=\"color: #800080; text-decoration-color: #800080; font-style: italic\">None</span>, <span style=\"color: #008000; text-decoration-color: #008000\">'n_followers'</span>: <span style=\"color: #008080; text-decoration-color: #008080; font-weight: bold\">0</span><span style=\"font-weight: bold\">}</span>\n",
       "</pre>\n"
      ],
      "text/plain": [
       "Appending playlist:\n",
       "\u001b[1m{\u001b[0m\u001b[32m'name'\u001b[0m: \u001b[32m'Spotify.Me'\u001b[0m, \u001b[32m'last_modified_date'\u001b[0m: \u001b[32m'2020-05-20'\u001b[0m, \u001b[32m'n_items'\u001b[0m: \u001b[1;36m20\u001b[0m, \u001b[32m'description'\u001b[0m: \n",
       "\u001b[3;35mNone\u001b[0m, \u001b[32m'n_followers'\u001b[0m: \u001b[1;36m0\u001b[0m\u001b[1m}\u001b[0m\n"
      ]
     },
     "metadata": {},
     "output_type": "display_data"
    },
    {
     "data": {
      "text/html": [
       "<pre style=\"white-space:pre;overflow-x:auto;line-height:normal;font-family:Menlo,'DejaVu Sans Mono',consolas,'Courier New',monospace\">Appending playlist:\n",
       "<span style=\"font-weight: bold\">{</span><span style=\"color: #008000; text-decoration-color: #008000\">'name'</span>: <span style=\"color: #008000; text-decoration-color: #008000\">'Todos en la Cuadra Bien Locos'</span>, <span style=\"color: #008000; text-decoration-color: #008000\">'last_modified_date'</span>: <span style=\"color: #008000; text-decoration-color: #008000\">'2020-05-30'</span>, <span style=\"color: #008000; text-decoration-color: #008000\">'n_items'</span>: <span style=\"color: #008080; text-decoration-color: #008080; font-weight: bold\">5</span>, \n",
       "<span style=\"color: #008000; text-decoration-color: #008000\">'description'</span>: <span style=\"color: #800080; text-decoration-color: #800080; font-style: italic\">None</span>, <span style=\"color: #008000; text-decoration-color: #008000\">'n_followers'</span>: <span style=\"color: #008080; text-decoration-color: #008080; font-weight: bold\">0</span><span style=\"font-weight: bold\">}</span>\n",
       "</pre>\n"
      ],
      "text/plain": [
       "Appending playlist:\n",
       "\u001b[1m{\u001b[0m\u001b[32m'name'\u001b[0m: \u001b[32m'Todos en la Cuadra Bien Locos'\u001b[0m, \u001b[32m'last_modified_date'\u001b[0m: \u001b[32m'2020-05-30'\u001b[0m, \u001b[32m'n_items'\u001b[0m: \u001b[1;36m5\u001b[0m, \n",
       "\u001b[32m'description'\u001b[0m: \u001b[3;35mNone\u001b[0m, \u001b[32m'n_followers'\u001b[0m: \u001b[1;36m0\u001b[0m\u001b[1m}\u001b[0m\n"
      ]
     },
     "metadata": {},
     "output_type": "display_data"
    },
    {
     "data": {
      "text/html": [
       "<pre style=\"white-space:pre;overflow-x:auto;line-height:normal;font-family:Menlo,'DejaVu Sans Mono',consolas,'Courier New',monospace\">Appending playlist:\n",
       "<span style=\"font-weight: bold\">{</span><span style=\"color: #008000; text-decoration-color: #008000\">'name'</span>: <span style=\"color: #008000; text-decoration-color: #008000\">'daily mix 2020-04-10'</span>, <span style=\"color: #008000; text-decoration-color: #008000\">'last_modified_date'</span>: <span style=\"color: #008000; text-decoration-color: #008000\">'2020-04-10'</span>, <span style=\"color: #008000; text-decoration-color: #008000\">'n_items'</span>: <span style=\"color: #008080; text-decoration-color: #008080; font-weight: bold\">49</span>, \n",
       "<span style=\"color: #008000; text-decoration-color: #008000\">'description'</span>: <span style=\"color: #800080; text-decoration-color: #800080; font-style: italic\">None</span>, <span style=\"color: #008000; text-decoration-color: #008000\">'n_followers'</span>: <span style=\"color: #008080; text-decoration-color: #008080; font-weight: bold\">0</span><span style=\"font-weight: bold\">}</span>\n",
       "</pre>\n"
      ],
      "text/plain": [
       "Appending playlist:\n",
       "\u001b[1m{\u001b[0m\u001b[32m'name'\u001b[0m: \u001b[32m'daily mix 2020-04-10'\u001b[0m, \u001b[32m'last_modified_date'\u001b[0m: \u001b[32m'2020-04-10'\u001b[0m, \u001b[32m'n_items'\u001b[0m: \u001b[1;36m49\u001b[0m, \n",
       "\u001b[32m'description'\u001b[0m: \u001b[3;35mNone\u001b[0m, \u001b[32m'n_followers'\u001b[0m: \u001b[1;36m0\u001b[0m\u001b[1m}\u001b[0m\n"
      ]
     },
     "metadata": {},
     "output_type": "display_data"
    },
    {
     "data": {
      "text/html": [
       "<pre style=\"white-space:pre;overflow-x:auto;line-height:normal;font-family:Menlo,'DejaVu Sans Mono',consolas,'Courier New',monospace\">Appending playlist:\n",
       "<span style=\"font-weight: bold\">{</span><span style=\"color: #008000; text-decoration-color: #008000\">'name'</span>: <span style=\"color: #008000; text-decoration-color: #008000\">'dj mix a lo plebe'</span>, <span style=\"color: #008000; text-decoration-color: #008000\">'last_modified_date'</span>: <span style=\"color: #008000; text-decoration-color: #008000\">'2020-07-22'</span>, <span style=\"color: #008000; text-decoration-color: #008000\">'n_items'</span>: <span style=\"color: #008080; text-decoration-color: #008080; font-weight: bold\">3</span>, \n",
       "<span style=\"color: #008000; text-decoration-color: #008000\">'description'</span>: <span style=\"color: #800080; text-decoration-color: #800080; font-style: italic\">None</span>, <span style=\"color: #008000; text-decoration-color: #008000\">'n_followers'</span>: <span style=\"color: #008080; text-decoration-color: #008080; font-weight: bold\">0</span><span style=\"font-weight: bold\">}</span>\n",
       "</pre>\n"
      ],
      "text/plain": [
       "Appending playlist:\n",
       "\u001b[1m{\u001b[0m\u001b[32m'name'\u001b[0m: \u001b[32m'dj mix a lo plebe'\u001b[0m, \u001b[32m'last_modified_date'\u001b[0m: \u001b[32m'2020-07-22'\u001b[0m, \u001b[32m'n_items'\u001b[0m: \u001b[1;36m3\u001b[0m, \n",
       "\u001b[32m'description'\u001b[0m: \u001b[3;35mNone\u001b[0m, \u001b[32m'n_followers'\u001b[0m: \u001b[1;36m0\u001b[0m\u001b[1m}\u001b[0m\n"
      ]
     },
     "metadata": {},
     "output_type": "display_data"
    },
    {
     "data": {
      "text/html": [
       "<pre style=\"white-space:pre;overflow-x:auto;line-height:normal;font-family:Menlo,'DejaVu Sans Mono',consolas,'Courier New',monospace\">Appending playlist:\n",
       "<span style=\"font-weight: bold\">{</span><span style=\"color: #008000; text-decoration-color: #008000\">'name'</span>: <span style=\"color: #008000; text-decoration-color: #008000\">'dj mix según'</span>, <span style=\"color: #008000; text-decoration-color: #008000\">'last_modified_date'</span>: <span style=\"color: #008000; text-decoration-color: #008000\">'2020-05-10'</span>, <span style=\"color: #008000; text-decoration-color: #008000\">'n_items'</span>: <span style=\"color: #008080; text-decoration-color: #008080; font-weight: bold\">7</span>, <span style=\"color: #008000; text-decoration-color: #008000\">'description'</span>: \n",
       "<span style=\"color: #800080; text-decoration-color: #800080; font-style: italic\">None</span>, <span style=\"color: #008000; text-decoration-color: #008000\">'n_followers'</span>: <span style=\"color: #008080; text-decoration-color: #008080; font-weight: bold\">0</span><span style=\"font-weight: bold\">}</span>\n",
       "</pre>\n"
      ],
      "text/plain": [
       "Appending playlist:\n",
       "\u001b[1m{\u001b[0m\u001b[32m'name'\u001b[0m: \u001b[32m'dj mix según'\u001b[0m, \u001b[32m'last_modified_date'\u001b[0m: \u001b[32m'2020-05-10'\u001b[0m, \u001b[32m'n_items'\u001b[0m: \u001b[1;36m7\u001b[0m, \u001b[32m'description'\u001b[0m: \n",
       "\u001b[3;35mNone\u001b[0m, \u001b[32m'n_followers'\u001b[0m: \u001b[1;36m0\u001b[0m\u001b[1m}\u001b[0m\n"
      ]
     },
     "metadata": {},
     "output_type": "display_data"
    },
    {
     "data": {
      "text/html": [
       "<pre style=\"white-space:pre;overflow-x:auto;line-height:normal;font-family:Menlo,'DejaVu Sans Mono',consolas,'Courier New',monospace\">Appending playlist:\n",
       "<span style=\"font-weight: bold\">{</span><span style=\"color: #008000; text-decoration-color: #008000\">'name'</span>: <span style=\"color: #008000; text-decoration-color: #008000\">'Daily Mix 2020-04-02'</span>, <span style=\"color: #008000; text-decoration-color: #008000\">'last_modified_date'</span>: <span style=\"color: #008000; text-decoration-color: #008000\">'2020-04-02'</span>, <span style=\"color: #008000; text-decoration-color: #008000\">'n_items'</span>: <span style=\"color: #008080; text-decoration-color: #008080; font-weight: bold\">49</span>, \n",
       "<span style=\"color: #008000; text-decoration-color: #008000\">'description'</span>: <span style=\"color: #008000; text-decoration-color: #008000\">'Estuvo buena.'</span>, <span style=\"color: #008000; text-decoration-color: #008000\">'n_followers'</span>: <span style=\"color: #008080; text-decoration-color: #008080; font-weight: bold\">0</span><span style=\"font-weight: bold\">}</span>\n",
       "</pre>\n"
      ],
      "text/plain": [
       "Appending playlist:\n",
       "\u001b[1m{\u001b[0m\u001b[32m'name'\u001b[0m: \u001b[32m'Daily Mix 2020-04-02'\u001b[0m, \u001b[32m'last_modified_date'\u001b[0m: \u001b[32m'2020-04-02'\u001b[0m, \u001b[32m'n_items'\u001b[0m: \u001b[1;36m49\u001b[0m, \n",
       "\u001b[32m'description'\u001b[0m: \u001b[32m'Estuvo buena.'\u001b[0m, \u001b[32m'n_followers'\u001b[0m: \u001b[1;36m0\u001b[0m\u001b[1m}\u001b[0m\n"
      ]
     },
     "metadata": {},
     "output_type": "display_data"
    },
    {
     "data": {
      "text/html": [
       "<pre style=\"white-space:pre;overflow-x:auto;line-height:normal;font-family:Menlo,'DejaVu Sans Mono',consolas,'Courier New',monospace\">Appending playlist:\n",
       "<span style=\"font-weight: bold\">{</span><span style=\"color: #008000; text-decoration-color: #008000\">'name'</span>: <span style=\"color: #008000; text-decoration-color: #008000\">'Spotify.Me'</span>, <span style=\"color: #008000; text-decoration-color: #008000\">'last_modified_date'</span>: <span style=\"color: #008000; text-decoration-color: #008000\">'2020-04-02'</span>, <span style=\"color: #008000; text-decoration-color: #008000\">'n_items'</span>: <span style=\"color: #008080; text-decoration-color: #008080; font-weight: bold\">20</span>, <span style=\"color: #008000; text-decoration-color: #008000\">'description'</span>: \n",
       "<span style=\"color: #800080; text-decoration-color: #800080; font-style: italic\">None</span>, <span style=\"color: #008000; text-decoration-color: #008000\">'n_followers'</span>: <span style=\"color: #008080; text-decoration-color: #008080; font-weight: bold\">0</span><span style=\"font-weight: bold\">}</span>\n",
       "</pre>\n"
      ],
      "text/plain": [
       "Appending playlist:\n",
       "\u001b[1m{\u001b[0m\u001b[32m'name'\u001b[0m: \u001b[32m'Spotify.Me'\u001b[0m, \u001b[32m'last_modified_date'\u001b[0m: \u001b[32m'2020-04-02'\u001b[0m, \u001b[32m'n_items'\u001b[0m: \u001b[1;36m20\u001b[0m, \u001b[32m'description'\u001b[0m: \n",
       "\u001b[3;35mNone\u001b[0m, \u001b[32m'n_followers'\u001b[0m: \u001b[1;36m0\u001b[0m\u001b[1m}\u001b[0m\n"
      ]
     },
     "metadata": {},
     "output_type": "display_data"
    },
    {
     "data": {
      "text/html": [
       "<pre style=\"white-space:pre;overflow-x:auto;line-height:normal;font-family:Menlo,'DejaVu Sans Mono',consolas,'Courier New',monospace\">Appending playlist:\n",
       "<span style=\"font-weight: bold\">{</span><span style=\"color: #008000; text-decoration-color: #008000\">'name'</span>: <span style=\"color: #008000; text-decoration-color: #008000\">'T.U.C.: Transnational Unauthorized Covers'</span>, <span style=\"color: #008000; text-decoration-color: #008000\">'last_modified_date'</span>: <span style=\"color: #008000; text-decoration-color: #008000\">'2020-06-25'</span>, \n",
       "<span style=\"color: #008000; text-decoration-color: #008000\">'n_items'</span>: <span style=\"color: #008080; text-decoration-color: #008080; font-weight: bold\">18</span>, <span style=\"color: #008000; text-decoration-color: #008000\">'description'</span>: <span style=\"color: #800080; text-decoration-color: #800080; font-style: italic\">None</span>, <span style=\"color: #008000; text-decoration-color: #008000\">'n_followers'</span>: <span style=\"color: #008080; text-decoration-color: #008080; font-weight: bold\">1</span><span style=\"font-weight: bold\">}</span>\n",
       "</pre>\n"
      ],
      "text/plain": [
       "Appending playlist:\n",
       "\u001b[1m{\u001b[0m\u001b[32m'name'\u001b[0m: \u001b[32m'T.U.C.: Transnational Unauthorized Covers'\u001b[0m, \u001b[32m'last_modified_date'\u001b[0m: \u001b[32m'2020-06-25'\u001b[0m, \n",
       "\u001b[32m'n_items'\u001b[0m: \u001b[1;36m18\u001b[0m, \u001b[32m'description'\u001b[0m: \u001b[3;35mNone\u001b[0m, \u001b[32m'n_followers'\u001b[0m: \u001b[1;36m1\u001b[0m\u001b[1m}\u001b[0m\n"
      ]
     },
     "metadata": {},
     "output_type": "display_data"
    },
    {
     "data": {
      "text/html": [
       "<pre style=\"white-space:pre;overflow-x:auto;line-height:normal;font-family:Menlo,'DejaVu Sans Mono',consolas,'Courier New',monospace\">Appending playlist:\n",
       "<span style=\"font-weight: bold\">{</span><span style=\"color: #008000; text-decoration-color: #008000\">'name'</span>: <span style=\"color: #008000; text-decoration-color: #008000\">'Jadakiss'</span>, <span style=\"color: #008000; text-decoration-color: #008000\">'last_modified_date'</span>: <span style=\"color: #008000; text-decoration-color: #008000\">'2020-03-31'</span>, <span style=\"color: #008000; text-decoration-color: #008000\">'n_items'</span>: <span style=\"color: #008080; text-decoration-color: #008080; font-weight: bold\">5</span>, <span style=\"color: #008000; text-decoration-color: #008000\">'description'</span>: <span style=\"color: #800080; text-decoration-color: #800080; font-style: italic\">None</span>, \n",
       "<span style=\"color: #008000; text-decoration-color: #008000\">'n_followers'</span>: <span style=\"color: #008080; text-decoration-color: #008080; font-weight: bold\">0</span><span style=\"font-weight: bold\">}</span>\n",
       "</pre>\n"
      ],
      "text/plain": [
       "Appending playlist:\n",
       "\u001b[1m{\u001b[0m\u001b[32m'name'\u001b[0m: \u001b[32m'Jadakiss'\u001b[0m, \u001b[32m'last_modified_date'\u001b[0m: \u001b[32m'2020-03-31'\u001b[0m, \u001b[32m'n_items'\u001b[0m: \u001b[1;36m5\u001b[0m, \u001b[32m'description'\u001b[0m: \u001b[3;35mNone\u001b[0m, \n",
       "\u001b[32m'n_followers'\u001b[0m: \u001b[1;36m0\u001b[0m\u001b[1m}\u001b[0m\n"
      ]
     },
     "metadata": {},
     "output_type": "display_data"
    },
    {
     "data": {
      "text/html": [
       "<pre style=\"white-space:pre;overflow-x:auto;line-height:normal;font-family:Menlo,'DejaVu Sans Mono',consolas,'Courier New',monospace\">local item.. skipping.\n",
       "</pre>\n"
      ],
      "text/plain": [
       "local item.. skipping.\n"
      ]
     },
     "metadata": {},
     "output_type": "display_data"
    },
    {
     "data": {
      "text/html": [
       "<pre style=\"white-space:pre;overflow-x:auto;line-height:normal;font-family:Menlo,'DejaVu Sans Mono',consolas,'Courier New',monospace\">local item.. skipping.\n",
       "</pre>\n"
      ],
      "text/plain": [
       "local item.. skipping.\n"
      ]
     },
     "metadata": {},
     "output_type": "display_data"
    },
    {
     "data": {
      "text/html": [
       "<pre style=\"white-space:pre;overflow-x:auto;line-height:normal;font-family:Menlo,'DejaVu Sans Mono',consolas,'Courier New',monospace\">local item.. skipping.\n",
       "</pre>\n"
      ],
      "text/plain": [
       "local item.. skipping.\n"
      ]
     },
     "metadata": {},
     "output_type": "display_data"
    },
    {
     "data": {
      "text/html": [
       "<pre style=\"white-space:pre;overflow-x:auto;line-height:normal;font-family:Menlo,'DejaVu Sans Mono',consolas,'Courier New',monospace\">local item.. skipping.\n",
       "</pre>\n"
      ],
      "text/plain": [
       "local item.. skipping.\n"
      ]
     },
     "metadata": {},
     "output_type": "display_data"
    },
    {
     "data": {
      "text/html": [
       "<pre style=\"white-space:pre;overflow-x:auto;line-height:normal;font-family:Menlo,'DejaVu Sans Mono',consolas,'Courier New',monospace\">Appending playlist:\n",
       "<span style=\"font-weight: bold\">{</span><span style=\"color: #008000; text-decoration-color: #008000\">'name'</span>: <span style=\"color: #008000; text-decoration-color: #008000\">'music my friends make'</span>, <span style=\"color: #008000; text-decoration-color: #008000\">'last_modified_date'</span>: <span style=\"color: #008000; text-decoration-color: #008000\">'2020-03-23'</span>, <span style=\"color: #008000; text-decoration-color: #008000\">'n_items'</span>: <span style=\"color: #008080; text-decoration-color: #008080; font-weight: bold\">4</span>, \n",
       "<span style=\"color: #008000; text-decoration-color: #008000\">'description'</span>: <span style=\"color: #008000; text-decoration-color: #008000\">'a playlist of the music my friends make'</span>, <span style=\"color: #008000; text-decoration-color: #008000\">'n_followers'</span>: <span style=\"color: #008080; text-decoration-color: #008080; font-weight: bold\">0</span><span style=\"font-weight: bold\">}</span>\n",
       "</pre>\n"
      ],
      "text/plain": [
       "Appending playlist:\n",
       "\u001b[1m{\u001b[0m\u001b[32m'name'\u001b[0m: \u001b[32m'music my friends make'\u001b[0m, \u001b[32m'last_modified_date'\u001b[0m: \u001b[32m'2020-03-23'\u001b[0m, \u001b[32m'n_items'\u001b[0m: \u001b[1;36m4\u001b[0m, \n",
       "\u001b[32m'description'\u001b[0m: \u001b[32m'a playlist of the music my friends make'\u001b[0m, \u001b[32m'n_followers'\u001b[0m: \u001b[1;36m0\u001b[0m\u001b[1m}\u001b[0m\n"
      ]
     },
     "metadata": {},
     "output_type": "display_data"
    },
    {
     "data": {
      "text/html": [
       "<pre style=\"white-space:pre;overflow-x:auto;line-height:normal;font-family:Menlo,'DejaVu Sans Mono',consolas,'Courier New',monospace\">Appending playlist:\n",
       "<span style=\"font-weight: bold\">{</span><span style=\"color: #008000; text-decoration-color: #008000\">'name'</span>: <span style=\"color: #008000; text-decoration-color: #008000\">'Hasta la Raíz'</span>, <span style=\"color: #008000; text-decoration-color: #008000\">'last_modified_date'</span>: <span style=\"color: #008000; text-decoration-color: #008000\">'2020-08-29'</span>, <span style=\"color: #008000; text-decoration-color: #008000\">'n_items'</span>: <span style=\"color: #008080; text-decoration-color: #008080; font-weight: bold\">7</span>, <span style=\"color: #008000; text-decoration-color: #008000\">'description'</span>: \n",
       "<span style=\"color: #800080; text-decoration-color: #800080; font-style: italic\">None</span>, <span style=\"color: #008000; text-decoration-color: #008000\">'n_followers'</span>: <span style=\"color: #008080; text-decoration-color: #008080; font-weight: bold\">0</span><span style=\"font-weight: bold\">}</span>\n",
       "</pre>\n"
      ],
      "text/plain": [
       "Appending playlist:\n",
       "\u001b[1m{\u001b[0m\u001b[32m'name'\u001b[0m: \u001b[32m'Hasta la Raíz'\u001b[0m, \u001b[32m'last_modified_date'\u001b[0m: \u001b[32m'2020-08-29'\u001b[0m, \u001b[32m'n_items'\u001b[0m: \u001b[1;36m7\u001b[0m, \u001b[32m'description'\u001b[0m: \n",
       "\u001b[3;35mNone\u001b[0m, \u001b[32m'n_followers'\u001b[0m: \u001b[1;36m0\u001b[0m\u001b[1m}\u001b[0m\n"
      ]
     },
     "metadata": {},
     "output_type": "display_data"
    },
    {
     "data": {
      "text/html": [
       "<pre style=\"white-space:pre;overflow-x:auto;line-height:normal;font-family:Menlo,'DejaVu Sans Mono',consolas,'Courier New',monospace\">Appending playlist:\n",
       "<span style=\"font-weight: bold\">{</span><span style=\"color: #008000; text-decoration-color: #008000\">'name'</span>: <span style=\"color: #008000; text-decoration-color: #008000\">'Moviendo Masas'</span>, <span style=\"color: #008000; text-decoration-color: #008000\">'last_modified_date'</span>: <span style=\"color: #008000; text-decoration-color: #008000\">'2020-02-21'</span>, <span style=\"color: #008000; text-decoration-color: #008000\">'n_items'</span>: <span style=\"color: #008080; text-decoration-color: #008080; font-weight: bold\">8</span>, <span style=\"color: #008000; text-decoration-color: #008000\">'description'</span>: \n",
       "<span style=\"color: #800080; text-decoration-color: #800080; font-style: italic\">None</span>, <span style=\"color: #008000; text-decoration-color: #008000\">'n_followers'</span>: <span style=\"color: #008080; text-decoration-color: #008080; font-weight: bold\">0</span><span style=\"font-weight: bold\">}</span>\n",
       "</pre>\n"
      ],
      "text/plain": [
       "Appending playlist:\n",
       "\u001b[1m{\u001b[0m\u001b[32m'name'\u001b[0m: \u001b[32m'Moviendo Masas'\u001b[0m, \u001b[32m'last_modified_date'\u001b[0m: \u001b[32m'2020-02-21'\u001b[0m, \u001b[32m'n_items'\u001b[0m: \u001b[1;36m8\u001b[0m, \u001b[32m'description'\u001b[0m: \n",
       "\u001b[3;35mNone\u001b[0m, \u001b[32m'n_followers'\u001b[0m: \u001b[1;36m0\u001b[0m\u001b[1m}\u001b[0m\n"
      ]
     },
     "metadata": {},
     "output_type": "display_data"
    },
    {
     "data": {
      "text/html": [
       "<pre style=\"white-space:pre;overflow-x:auto;line-height:normal;font-family:Menlo,'DejaVu Sans Mono',consolas,'Courier New',monospace\">Appending playlist:\n",
       "<span style=\"font-weight: bold\">{</span><span style=\"color: #008000; text-decoration-color: #008000\">'name'</span>: <span style=\"color: #008000; text-decoration-color: #008000\">'Frijolero'</span>, <span style=\"color: #008000; text-decoration-color: #008000\">'last_modified_date'</span>: <span style=\"color: #008000; text-decoration-color: #008000\">'2020-01-30'</span>, <span style=\"color: #008000; text-decoration-color: #008000\">'n_items'</span>: <span style=\"color: #008080; text-decoration-color: #008080; font-weight: bold\">8</span>, <span style=\"color: #008000; text-decoration-color: #008000\">'description'</span>: <span style=\"color: #800080; text-decoration-color: #800080; font-style: italic\">None</span>, \n",
       "<span style=\"color: #008000; text-decoration-color: #008000\">'n_followers'</span>: <span style=\"color: #008080; text-decoration-color: #008080; font-weight: bold\">0</span><span style=\"font-weight: bold\">}</span>\n",
       "</pre>\n"
      ],
      "text/plain": [
       "Appending playlist:\n",
       "\u001b[1m{\u001b[0m\u001b[32m'name'\u001b[0m: \u001b[32m'Frijolero'\u001b[0m, \u001b[32m'last_modified_date'\u001b[0m: \u001b[32m'2020-01-30'\u001b[0m, \u001b[32m'n_items'\u001b[0m: \u001b[1;36m8\u001b[0m, \u001b[32m'description'\u001b[0m: \u001b[3;35mNone\u001b[0m, \n",
       "\u001b[32m'n_followers'\u001b[0m: \u001b[1;36m0\u001b[0m\u001b[1m}\u001b[0m\n"
      ]
     },
     "metadata": {},
     "output_type": "display_data"
    },
    {
     "data": {
      "text/html": [
       "<pre style=\"white-space:pre;overflow-x:auto;line-height:normal;font-family:Menlo,'DejaVu Sans Mono',consolas,'Courier New',monospace\">Appending playlist:\n",
       "<span style=\"font-weight: bold\">{</span><span style=\"color: #008000; text-decoration-color: #008000\">'name'</span>: <span style=\"color: #008000; text-decoration-color: #008000\">'🤯'</span>, <span style=\"color: #008000; text-decoration-color: #008000\">'last_modified_date'</span>: <span style=\"color: #008000; text-decoration-color: #008000\">'2019-11-26'</span>, <span style=\"color: #008000; text-decoration-color: #008000\">'n_items'</span>: <span style=\"color: #008080; text-decoration-color: #008080; font-weight: bold\">1</span>, <span style=\"color: #008000; text-decoration-color: #008000\">'description'</span>: <span style=\"color: #800080; text-decoration-color: #800080; font-style: italic\">None</span>, \n",
       "<span style=\"color: #008000; text-decoration-color: #008000\">'n_followers'</span>: <span style=\"color: #008080; text-decoration-color: #008080; font-weight: bold\">0</span><span style=\"font-weight: bold\">}</span>\n",
       "</pre>\n"
      ],
      "text/plain": [
       "Appending playlist:\n",
       "\u001b[1m{\u001b[0m\u001b[32m'name'\u001b[0m: \u001b[32m'🤯'\u001b[0m, \u001b[32m'last_modified_date'\u001b[0m: \u001b[32m'2019-11-26'\u001b[0m, \u001b[32m'n_items'\u001b[0m: \u001b[1;36m1\u001b[0m, \u001b[32m'description'\u001b[0m: \u001b[3;35mNone\u001b[0m, \n",
       "\u001b[32m'n_followers'\u001b[0m: \u001b[1;36m0\u001b[0m\u001b[1m}\u001b[0m\n"
      ]
     },
     "metadata": {},
     "output_type": "display_data"
    },
    {
     "data": {
      "text/html": [
       "<pre style=\"white-space:pre;overflow-x:auto;line-height:normal;font-family:Menlo,'DejaVu Sans Mono',consolas,'Courier New',monospace\">Appending playlist:\n",
       "<span style=\"font-weight: bold\">{</span><span style=\"color: #008000; text-decoration-color: #008000\">'name'</span>: <span style=\"color: #008000; text-decoration-color: #008000\">'Una Pelicula de Willie DeVille'</span>, <span style=\"color: #008000; text-decoration-color: #008000\">'last_modified_date'</span>: <span style=\"color: #008000; text-decoration-color: #008000\">'2019-10-01'</span>, <span style=\"color: #008000; text-decoration-color: #008000\">'n_items'</span>: <span style=\"color: #008080; text-decoration-color: #008080; font-weight: bold\">17</span>,\n",
       "<span style=\"color: #008000; text-decoration-color: #008000\">'description'</span>: <span style=\"color: #800080; text-decoration-color: #800080; font-style: italic\">None</span>, <span style=\"color: #008000; text-decoration-color: #008000\">'n_followers'</span>: <span style=\"color: #008080; text-decoration-color: #008080; font-weight: bold\">0</span><span style=\"font-weight: bold\">}</span>\n",
       "</pre>\n"
      ],
      "text/plain": [
       "Appending playlist:\n",
       "\u001b[1m{\u001b[0m\u001b[32m'name'\u001b[0m: \u001b[32m'Una Pelicula de Willie DeVille'\u001b[0m, \u001b[32m'last_modified_date'\u001b[0m: \u001b[32m'2019-10-01'\u001b[0m, \u001b[32m'n_items'\u001b[0m: \u001b[1;36m17\u001b[0m,\n",
       "\u001b[32m'description'\u001b[0m: \u001b[3;35mNone\u001b[0m, \u001b[32m'n_followers'\u001b[0m: \u001b[1;36m0\u001b[0m\u001b[1m}\u001b[0m\n"
      ]
     },
     "metadata": {},
     "output_type": "display_data"
    },
    {
     "data": {
      "text/html": [
       "<pre style=\"white-space:pre;overflow-x:auto;line-height:normal;font-family:Menlo,'DejaVu Sans Mono',consolas,'Courier New',monospace\">Appending playlist:\n",
       "<span style=\"font-weight: bold\">{</span><span style=\"color: #008000; text-decoration-color: #008000\">'name'</span>: <span style=\"color: #008000; text-decoration-color: #008000\">'Aleman: pa antes de una entrevista de trabajo'</span>, <span style=\"color: #008000; text-decoration-color: #008000\">'last_modified_date'</span>: <span style=\"color: #008000; text-decoration-color: #008000\">'2019-10-09'</span>,\n",
       "<span style=\"color: #008000; text-decoration-color: #008000\">'n_items'</span>: <span style=\"color: #008080; text-decoration-color: #008080; font-weight: bold\">13</span>, <span style=\"color: #008000; text-decoration-color: #008000\">'description'</span>: <span style=\"color: #800080; text-decoration-color: #800080; font-style: italic\">None</span>, <span style=\"color: #008000; text-decoration-color: #008000\">'n_followers'</span>: <span style=\"color: #008080; text-decoration-color: #008080; font-weight: bold\">1</span><span style=\"font-weight: bold\">}</span>\n",
       "</pre>\n"
      ],
      "text/plain": [
       "Appending playlist:\n",
       "\u001b[1m{\u001b[0m\u001b[32m'name'\u001b[0m: \u001b[32m'Aleman: pa antes de una entrevista de trabajo'\u001b[0m, \u001b[32m'last_modified_date'\u001b[0m: \u001b[32m'2019-10-09'\u001b[0m,\n",
       "\u001b[32m'n_items'\u001b[0m: \u001b[1;36m13\u001b[0m, \u001b[32m'description'\u001b[0m: \u001b[3;35mNone\u001b[0m, \u001b[32m'n_followers'\u001b[0m: \u001b[1;36m1\u001b[0m\u001b[1m}\u001b[0m\n"
      ]
     },
     "metadata": {},
     "output_type": "display_data"
    },
    {
     "data": {
      "text/html": [
       "<pre style=\"white-space:pre;overflow-x:auto;line-height:normal;font-family:Menlo,'DejaVu Sans Mono',consolas,'Courier New',monospace\">Appending playlist:\n",
       "<span style=\"font-weight: bold\">{</span><span style=\"color: #008000; text-decoration-color: #008000\">'name'</span>: <span style=\"color: #008000; text-decoration-color: #008000\">'Yum Yum'</span>, <span style=\"color: #008000; text-decoration-color: #008000\">'last_modified_date'</span>: <span style=\"color: #008000; text-decoration-color: #008000\">'2019-09-03'</span>, <span style=\"color: #008000; text-decoration-color: #008000\">'n_items'</span>: <span style=\"color: #008080; text-decoration-color: #008080; font-weight: bold\">4</span>, <span style=\"color: #008000; text-decoration-color: #008000\">'description'</span>: <span style=\"color: #800080; text-decoration-color: #800080; font-style: italic\">None</span>, \n",
       "<span style=\"color: #008000; text-decoration-color: #008000\">'n_followers'</span>: <span style=\"color: #008080; text-decoration-color: #008080; font-weight: bold\">0</span><span style=\"font-weight: bold\">}</span>\n",
       "</pre>\n"
      ],
      "text/plain": [
       "Appending playlist:\n",
       "\u001b[1m{\u001b[0m\u001b[32m'name'\u001b[0m: \u001b[32m'Yum Yum'\u001b[0m, \u001b[32m'last_modified_date'\u001b[0m: \u001b[32m'2019-09-03'\u001b[0m, \u001b[32m'n_items'\u001b[0m: \u001b[1;36m4\u001b[0m, \u001b[32m'description'\u001b[0m: \u001b[3;35mNone\u001b[0m, \n",
       "\u001b[32m'n_followers'\u001b[0m: \u001b[1;36m0\u001b[0m\u001b[1m}\u001b[0m\n"
      ]
     },
     "metadata": {},
     "output_type": "display_data"
    },
    {
     "data": {
      "text/html": [
       "<pre style=\"white-space:pre;overflow-x:auto;line-height:normal;font-family:Menlo,'DejaVu Sans Mono',consolas,'Courier New',monospace\">Appending playlist:\n",
       "<span style=\"font-weight: bold\">{</span><span style=\"color: #008000; text-decoration-color: #008000\">'name'</span>: <span style=\"color: #008000; text-decoration-color: #008000\">'codear (2)'</span>, <span style=\"color: #008000; text-decoration-color: #008000\">'last_modified_date'</span>: <span style=\"color: #008000; text-decoration-color: #008000\">'2019-08-27'</span>, <span style=\"color: #008000; text-decoration-color: #008000\">'n_items'</span>: <span style=\"color: #008080; text-decoration-color: #008080; font-weight: bold\">128</span>, <span style=\"color: #008000; text-decoration-color: #008000\">'description'</span>: \n",
       "<span style=\"color: #800080; text-decoration-color: #800080; font-style: italic\">None</span>, <span style=\"color: #008000; text-decoration-color: #008000\">'n_followers'</span>: <span style=\"color: #008080; text-decoration-color: #008080; font-weight: bold\">0</span><span style=\"font-weight: bold\">}</span>\n",
       "</pre>\n"
      ],
      "text/plain": [
       "Appending playlist:\n",
       "\u001b[1m{\u001b[0m\u001b[32m'name'\u001b[0m: \u001b[32m'codear \u001b[0m\u001b[32m(\u001b[0m\u001b[32m2\u001b[0m\u001b[32m)\u001b[0m\u001b[32m'\u001b[0m, \u001b[32m'last_modified_date'\u001b[0m: \u001b[32m'2019-08-27'\u001b[0m, \u001b[32m'n_items'\u001b[0m: \u001b[1;36m128\u001b[0m, \u001b[32m'description'\u001b[0m: \n",
       "\u001b[3;35mNone\u001b[0m, \u001b[32m'n_followers'\u001b[0m: \u001b[1;36m0\u001b[0m\u001b[1m}\u001b[0m\n"
      ]
     },
     "metadata": {},
     "output_type": "display_data"
    },
    {
     "data": {
      "text/html": [
       "<pre style=\"white-space:pre;overflow-x:auto;line-height:normal;font-family:Menlo,'DejaVu Sans Mono',consolas,'Courier New',monospace\">Appending playlist:\n",
       "<span style=\"font-weight: bold\">{</span><span style=\"color: #008000; text-decoration-color: #008000\">'name'</span>: <span style=\"color: #008000; text-decoration-color: #008000\">'Spotify.Me'</span>, <span style=\"color: #008000; text-decoration-color: #008000\">'last_modified_date'</span>: <span style=\"color: #008000; text-decoration-color: #008000\">'2019-08-26'</span>, <span style=\"color: #008000; text-decoration-color: #008000\">'n_items'</span>: <span style=\"color: #008080; text-decoration-color: #008080; font-weight: bold\">20</span>, <span style=\"color: #008000; text-decoration-color: #008000\">'description'</span>: \n",
       "<span style=\"color: #800080; text-decoration-color: #800080; font-style: italic\">None</span>, <span style=\"color: #008000; text-decoration-color: #008000\">'n_followers'</span>: <span style=\"color: #008080; text-decoration-color: #008080; font-weight: bold\">0</span><span style=\"font-weight: bold\">}</span>\n",
       "</pre>\n"
      ],
      "text/plain": [
       "Appending playlist:\n",
       "\u001b[1m{\u001b[0m\u001b[32m'name'\u001b[0m: \u001b[32m'Spotify.Me'\u001b[0m, \u001b[32m'last_modified_date'\u001b[0m: \u001b[32m'2019-08-26'\u001b[0m, \u001b[32m'n_items'\u001b[0m: \u001b[1;36m20\u001b[0m, \u001b[32m'description'\u001b[0m: \n",
       "\u001b[3;35mNone\u001b[0m, \u001b[32m'n_followers'\u001b[0m: \u001b[1;36m0\u001b[0m\u001b[1m}\u001b[0m\n"
      ]
     },
     "metadata": {},
     "output_type": "display_data"
    },
    {
     "data": {
      "text/html": [
       "<pre style=\"white-space:pre;overflow-x:auto;line-height:normal;font-family:Menlo,'DejaVu Sans Mono',consolas,'Courier New',monospace\">Appending playlist:\n",
       "<span style=\"font-weight: bold\">{</span><span style=\"color: #008000; text-decoration-color: #008000\">'name'</span>: <span style=\"color: #008000; text-decoration-color: #008000\">'Daily Mix 6 - 8/13/19'</span>, <span style=\"color: #008000; text-decoration-color: #008000\">'last_modified_date'</span>: <span style=\"color: #008000; text-decoration-color: #008000\">'2019-08-14'</span>, <span style=\"color: #008000; text-decoration-color: #008000\">'n_items'</span>: <span style=\"color: #008080; text-decoration-color: #008080; font-weight: bold\">43</span>, \n",
       "<span style=\"color: #008000; text-decoration-color: #008000\">'description'</span>: <span style=\"color: #800080; text-decoration-color: #800080; font-style: italic\">None</span>, <span style=\"color: #008000; text-decoration-color: #008000\">'n_followers'</span>: <span style=\"color: #008080; text-decoration-color: #008080; font-weight: bold\">0</span><span style=\"font-weight: bold\">}</span>\n",
       "</pre>\n"
      ],
      "text/plain": [
       "Appending playlist:\n",
       "\u001b[1m{\u001b[0m\u001b[32m'name'\u001b[0m: \u001b[32m'Daily Mix 6 - 8/13/19'\u001b[0m, \u001b[32m'last_modified_date'\u001b[0m: \u001b[32m'2019-08-14'\u001b[0m, \u001b[32m'n_items'\u001b[0m: \u001b[1;36m43\u001b[0m, \n",
       "\u001b[32m'description'\u001b[0m: \u001b[3;35mNone\u001b[0m, \u001b[32m'n_followers'\u001b[0m: \u001b[1;36m0\u001b[0m\u001b[1m}\u001b[0m\n"
      ]
     },
     "metadata": {},
     "output_type": "display_data"
    },
    {
     "data": {
      "text/html": [
       "<pre style=\"white-space:pre;overflow-x:auto;line-height:normal;font-family:Menlo,'DejaVu Sans Mono',consolas,'Courier New',monospace\">Appending playlist:\n",
       "<span style=\"font-weight: bold\">{</span><span style=\"color: #008000; text-decoration-color: #008000\">'name'</span>: <span style=\"color: #008000; text-decoration-color: #008000\">'Todo Va a Estar Bien'</span>, <span style=\"color: #008000; text-decoration-color: #008000\">'last_modified_date'</span>: <span style=\"color: #008000; text-decoration-color: #008000\">'2020-08-29'</span>, <span style=\"color: #008000; text-decoration-color: #008000\">'n_items'</span>: <span style=\"color: #008080; text-decoration-color: #008080; font-weight: bold\">14</span>, \n",
       "<span style=\"color: #008000; text-decoration-color: #008000\">'description'</span>: <span style=\"color: #800080; text-decoration-color: #800080; font-style: italic\">None</span>, <span style=\"color: #008000; text-decoration-color: #008000\">'n_followers'</span>: <span style=\"color: #008080; text-decoration-color: #008080; font-weight: bold\">0</span><span style=\"font-weight: bold\">}</span>\n",
       "</pre>\n"
      ],
      "text/plain": [
       "Appending playlist:\n",
       "\u001b[1m{\u001b[0m\u001b[32m'name'\u001b[0m: \u001b[32m'Todo Va a Estar Bien'\u001b[0m, \u001b[32m'last_modified_date'\u001b[0m: \u001b[32m'2020-08-29'\u001b[0m, \u001b[32m'n_items'\u001b[0m: \u001b[1;36m14\u001b[0m, \n",
       "\u001b[32m'description'\u001b[0m: \u001b[3;35mNone\u001b[0m, \u001b[32m'n_followers'\u001b[0m: \u001b[1;36m0\u001b[0m\u001b[1m}\u001b[0m\n"
      ]
     },
     "metadata": {},
     "output_type": "display_data"
    },
    {
     "data": {
      "text/html": [
       "<pre style=\"white-space:pre;overflow-x:auto;line-height:normal;font-family:Menlo,'DejaVu Sans Mono',consolas,'Courier New',monospace\">Appending playlist:\n",
       "<span style=\"font-weight: bold\">{</span><span style=\"color: #008000; text-decoration-color: #008000\">'name'</span>: <span style=\"color: #008000; text-decoration-color: #008000\">'Summer Nights'</span>, <span style=\"color: #008000; text-decoration-color: #008000\">'last_modified_date'</span>: <span style=\"color: #008000; text-decoration-color: #008000\">'2019-07-30'</span>, <span style=\"color: #008000; text-decoration-color: #008000\">'n_items'</span>: <span style=\"color: #008080; text-decoration-color: #008080; font-weight: bold\">6</span>, <span style=\"color: #008000; text-decoration-color: #008000\">'description'</span>: \n",
       "<span style=\"color: #800080; text-decoration-color: #800080; font-style: italic\">None</span>, <span style=\"color: #008000; text-decoration-color: #008000\">'n_followers'</span>: <span style=\"color: #008080; text-decoration-color: #008080; font-weight: bold\">0</span><span style=\"font-weight: bold\">}</span>\n",
       "</pre>\n"
      ],
      "text/plain": [
       "Appending playlist:\n",
       "\u001b[1m{\u001b[0m\u001b[32m'name'\u001b[0m: \u001b[32m'Summer Nights'\u001b[0m, \u001b[32m'last_modified_date'\u001b[0m: \u001b[32m'2019-07-30'\u001b[0m, \u001b[32m'n_items'\u001b[0m: \u001b[1;36m6\u001b[0m, \u001b[32m'description'\u001b[0m: \n",
       "\u001b[3;35mNone\u001b[0m, \u001b[32m'n_followers'\u001b[0m: \u001b[1;36m0\u001b[0m\u001b[1m}\u001b[0m\n"
      ]
     },
     "metadata": {},
     "output_type": "display_data"
    },
    {
     "data": {
      "text/html": [
       "<pre style=\"white-space:pre;overflow-x:auto;line-height:normal;font-family:Menlo,'DejaVu Sans Mono',consolas,'Courier New',monospace\">Appending playlist:\n",
       "<span style=\"font-weight: bold\">{</span><span style=\"color: #008000; text-decoration-color: #008000\">'name'</span>: <span style=\"color: #008000; text-decoration-color: #008000\">'Mejores Versos pt. I'</span>, <span style=\"color: #008000; text-decoration-color: #008000\">'last_modified_date'</span>: <span style=\"color: #008000; text-decoration-color: #008000\">'2020-04-23'</span>, <span style=\"color: #008000; text-decoration-color: #008000\">'n_items'</span>: <span style=\"color: #008080; text-decoration-color: #008080; font-weight: bold\">8</span>, \n",
       "<span style=\"color: #008000; text-decoration-color: #008000\">'description'</span>: <span style=\"color: #800080; text-decoration-color: #800080; font-style: italic\">None</span>, <span style=\"color: #008000; text-decoration-color: #008000\">'n_followers'</span>: <span style=\"color: #008080; text-decoration-color: #008080; font-weight: bold\">0</span><span style=\"font-weight: bold\">}</span>\n",
       "</pre>\n"
      ],
      "text/plain": [
       "Appending playlist:\n",
       "\u001b[1m{\u001b[0m\u001b[32m'name'\u001b[0m: \u001b[32m'Mejores Versos pt. I'\u001b[0m, \u001b[32m'last_modified_date'\u001b[0m: \u001b[32m'2020-04-23'\u001b[0m, \u001b[32m'n_items'\u001b[0m: \u001b[1;36m8\u001b[0m, \n",
       "\u001b[32m'description'\u001b[0m: \u001b[3;35mNone\u001b[0m, \u001b[32m'n_followers'\u001b[0m: \u001b[1;36m0\u001b[0m\u001b[1m}\u001b[0m\n"
      ]
     },
     "metadata": {},
     "output_type": "display_data"
    },
    {
     "data": {
      "text/html": [
       "<pre style=\"white-space:pre;overflow-x:auto;line-height:normal;font-family:Menlo,'DejaVu Sans Mono',consolas,'Courier New',monospace\">Appending playlist:\n",
       "<span style=\"font-weight: bold\">{</span><span style=\"color: #008000; text-decoration-color: #008000\">'name'</span>: <span style=\"color: #008000; text-decoration-color: #008000\">'El Vicio y La Fama Cumbiones'</span>, <span style=\"color: #008000; text-decoration-color: #008000\">'last_modified_date'</span>: <span style=\"color: #008000; text-decoration-color: #008000\">'2019-07-15'</span>, <span style=\"color: #008000; text-decoration-color: #008000\">'n_items'</span>: <span style=\"color: #008080; text-decoration-color: #008080; font-weight: bold\">3</span>, \n",
       "<span style=\"color: #008000; text-decoration-color: #008000\">'description'</span>: <span style=\"color: #800080; text-decoration-color: #800080; font-style: italic\">None</span>, <span style=\"color: #008000; text-decoration-color: #008000\">'n_followers'</span>: <span style=\"color: #008080; text-decoration-color: #008080; font-weight: bold\">0</span><span style=\"font-weight: bold\">}</span>\n",
       "</pre>\n"
      ],
      "text/plain": [
       "Appending playlist:\n",
       "\u001b[1m{\u001b[0m\u001b[32m'name'\u001b[0m: \u001b[32m'El Vicio y La Fama Cumbiones'\u001b[0m, \u001b[32m'last_modified_date'\u001b[0m: \u001b[32m'2019-07-15'\u001b[0m, \u001b[32m'n_items'\u001b[0m: \u001b[1;36m3\u001b[0m, \n",
       "\u001b[32m'description'\u001b[0m: \u001b[3;35mNone\u001b[0m, \u001b[32m'n_followers'\u001b[0m: \u001b[1;36m0\u001b[0m\u001b[1m}\u001b[0m\n"
      ]
     },
     "metadata": {},
     "output_type": "display_data"
    },
    {
     "data": {
      "text/html": [
       "<pre style=\"white-space:pre;overflow-x:auto;line-height:normal;font-family:Menlo,'DejaVu Sans Mono',consolas,'Courier New',monospace\">Appending playlist:\n",
       "<span style=\"font-weight: bold\">{</span><span style=\"color: #008000; text-decoration-color: #008000\">'name'</span>: <span style=\"color: #008000; text-decoration-color: #008000\">'Wish Wish'</span>, <span style=\"color: #008000; text-decoration-color: #008000\">'last_modified_date'</span>: <span style=\"color: #008000; text-decoration-color: #008000\">'2019-08-08'</span>, <span style=\"color: #008000; text-decoration-color: #008000\">'n_items'</span>: <span style=\"color: #008080; text-decoration-color: #008080; font-weight: bold\">13</span>, <span style=\"color: #008000; text-decoration-color: #008000\">'description'</span>: <span style=\"color: #800080; text-decoration-color: #800080; font-style: italic\">None</span>,\n",
       "<span style=\"color: #008000; text-decoration-color: #008000\">'n_followers'</span>: <span style=\"color: #008080; text-decoration-color: #008080; font-weight: bold\">0</span><span style=\"font-weight: bold\">}</span>\n",
       "</pre>\n"
      ],
      "text/plain": [
       "Appending playlist:\n",
       "\u001b[1m{\u001b[0m\u001b[32m'name'\u001b[0m: \u001b[32m'Wish Wish'\u001b[0m, \u001b[32m'last_modified_date'\u001b[0m: \u001b[32m'2019-08-08'\u001b[0m, \u001b[32m'n_items'\u001b[0m: \u001b[1;36m13\u001b[0m, \u001b[32m'description'\u001b[0m: \u001b[3;35mNone\u001b[0m,\n",
       "\u001b[32m'n_followers'\u001b[0m: \u001b[1;36m0\u001b[0m\u001b[1m}\u001b[0m\n"
      ]
     },
     "metadata": {},
     "output_type": "display_data"
    },
    {
     "data": {
      "text/html": [
       "<pre style=\"white-space:pre;overflow-x:auto;line-height:normal;font-family:Menlo,'DejaVu Sans Mono',consolas,'Courier New',monospace\">Appending playlist:\n",
       "<span style=\"font-weight: bold\">{</span><span style=\"color: #008000; text-decoration-color: #008000\">'name'</span>: <span style=\"color: #008000; text-decoration-color: #008000\">'🔪🖐🏼'</span>, <span style=\"color: #008000; text-decoration-color: #008000\">'last_modified_date'</span>: <span style=\"color: #008000; text-decoration-color: #008000\">'2019-10-14'</span>, <span style=\"color: #008000; text-decoration-color: #008000\">'n_items'</span>: <span style=\"color: #008080; text-decoration-color: #008080; font-weight: bold\">26</span>, <span style=\"color: #008000; text-decoration-color: #008000\">'description'</span>: <span style=\"color: #800080; text-decoration-color: #800080; font-style: italic\">None</span>, \n",
       "<span style=\"color: #008000; text-decoration-color: #008000\">'n_followers'</span>: <span style=\"color: #008080; text-decoration-color: #008080; font-weight: bold\">0</span><span style=\"font-weight: bold\">}</span>\n",
       "</pre>\n"
      ],
      "text/plain": [
       "Appending playlist:\n",
       "\u001b[1m{\u001b[0m\u001b[32m'name'\u001b[0m: \u001b[32m'🔪🖐🏼'\u001b[0m, \u001b[32m'last_modified_date'\u001b[0m: \u001b[32m'2019-10-14'\u001b[0m, \u001b[32m'n_items'\u001b[0m: \u001b[1;36m26\u001b[0m, \u001b[32m'description'\u001b[0m: \u001b[3;35mNone\u001b[0m, \n",
       "\u001b[32m'n_followers'\u001b[0m: \u001b[1;36m0\u001b[0m\u001b[1m}\u001b[0m\n"
      ]
     },
     "metadata": {},
     "output_type": "display_data"
    },
    {
     "data": {
      "text/html": [
       "<pre style=\"white-space:pre;overflow-x:auto;line-height:normal;font-family:Menlo,'DejaVu Sans Mono',consolas,'Courier New',monospace\">Appending playlist:\n",
       "<span style=\"font-weight: bold\">{</span><span style=\"color: #008000; text-decoration-color: #008000\">'name'</span>: <span style=\"color: #008000; text-decoration-color: #008000\">'Oi nomás ese cumbión'</span>, <span style=\"color: #008000; text-decoration-color: #008000\">'last_modified_date'</span>: <span style=\"color: #008000; text-decoration-color: #008000\">'2019-08-29'</span>, <span style=\"color: #008000; text-decoration-color: #008000\">'n_items'</span>: <span style=\"color: #008080; text-decoration-color: #008080; font-weight: bold\">11</span>, \n",
       "<span style=\"color: #008000; text-decoration-color: #008000\">'description'</span>: <span style=\"color: #800080; text-decoration-color: #800080; font-style: italic\">None</span>, <span style=\"color: #008000; text-decoration-color: #008000\">'n_followers'</span>: <span style=\"color: #008080; text-decoration-color: #008080; font-weight: bold\">0</span><span style=\"font-weight: bold\">}</span>\n",
       "</pre>\n"
      ],
      "text/plain": [
       "Appending playlist:\n",
       "\u001b[1m{\u001b[0m\u001b[32m'name'\u001b[0m: \u001b[32m'Oi nomás ese cumbión'\u001b[0m, \u001b[32m'last_modified_date'\u001b[0m: \u001b[32m'2019-08-29'\u001b[0m, \u001b[32m'n_items'\u001b[0m: \u001b[1;36m11\u001b[0m, \n",
       "\u001b[32m'description'\u001b[0m: \u001b[3;35mNone\u001b[0m, \u001b[32m'n_followers'\u001b[0m: \u001b[1;36m0\u001b[0m\u001b[1m}\u001b[0m\n"
      ]
     },
     "metadata": {},
     "output_type": "display_data"
    },
    {
     "data": {
      "text/html": [
       "<pre style=\"white-space:pre;overflow-x:auto;line-height:normal;font-family:Menlo,'DejaVu Sans Mono',consolas,'Courier New',monospace\">Appending playlist:\n",
       "<span style=\"font-weight: bold\">{</span><span style=\"color: #008000; text-decoration-color: #008000\">'name'</span>: <span style=\"color: #008000; text-decoration-color: #008000\">'Daily Mix 1 - FEITA PARA EL:25/02/2019'</span>, <span style=\"color: #008000; text-decoration-color: #008000\">'last_modified_date'</span>: <span style=\"color: #008000; text-decoration-color: #008000\">'2019-02-25'</span>, \n",
       "<span style=\"color: #008000; text-decoration-color: #008000\">'n_items'</span>: <span style=\"color: #008080; text-decoration-color: #008080; font-weight: bold\">15</span>, <span style=\"color: #008000; text-decoration-color: #008000\">'description'</span>: <span style=\"color: #800080; text-decoration-color: #800080; font-style: italic\">None</span>, <span style=\"color: #008000; text-decoration-color: #008000\">'n_followers'</span>: <span style=\"color: #008080; text-decoration-color: #008080; font-weight: bold\">0</span><span style=\"font-weight: bold\">}</span>\n",
       "</pre>\n"
      ],
      "text/plain": [
       "Appending playlist:\n",
       "\u001b[1m{\u001b[0m\u001b[32m'name'\u001b[0m: \u001b[32m'Daily Mix 1 - FEITA PARA EL:25/02/2019'\u001b[0m, \u001b[32m'last_modified_date'\u001b[0m: \u001b[32m'2019-02-25'\u001b[0m, \n",
       "\u001b[32m'n_items'\u001b[0m: \u001b[1;36m15\u001b[0m, \u001b[32m'description'\u001b[0m: \u001b[3;35mNone\u001b[0m, \u001b[32m'n_followers'\u001b[0m: \u001b[1;36m0\u001b[0m\u001b[1m}\u001b[0m\n"
      ]
     },
     "metadata": {},
     "output_type": "display_data"
    },
    {
     "data": {
      "text/html": [
       "<pre style=\"white-space:pre;overflow-x:auto;line-height:normal;font-family:Menlo,'DejaVu Sans Mono',consolas,'Courier New',monospace\">Appending playlist:\n",
       "<span style=\"font-weight: bold\">{</span><span style=\"color: #008000; text-decoration-color: #008000\">'name'</span>: <span style=\"color: #008000; text-decoration-color: #008000\">'pa mi beibi '</span>, <span style=\"color: #008000; text-decoration-color: #008000\">'last_modified_date'</span>: <span style=\"color: #008000; text-decoration-color: #008000\">'2018-11-04'</span>, <span style=\"color: #008000; text-decoration-color: #008000\">'n_items'</span>: <span style=\"color: #008080; text-decoration-color: #008080; font-weight: bold\">14</span>, <span style=\"color: #008000; text-decoration-color: #008000\">'description'</span>: \n",
       "<span style=\"color: #800080; text-decoration-color: #800080; font-style: italic\">None</span>, <span style=\"color: #008000; text-decoration-color: #008000\">'n_followers'</span>: <span style=\"color: #008080; text-decoration-color: #008080; font-weight: bold\">0</span><span style=\"font-weight: bold\">}</span>\n",
       "</pre>\n"
      ],
      "text/plain": [
       "Appending playlist:\n",
       "\u001b[1m{\u001b[0m\u001b[32m'name'\u001b[0m: \u001b[32m'pa mi beibi '\u001b[0m, \u001b[32m'last_modified_date'\u001b[0m: \u001b[32m'2018-11-04'\u001b[0m, \u001b[32m'n_items'\u001b[0m: \u001b[1;36m14\u001b[0m, \u001b[32m'description'\u001b[0m: \n",
       "\u001b[3;35mNone\u001b[0m, \u001b[32m'n_followers'\u001b[0m: \u001b[1;36m0\u001b[0m\u001b[1m}\u001b[0m\n"
      ]
     },
     "metadata": {},
     "output_type": "display_data"
    },
    {
     "data": {
      "text/html": [
       "<pre style=\"white-space:pre;overflow-x:auto;line-height:normal;font-family:Menlo,'DejaVu Sans Mono',consolas,'Courier New',monospace\">Appending playlist:\n",
       "<span style=\"font-weight: bold\">{</span><span style=\"color: #008000; text-decoration-color: #008000\">'name'</span>: <span style=\"color: #008000; text-decoration-color: #008000\">'?'</span>, <span style=\"color: #008000; text-decoration-color: #008000\">'last_modified_date'</span>: <span style=\"color: #008000; text-decoration-color: #008000\">'2018-10-30'</span>, <span style=\"color: #008000; text-decoration-color: #008000\">'n_items'</span>: <span style=\"color: #008080; text-decoration-color: #008080; font-weight: bold\">11</span>, <span style=\"color: #008000; text-decoration-color: #008000\">'description'</span>: <span style=\"color: #800080; text-decoration-color: #800080; font-style: italic\">None</span>, \n",
       "<span style=\"color: #008000; text-decoration-color: #008000\">'n_followers'</span>: <span style=\"color: #008080; text-decoration-color: #008080; font-weight: bold\">0</span><span style=\"font-weight: bold\">}</span>\n",
       "</pre>\n"
      ],
      "text/plain": [
       "Appending playlist:\n",
       "\u001b[1m{\u001b[0m\u001b[32m'name'\u001b[0m: \u001b[32m'?'\u001b[0m, \u001b[32m'last_modified_date'\u001b[0m: \u001b[32m'2018-10-30'\u001b[0m, \u001b[32m'n_items'\u001b[0m: \u001b[1;36m11\u001b[0m, \u001b[32m'description'\u001b[0m: \u001b[3;35mNone\u001b[0m, \n",
       "\u001b[32m'n_followers'\u001b[0m: \u001b[1;36m0\u001b[0m\u001b[1m}\u001b[0m\n"
      ]
     },
     "metadata": {},
     "output_type": "display_data"
    },
    {
     "data": {
      "text/html": [
       "<pre style=\"white-space:pre;overflow-x:auto;line-height:normal;font-family:Menlo,'DejaVu Sans Mono',consolas,'Courier New',monospace\">Appending playlist:\n",
       "<span style=\"font-weight: bold\">{</span><span style=\"color: #008000; text-decoration-color: #008000\">'name'</span>: <span style=\"color: #008000; text-decoration-color: #008000\">'SPLATAM'</span>, <span style=\"color: #008000; text-decoration-color: #008000\">'last_modified_date'</span>: <span style=\"color: #008000; text-decoration-color: #008000\">'2018-09-18'</span>, <span style=\"color: #008000; text-decoration-color: #008000\">'n_items'</span>: <span style=\"color: #008080; text-decoration-color: #008080; font-weight: bold\">35</span>, <span style=\"color: #008000; text-decoration-color: #008000\">'description'</span>: <span style=\"color: #800080; text-decoration-color: #800080; font-style: italic\">None</span>, \n",
       "<span style=\"color: #008000; text-decoration-color: #008000\">'n_followers'</span>: <span style=\"color: #008080; text-decoration-color: #008080; font-weight: bold\">0</span><span style=\"font-weight: bold\">}</span>\n",
       "</pre>\n"
      ],
      "text/plain": [
       "Appending playlist:\n",
       "\u001b[1m{\u001b[0m\u001b[32m'name'\u001b[0m: \u001b[32m'SPLATAM'\u001b[0m, \u001b[32m'last_modified_date'\u001b[0m: \u001b[32m'2018-09-18'\u001b[0m, \u001b[32m'n_items'\u001b[0m: \u001b[1;36m35\u001b[0m, \u001b[32m'description'\u001b[0m: \u001b[3;35mNone\u001b[0m, \n",
       "\u001b[32m'n_followers'\u001b[0m: \u001b[1;36m0\u001b[0m\u001b[1m}\u001b[0m\n"
      ]
     },
     "metadata": {},
     "output_type": "display_data"
    },
    {
     "data": {
      "text/html": [
       "<pre style=\"white-space:pre;overflow-x:auto;line-height:normal;font-family:Menlo,'DejaVu Sans Mono',consolas,'Courier New',monospace\">Appending playlist:\n",
       "<span style=\"font-weight: bold\">{</span><span style=\"color: #008000; text-decoration-color: #008000\">'name'</span>: <span style=\"color: #008000; text-decoration-color: #008000\">'Curtidas na Rádio'</span>, <span style=\"color: #008000; text-decoration-color: #008000\">'last_modified_date'</span>: <span style=\"color: #008000; text-decoration-color: #008000\">'2020-07-02'</span>, <span style=\"color: #008000; text-decoration-color: #008000\">'n_items'</span>: <span style=\"color: #008080; text-decoration-color: #008080; font-weight: bold\">8</span>, \n",
       "<span style=\"color: #008000; text-decoration-color: #008000\">'description'</span>: <span style=\"color: #800080; text-decoration-color: #800080; font-style: italic\">None</span>, <span style=\"color: #008000; text-decoration-color: #008000\">'n_followers'</span>: <span style=\"color: #008080; text-decoration-color: #008080; font-weight: bold\">0</span><span style=\"font-weight: bold\">}</span>\n",
       "</pre>\n"
      ],
      "text/plain": [
       "Appending playlist:\n",
       "\u001b[1m{\u001b[0m\u001b[32m'name'\u001b[0m: \u001b[32m'Curtidas na Rádio'\u001b[0m, \u001b[32m'last_modified_date'\u001b[0m: \u001b[32m'2020-07-02'\u001b[0m, \u001b[32m'n_items'\u001b[0m: \u001b[1;36m8\u001b[0m, \n",
       "\u001b[32m'description'\u001b[0m: \u001b[3;35mNone\u001b[0m, \u001b[32m'n_followers'\u001b[0m: \u001b[1;36m0\u001b[0m\u001b[1m}\u001b[0m\n"
      ]
     },
     "metadata": {},
     "output_type": "display_data"
    },
    {
     "data": {
      "text/html": [
       "<pre style=\"white-space:pre;overflow-x:auto;line-height:normal;font-family:Menlo,'DejaVu Sans Mono',consolas,'Courier New',monospace\">Appending playlist:\n",
       "<span style=\"font-weight: bold\">{</span><span style=\"color: #008000; text-decoration-color: #008000\">'name'</span>: <span style=\"color: #008000; text-decoration-color: #008000\">'FTP'</span>, <span style=\"color: #008000; text-decoration-color: #008000\">'last_modified_date'</span>: <span style=\"color: #008000; text-decoration-color: #008000\">'2018-09-18'</span>, <span style=\"color: #008000; text-decoration-color: #008000\">'n_items'</span>: <span style=\"color: #008080; text-decoration-color: #008080; font-weight: bold\">3</span>, <span style=\"color: #008000; text-decoration-color: #008000\">'description'</span>: <span style=\"color: #800080; text-decoration-color: #800080; font-style: italic\">None</span>, \n",
       "<span style=\"color: #008000; text-decoration-color: #008000\">'n_followers'</span>: <span style=\"color: #008080; text-decoration-color: #008080; font-weight: bold\">0</span><span style=\"font-weight: bold\">}</span>\n",
       "</pre>\n"
      ],
      "text/plain": [
       "Appending playlist:\n",
       "\u001b[1m{\u001b[0m\u001b[32m'name'\u001b[0m: \u001b[32m'FTP'\u001b[0m, \u001b[32m'last_modified_date'\u001b[0m: \u001b[32m'2018-09-18'\u001b[0m, \u001b[32m'n_items'\u001b[0m: \u001b[1;36m3\u001b[0m, \u001b[32m'description'\u001b[0m: \u001b[3;35mNone\u001b[0m, \n",
       "\u001b[32m'n_followers'\u001b[0m: \u001b[1;36m0\u001b[0m\u001b[1m}\u001b[0m\n"
      ]
     },
     "metadata": {},
     "output_type": "display_data"
    },
    {
     "data": {
      "text/html": [
       "<pre style=\"white-space:pre;overflow-x:auto;line-height:normal;font-family:Menlo,'DejaVu Sans Mono',consolas,'Courier New',monospace\">Appending playlist:\n",
       "<span style=\"font-weight: bold\">{</span><span style=\"color: #008000; text-decoration-color: #008000\">'name'</span>: <span style=\"color: #008000; text-decoration-color: #008000\">'Yum Yum ep. 2'</span>, <span style=\"color: #008000; text-decoration-color: #008000\">'last_modified_date'</span>: <span style=\"color: #008000; text-decoration-color: #008000\">'2018-09-18'</span>, <span style=\"color: #008000; text-decoration-color: #008000\">'n_items'</span>: <span style=\"color: #008080; text-decoration-color: #008080; font-weight: bold\">8</span>, <span style=\"color: #008000; text-decoration-color: #008000\">'description'</span>: \n",
       "<span style=\"color: #800080; text-decoration-color: #800080; font-style: italic\">None</span>, <span style=\"color: #008000; text-decoration-color: #008000\">'n_followers'</span>: <span style=\"color: #008080; text-decoration-color: #008080; font-weight: bold\">0</span><span style=\"font-weight: bold\">}</span>\n",
       "</pre>\n"
      ],
      "text/plain": [
       "Appending playlist:\n",
       "\u001b[1m{\u001b[0m\u001b[32m'name'\u001b[0m: \u001b[32m'Yum Yum ep. 2'\u001b[0m, \u001b[32m'last_modified_date'\u001b[0m: \u001b[32m'2018-09-18'\u001b[0m, \u001b[32m'n_items'\u001b[0m: \u001b[1;36m8\u001b[0m, \u001b[32m'description'\u001b[0m: \n",
       "\u001b[3;35mNone\u001b[0m, \u001b[32m'n_followers'\u001b[0m: \u001b[1;36m0\u001b[0m\u001b[1m}\u001b[0m\n"
      ]
     },
     "metadata": {},
     "output_type": "display_data"
    },
    {
     "data": {
      "text/html": [
       "<pre style=\"white-space:pre;overflow-x:auto;line-height:normal;font-family:Menlo,'DejaVu Sans Mono',consolas,'Courier New',monospace\">Appending playlist:\n",
       "<span style=\"font-weight: bold\">{</span><span style=\"color: #008000; text-decoration-color: #008000\">'name'</span>: <span style=\"color: #008000; text-decoration-color: #008000\">'Yum Yum ep. 1'</span>, <span style=\"color: #008000; text-decoration-color: #008000\">'last_modified_date'</span>: <span style=\"color: #008000; text-decoration-color: #008000\">'2018-09-18'</span>, <span style=\"color: #008000; text-decoration-color: #008000\">'n_items'</span>: <span style=\"color: #008080; text-decoration-color: #008080; font-weight: bold\">9</span>, <span style=\"color: #008000; text-decoration-color: #008000\">'description'</span>: \n",
       "<span style=\"color: #800080; text-decoration-color: #800080; font-style: italic\">None</span>, <span style=\"color: #008000; text-decoration-color: #008000\">'n_followers'</span>: <span style=\"color: #008080; text-decoration-color: #008080; font-weight: bold\">0</span><span style=\"font-weight: bold\">}</span>\n",
       "</pre>\n"
      ],
      "text/plain": [
       "Appending playlist:\n",
       "\u001b[1m{\u001b[0m\u001b[32m'name'\u001b[0m: \u001b[32m'Yum Yum ep. 1'\u001b[0m, \u001b[32m'last_modified_date'\u001b[0m: \u001b[32m'2018-09-18'\u001b[0m, \u001b[32m'n_items'\u001b[0m: \u001b[1;36m9\u001b[0m, \u001b[32m'description'\u001b[0m: \n",
       "\u001b[3;35mNone\u001b[0m, \u001b[32m'n_followers'\u001b[0m: \u001b[1;36m0\u001b[0m\u001b[1m}\u001b[0m\n"
      ]
     },
     "metadata": {},
     "output_type": "display_data"
    },
    {
     "data": {
      "text/html": [
       "<pre style=\"white-space:pre;overflow-x:auto;line-height:normal;font-family:Menlo,'DejaVu Sans Mono',consolas,'Courier New',monospace\">Appending playlist:\n",
       "<span style=\"font-weight: bold\">{</span><span style=\"color: #008000; text-decoration-color: #008000\">'name'</span>: <span style=\"color: #008000; text-decoration-color: #008000\">'Lo Que Ando Oyendo: Febrero 2018'</span>, <span style=\"color: #008000; text-decoration-color: #008000\">'last_modified_date'</span>: <span style=\"color: #008000; text-decoration-color: #008000\">'2018-09-18'</span>, <span style=\"color: #008000; text-decoration-color: #008000\">'n_items'</span>: \n",
       "<span style=\"color: #008080; text-decoration-color: #008080; font-weight: bold\">25</span>, <span style=\"color: #008000; text-decoration-color: #008000\">'description'</span>: <span style=\"color: #800080; text-decoration-color: #800080; font-style: italic\">None</span>, <span style=\"color: #008000; text-decoration-color: #008000\">'n_followers'</span>: <span style=\"color: #008080; text-decoration-color: #008080; font-weight: bold\">0</span><span style=\"font-weight: bold\">}</span>\n",
       "</pre>\n"
      ],
      "text/plain": [
       "Appending playlist:\n",
       "\u001b[1m{\u001b[0m\u001b[32m'name'\u001b[0m: \u001b[32m'Lo Que Ando Oyendo: Febrero 2018'\u001b[0m, \u001b[32m'last_modified_date'\u001b[0m: \u001b[32m'2018-09-18'\u001b[0m, \u001b[32m'n_items'\u001b[0m: \n",
       "\u001b[1;36m25\u001b[0m, \u001b[32m'description'\u001b[0m: \u001b[3;35mNone\u001b[0m, \u001b[32m'n_followers'\u001b[0m: \u001b[1;36m0\u001b[0m\u001b[1m}\u001b[0m\n"
      ]
     },
     "metadata": {},
     "output_type": "display_data"
    },
    {
     "data": {
      "text/html": [
       "<pre style=\"white-space:pre;overflow-x:auto;line-height:normal;font-family:Menlo,'DejaVu Sans Mono',consolas,'Courier New',monospace\">Appending playlist:\n",
       "<span style=\"font-weight: bold\">{</span><span style=\"color: #008000; text-decoration-color: #008000\">'name'</span>: <span style=\"color: #008000; text-decoration-color: #008000\">'Descubriendo'</span>, <span style=\"color: #008000; text-decoration-color: #008000\">'last_modified_date'</span>: <span style=\"color: #008000; text-decoration-color: #008000\">'2021-10-06'</span>, <span style=\"color: #008000; text-decoration-color: #008000\">'n_items'</span>: <span style=\"color: #008080; text-decoration-color: #008080; font-weight: bold\">94</span>, <span style=\"color: #008000; text-decoration-color: #008000\">'description'</span>: \n",
       "<span style=\"color: #800080; text-decoration-color: #800080; font-style: italic\">None</span>, <span style=\"color: #008000; text-decoration-color: #008000\">'n_followers'</span>: <span style=\"color: #008080; text-decoration-color: #008080; font-weight: bold\">0</span><span style=\"font-weight: bold\">}</span>\n",
       "</pre>\n"
      ],
      "text/plain": [
       "Appending playlist:\n",
       "\u001b[1m{\u001b[0m\u001b[32m'name'\u001b[0m: \u001b[32m'Descubriendo'\u001b[0m, \u001b[32m'last_modified_date'\u001b[0m: \u001b[32m'2021-10-06'\u001b[0m, \u001b[32m'n_items'\u001b[0m: \u001b[1;36m94\u001b[0m, \u001b[32m'description'\u001b[0m: \n",
       "\u001b[3;35mNone\u001b[0m, \u001b[32m'n_followers'\u001b[0m: \u001b[1;36m0\u001b[0m\u001b[1m}\u001b[0m\n"
      ]
     },
     "metadata": {},
     "output_type": "display_data"
    },
    {
     "data": {
      "text/html": [
       "<pre style=\"white-space:pre;overflow-x:auto;line-height:normal;font-family:Menlo,'DejaVu Sans Mono',consolas,'Courier New',monospace\">Appending playlist:\n",
       "<span style=\"font-weight: bold\">{</span><span style=\"color: #008000; text-decoration-color: #008000\">'name'</span>: <span style=\"color: #008000; text-decoration-color: #008000\">'Heavy Rotation: Enero 2018'</span>, <span style=\"color: #008000; text-decoration-color: #008000\">'last_modified_date'</span>: <span style=\"color: #008000; text-decoration-color: #008000\">'2018-09-18'</span>, <span style=\"color: #008000; text-decoration-color: #008000\">'n_items'</span>: <span style=\"color: #008080; text-decoration-color: #008080; font-weight: bold\">20</span>, \n",
       "<span style=\"color: #008000; text-decoration-color: #008000\">'description'</span>: <span style=\"color: #800080; text-decoration-color: #800080; font-style: italic\">None</span>, <span style=\"color: #008000; text-decoration-color: #008000\">'n_followers'</span>: <span style=\"color: #008080; text-decoration-color: #008080; font-weight: bold\">2</span><span style=\"font-weight: bold\">}</span>\n",
       "</pre>\n"
      ],
      "text/plain": [
       "Appending playlist:\n",
       "\u001b[1m{\u001b[0m\u001b[32m'name'\u001b[0m: \u001b[32m'Heavy Rotation: Enero 2018'\u001b[0m, \u001b[32m'last_modified_date'\u001b[0m: \u001b[32m'2018-09-18'\u001b[0m, \u001b[32m'n_items'\u001b[0m: \u001b[1;36m20\u001b[0m, \n",
       "\u001b[32m'description'\u001b[0m: \u001b[3;35mNone\u001b[0m, \u001b[32m'n_followers'\u001b[0m: \u001b[1;36m2\u001b[0m\u001b[1m}\u001b[0m\n"
      ]
     },
     "metadata": {},
     "output_type": "display_data"
    },
    {
     "data": {
      "text/html": [
       "<pre style=\"white-space:pre;overflow-x:auto;line-height:normal;font-family:Menlo,'DejaVu Sans Mono',consolas,'Courier New',monospace\">Appending playlist:\n",
       "<span style=\"font-weight: bold\">{</span><span style=\"color: #008000; text-decoration-color: #008000\">'name'</span>: <span style=\"color: #008000; text-decoration-color: #008000\">'Heavy Rotation: Diciembre 2017'</span>, <span style=\"color: #008000; text-decoration-color: #008000\">'last_modified_date'</span>: <span style=\"color: #008000; text-decoration-color: #008000\">'2018-09-18'</span>, <span style=\"color: #008000; text-decoration-color: #008000\">'n_items'</span>: <span style=\"color: #008080; text-decoration-color: #008080; font-weight: bold\">20</span>,\n",
       "<span style=\"color: #008000; text-decoration-color: #008000\">'description'</span>: <span style=\"color: #800080; text-decoration-color: #800080; font-style: italic\">None</span>, <span style=\"color: #008000; text-decoration-color: #008000\">'n_followers'</span>: <span style=\"color: #008080; text-decoration-color: #008080; font-weight: bold\">0</span><span style=\"font-weight: bold\">}</span>\n",
       "</pre>\n"
      ],
      "text/plain": [
       "Appending playlist:\n",
       "\u001b[1m{\u001b[0m\u001b[32m'name'\u001b[0m: \u001b[32m'Heavy Rotation: Diciembre 2017'\u001b[0m, \u001b[32m'last_modified_date'\u001b[0m: \u001b[32m'2018-09-18'\u001b[0m, \u001b[32m'n_items'\u001b[0m: \u001b[1;36m20\u001b[0m,\n",
       "\u001b[32m'description'\u001b[0m: \u001b[3;35mNone\u001b[0m, \u001b[32m'n_followers'\u001b[0m: \u001b[1;36m0\u001b[0m\u001b[1m}\u001b[0m\n"
      ]
     },
     "metadata": {},
     "output_type": "display_data"
    },
    {
     "data": {
      "text/html": [
       "<pre style=\"white-space:pre;overflow-x:auto;line-height:normal;font-family:Menlo,'DejaVu Sans Mono',consolas,'Courier New',monospace\">Appending playlist:\n",
       "<span style=\"font-weight: bold\">{</span><span style=\"color: #008000; text-decoration-color: #008000\">'name'</span>: <span style=\"color: #008000; text-decoration-color: #008000\">'Heavy Rotation: Noviembre 2017'</span>, <span style=\"color: #008000; text-decoration-color: #008000\">'last_modified_date'</span>: <span style=\"color: #008000; text-decoration-color: #008000\">'2018-09-18'</span>, <span style=\"color: #008000; text-decoration-color: #008000\">'n_items'</span>: <span style=\"color: #008080; text-decoration-color: #008080; font-weight: bold\">15</span>,\n",
       "<span style=\"color: #008000; text-decoration-color: #008000\">'description'</span>: <span style=\"color: #800080; text-decoration-color: #800080; font-style: italic\">None</span>, <span style=\"color: #008000; text-decoration-color: #008000\">'n_followers'</span>: <span style=\"color: #008080; text-decoration-color: #008080; font-weight: bold\">0</span><span style=\"font-weight: bold\">}</span>\n",
       "</pre>\n"
      ],
      "text/plain": [
       "Appending playlist:\n",
       "\u001b[1m{\u001b[0m\u001b[32m'name'\u001b[0m: \u001b[32m'Heavy Rotation: Noviembre 2017'\u001b[0m, \u001b[32m'last_modified_date'\u001b[0m: \u001b[32m'2018-09-18'\u001b[0m, \u001b[32m'n_items'\u001b[0m: \u001b[1;36m15\u001b[0m,\n",
       "\u001b[32m'description'\u001b[0m: \u001b[3;35mNone\u001b[0m, \u001b[32m'n_followers'\u001b[0m: \u001b[1;36m0\u001b[0m\u001b[1m}\u001b[0m\n"
      ]
     },
     "metadata": {},
     "output_type": "display_data"
    },
    {
     "data": {
      "text/html": [
       "<pre style=\"white-space:pre;overflow-x:auto;line-height:normal;font-family:Menlo,'DejaVu Sans Mono',consolas,'Courier New',monospace\">Appending playlist:\n",
       "<span style=\"font-weight: bold\">{</span><span style=\"color: #008000; text-decoration-color: #008000\">'name'</span>: <span style=\"color: #008000; text-decoration-color: #008000\">'Pachanguita'</span>, <span style=\"color: #008000; text-decoration-color: #008000\">'last_modified_date'</span>: <span style=\"color: #008000; text-decoration-color: #008000\">'2018-09-18'</span>, <span style=\"color: #008000; text-decoration-color: #008000\">'n_items'</span>: <span style=\"color: #008080; text-decoration-color: #008080; font-weight: bold\">11</span>, <span style=\"color: #008000; text-decoration-color: #008000\">'description'</span>: \n",
       "<span style=\"color: #800080; text-decoration-color: #800080; font-style: italic\">None</span>, <span style=\"color: #008000; text-decoration-color: #008000\">'n_followers'</span>: <span style=\"color: #008080; text-decoration-color: #008080; font-weight: bold\">0</span><span style=\"font-weight: bold\">}</span>\n",
       "</pre>\n"
      ],
      "text/plain": [
       "Appending playlist:\n",
       "\u001b[1m{\u001b[0m\u001b[32m'name'\u001b[0m: \u001b[32m'Pachanguita'\u001b[0m, \u001b[32m'last_modified_date'\u001b[0m: \u001b[32m'2018-09-18'\u001b[0m, \u001b[32m'n_items'\u001b[0m: \u001b[1;36m11\u001b[0m, \u001b[32m'description'\u001b[0m: \n",
       "\u001b[3;35mNone\u001b[0m, \u001b[32m'n_followers'\u001b[0m: \u001b[1;36m0\u001b[0m\u001b[1m}\u001b[0m\n"
      ]
     },
     "metadata": {},
     "output_type": "display_data"
    }
   ],
   "source": [
    "playlists_list = []\n",
    "tracks_in_playlists = []\n",
    "for playlist in playlists_json['playlists']:\n",
    "    # Playlist\n",
    "    _playlist = {}\n",
    "    _playlist['name'] = playlist['name']\n",
    "    _playlist['last_modified_date'] = playlist['lastModifiedDate']\n",
    "    _playlist['n_items'] = len(playlist['items'])\n",
    "    _playlist['description'] = playlist['description']\n",
    "    _playlist['n_followers'] = playlist['numberOfFollowers']\n",
    "    \n",
    "    # Tracks in playlist\n",
    "    for position,track in enumerate(playlist['items'], start = 1):\n",
    "        try:\n",
    "            _track = {}\n",
    "            _track['track_name'] = track['track']['trackName']\n",
    "            _track['artist_name'] = track['track']['artistName']\n",
    "            _track['album_name'] = track['track']['albumName']\n",
    "            _track['track_uri'] = track['track']['trackUri']\n",
    "            _track['playlist_name'] = playlist['name']\n",
    "            _track['position_in_list'] = position\n",
    "            \n",
    "            # append each track as it goes - the FK is the playlist name anyways\n",
    "            tracks_in_playlists.append(_track)\n",
    "        except TypeError:\n",
    "            print(\"local item.. skipping.\")\n",
    "            pass\n",
    "    \n",
    "    # After going through each playlist and each item in playlist we append to list\n",
    "    print(f\"Appending playlist:\\n{_playlist}\")\n",
    "    playlists_list.append(_playlist)"
   ]
  },
  {
   "cell_type": "code",
   "execution_count": 6,
   "id": "090663b1-9bcf-4b1a-964d-764c43a92901",
   "metadata": {},
   "outputs": [
    {
     "data": {
      "text/html": [
       "<pre style=\"white-space:pre;overflow-x:auto;line-height:normal;font-family:Menlo,'DejaVu Sans Mono',consolas,'Courier New',monospace\">Number of playlists: <span style=\"color: #008080; text-decoration-color: #008080; font-weight: bold\">117</span>\n",
       "</pre>\n"
      ],
      "text/plain": [
       "Number of playlists: \u001b[1;36m117\u001b[0m\n"
      ]
     },
     "metadata": {},
     "output_type": "display_data"
    },
    {
     "data": {
      "text/html": [
       "<div>\n",
       "<style scoped>\n",
       "    .dataframe tbody tr th:only-of-type {\n",
       "        vertical-align: middle;\n",
       "    }\n",
       "\n",
       "    .dataframe tbody tr th {\n",
       "        vertical-align: top;\n",
       "    }\n",
       "\n",
       "    .dataframe thead th {\n",
       "        text-align: right;\n",
       "    }\n",
       "</style>\n",
       "<table border=\"1\" class=\"dataframe\">\n",
       "  <thead>\n",
       "    <tr style=\"text-align: right;\">\n",
       "      <th></th>\n",
       "      <th>name</th>\n",
       "      <th>last_modified_date</th>\n",
       "      <th>n_items</th>\n",
       "      <th>description</th>\n",
       "      <th>n_followers</th>\n",
       "    </tr>\n",
       "  </thead>\n",
       "  <tbody>\n",
       "    <tr>\n",
       "      <th>0</th>\n",
       "      <td>Heavy Rotation: Oct 21</td>\n",
       "      <td>2021-10-07</td>\n",
       "      <td>17</td>\n",
       "      <td>None</td>\n",
       "      <td>0</td>\n",
       "    </tr>\n",
       "    <tr>\n",
       "      <th>1</th>\n",
       "      <td>descubriendo</td>\n",
       "      <td>2021-10-06</td>\n",
       "      <td>17</td>\n",
       "      <td>None</td>\n",
       "      <td>0</td>\n",
       "    </tr>\n",
       "    <tr>\n",
       "      <th>2</th>\n",
       "      <td>World We Created</td>\n",
       "      <td>2021-09-27</td>\n",
       "      <td>2</td>\n",
       "      <td>None</td>\n",
       "      <td>0</td>\n",
       "    </tr>\n",
       "    <tr>\n",
       "      <th>3</th>\n",
       "      <td>30-min workout</td>\n",
       "      <td>2021-09-28</td>\n",
       "      <td>14</td>\n",
       "      <td>None</td>\n",
       "      <td>0</td>\n",
       "    </tr>\n",
       "    <tr>\n",
       "      <th>4</th>\n",
       "      <td>Beibi Songs</td>\n",
       "      <td>2021-09-04</td>\n",
       "      <td>2</td>\n",
       "      <td>None</td>\n",
       "      <td>0</td>\n",
       "    </tr>\n",
       "  </tbody>\n",
       "</table>\n",
       "</div>"
      ],
      "text/plain": [
       "                     name last_modified_date  n_items description  n_followers\n",
       "0  Heavy Rotation: Oct 21         2021-10-07       17        None            0\n",
       "1            descubriendo         2021-10-06       17        None            0\n",
       "2        World We Created         2021-09-27        2        None            0\n",
       "3          30-min workout         2021-09-28       14        None            0\n",
       "4             Beibi Songs         2021-09-04        2        None            0"
      ]
     },
     "execution_count": 6,
     "metadata": {},
     "output_type": "execute_result"
    }
   ],
   "source": [
    "print(f\"Number of playlists: {len(playlists_list)}\")\n",
    "playlists_df = pd.DataFrame(playlists_list)\n",
    "playlists_df.to_csv(\"csvs/playlists.csv\", encoding = 'utf-8', index = False)\n",
    "playlists_df.head()"
   ]
  },
  {
   "cell_type": "code",
   "execution_count": 7,
   "id": "943836c2-c7e1-42c3-b372-67c23f603a34",
   "metadata": {},
   "outputs": [
    {
     "data": {
      "text/html": [
       "<pre style=\"white-space:pre;overflow-x:auto;line-height:normal;font-family:Menlo,'DejaVu Sans Mono',consolas,'Courier New',monospace\">Number of tracks in playlists: <span style=\"color: #008080; text-decoration-color: #008080; font-weight: bold\">2621</span>\n",
       "</pre>\n"
      ],
      "text/plain": [
       "Number of tracks in playlists: \u001b[1;36m2621\u001b[0m\n"
      ]
     },
     "metadata": {},
     "output_type": "display_data"
    },
    {
     "data": {
      "text/html": [
       "<div>\n",
       "<style scoped>\n",
       "    .dataframe tbody tr th:only-of-type {\n",
       "        vertical-align: middle;\n",
       "    }\n",
       "\n",
       "    .dataframe tbody tr th {\n",
       "        vertical-align: top;\n",
       "    }\n",
       "\n",
       "    .dataframe thead th {\n",
       "        text-align: right;\n",
       "    }\n",
       "</style>\n",
       "<table border=\"1\" class=\"dataframe\">\n",
       "  <thead>\n",
       "    <tr style=\"text-align: right;\">\n",
       "      <th></th>\n",
       "      <th>track_name</th>\n",
       "      <th>artist_name</th>\n",
       "      <th>album_name</th>\n",
       "      <th>track_uri</th>\n",
       "      <th>playlist_name</th>\n",
       "      <th>position_in_list</th>\n",
       "    </tr>\n",
       "  </thead>\n",
       "  <tbody>\n",
       "    <tr>\n",
       "      <th>0</th>\n",
       "      <td>niño,</td>\n",
       "      <td>Ed Maverick</td>\n",
       "      <td>eduardo</td>\n",
       "      <td>spotify:track:3Yle1MUxWyj8NGS4ej8vnX</td>\n",
       "      <td>Heavy Rotation: Oct 21</td>\n",
       "      <td>1</td>\n",
       "    </tr>\n",
       "    <tr>\n",
       "      <th>1</th>\n",
       "      <td>Duele</td>\n",
       "      <td>Simpson Ahuevo</td>\n",
       "      <td>Duele</td>\n",
       "      <td>spotify:track:0vp1LRAhFT6PK9ixOmFT6E</td>\n",
       "      <td>Heavy Rotation: Oct 21</td>\n",
       "      <td>2</td>\n",
       "    </tr>\n",
       "    <tr>\n",
       "      <th>2</th>\n",
       "      <td>Fiebre</td>\n",
       "      <td>Simpson Ahuevo</td>\n",
       "      <td>Jorge</td>\n",
       "      <td>spotify:track:7LNlghRol6aZwCjFGTujKV</td>\n",
       "      <td>Heavy Rotation: Oct 21</td>\n",
       "      <td>3</td>\n",
       "    </tr>\n",
       "    <tr>\n",
       "      <th>3</th>\n",
       "      <td>Socios</td>\n",
       "      <td>Santa Fe Klan</td>\n",
       "      <td>Socios</td>\n",
       "      <td>spotify:track:7d8TPVWQLeW5PKrAb76V3N</td>\n",
       "      <td>Heavy Rotation: Oct 21</td>\n",
       "      <td>4</td>\n",
       "    </tr>\n",
       "    <tr>\n",
       "      <th>4</th>\n",
       "      <td>El diablo anda suelto</td>\n",
       "      <td>Código KM</td>\n",
       "      <td>El Fin Del Mundo</td>\n",
       "      <td>spotify:track:3itof28qmCDvqiyJSLLlzy</td>\n",
       "      <td>Heavy Rotation: Oct 21</td>\n",
       "      <td>5</td>\n",
       "    </tr>\n",
       "  </tbody>\n",
       "</table>\n",
       "</div>"
      ],
      "text/plain": [
       "              track_name     artist_name        album_name  \\\n",
       "0                  niño,     Ed Maverick           eduardo   \n",
       "1                  Duele  Simpson Ahuevo             Duele   \n",
       "2                 Fiebre  Simpson Ahuevo             Jorge   \n",
       "3                 Socios   Santa Fe Klan            Socios   \n",
       "4  El diablo anda suelto       Código KM  El Fin Del Mundo   \n",
       "\n",
       "                              track_uri           playlist_name  \\\n",
       "0  spotify:track:3Yle1MUxWyj8NGS4ej8vnX  Heavy Rotation: Oct 21   \n",
       "1  spotify:track:0vp1LRAhFT6PK9ixOmFT6E  Heavy Rotation: Oct 21   \n",
       "2  spotify:track:7LNlghRol6aZwCjFGTujKV  Heavy Rotation: Oct 21   \n",
       "3  spotify:track:7d8TPVWQLeW5PKrAb76V3N  Heavy Rotation: Oct 21   \n",
       "4  spotify:track:3itof28qmCDvqiyJSLLlzy  Heavy Rotation: Oct 21   \n",
       "\n",
       "   position_in_list  \n",
       "0                 1  \n",
       "1                 2  \n",
       "2                 3  \n",
       "3                 4  \n",
       "4                 5  "
      ]
     },
     "execution_count": 7,
     "metadata": {},
     "output_type": "execute_result"
    }
   ],
   "source": [
    "print(f\"Number of tracks in playlists: {len(tracks_in_playlists)}\")\n",
    "tracks_in_playlists_df = pd.DataFrame(tracks_in_playlists)\n",
    "tracks_in_playlists_df.to_csv(\"csvs/tracks_in_playlists.csv\", encoding = 'utf-8', index = False)\n",
    "tracks_in_playlists_df.head()"
   ]
  },
  {
   "cell_type": "markdown",
   "id": "8aca4603-9f13-41cd-86b7-eae8006f6de4",
   "metadata": {},
   "source": [
    "## Search queries\n",
    "It's a list of search queries but a query can have 0 or more interactions.\n",
    "\n",
    "This can be a nested list since it's not that important imo"
   ]
  },
  {
   "cell_type": "code",
   "execution_count": 8,
   "id": "2c144431-da97-4220-8518-c7e7f0e6686f",
   "metadata": {},
   "outputs": [],
   "source": [
    "with open(\"MyData/SearchQueries.json\", \"r\") as file:\n",
    "    search_queries_json = json.load(file)"
   ]
  },
  {
   "cell_type": "code",
   "execution_count": 10,
   "id": "29aad155-6aa5-4b65-84c2-6ea3a0cb9be2",
   "metadata": {},
   "outputs": [
    {
     "data": {
      "text/html": [
       "<div>\n",
       "<style scoped>\n",
       "    .dataframe tbody tr th:only-of-type {\n",
       "        vertical-align: middle;\n",
       "    }\n",
       "\n",
       "    .dataframe tbody tr th {\n",
       "        vertical-align: top;\n",
       "    }\n",
       "\n",
       "    .dataframe thead th {\n",
       "        text-align: right;\n",
       "    }\n",
       "</style>\n",
       "<table border=\"1\" class=\"dataframe\">\n",
       "  <thead>\n",
       "    <tr style=\"text-align: right;\">\n",
       "      <th></th>\n",
       "      <th>platform</th>\n",
       "      <th>search_time</th>\n",
       "      <th>search_query</th>\n",
       "      <th>search_interaction_uris</th>\n",
       "    </tr>\n",
       "  </thead>\n",
       "  <tbody>\n",
       "    <tr>\n",
       "      <th>0</th>\n",
       "      <td>IPHONE</td>\n",
       "      <td>2021-07-11T00:16:29.401Z[UTC]</td>\n",
       "      <td>vice city</td>\n",
       "      <td>[spotify:track:2SIdGJTWirTxRNEyCp9ocI]</td>\n",
       "    </tr>\n",
       "    <tr>\n",
       "      <th>1</th>\n",
       "      <td>IPHONE</td>\n",
       "      <td>2021-07-11T00:24:05.691Z[UTC]</td>\n",
       "      <td>ab soul</td>\n",
       "      <td>[spotify:artist:0g9vAlRPK9Gt3FKCekk4TW]</td>\n",
       "    </tr>\n",
       "    <tr>\n",
       "      <th>2</th>\n",
       "      <td>IPHONE</td>\n",
       "      <td>2021-07-11T03:27:52.664Z[UTC]</td>\n",
       "      <td>de do</td>\n",
       "      <td>[spotify:track:0ZMd3vx4pIcQyKAMWWvE8i, spotify...</td>\n",
       "    </tr>\n",
       "    <tr>\n",
       "      <th>3</th>\n",
       "      <td>IPHONE</td>\n",
       "      <td>2021-07-12T18:20:10.919Z[UTC]</td>\n",
       "      <td>mill</td>\n",
       "      <td>[spotify:artist:31l8FA2bO5qxpqf8uhV5eZ]</td>\n",
       "    </tr>\n",
       "    <tr>\n",
       "      <th>4</th>\n",
       "      <td>IPHONE</td>\n",
       "      <td>2021-07-13T00:22:26.503Z[UTC]</td>\n",
       "      <td>818</td>\n",
       "      <td>[spotify:track:3ZwrKxXpwOXPezZ9ey9QT1, spotify...</td>\n",
       "    </tr>\n",
       "  </tbody>\n",
       "</table>\n",
       "</div>"
      ],
      "text/plain": [
       "  platform                    search_time search_query  \\\n",
       "0   IPHONE  2021-07-11T00:16:29.401Z[UTC]    vice city   \n",
       "1   IPHONE  2021-07-11T00:24:05.691Z[UTC]      ab soul   \n",
       "2   IPHONE  2021-07-11T03:27:52.664Z[UTC]        de do   \n",
       "3   IPHONE  2021-07-12T18:20:10.919Z[UTC]         mill   \n",
       "4   IPHONE  2021-07-13T00:22:26.503Z[UTC]          818   \n",
       "\n",
       "                             search_interaction_uris  \n",
       "0             [spotify:track:2SIdGJTWirTxRNEyCp9ocI]  \n",
       "1            [spotify:artist:0g9vAlRPK9Gt3FKCekk4TW]  \n",
       "2  [spotify:track:0ZMd3vx4pIcQyKAMWWvE8i, spotify...  \n",
       "3            [spotify:artist:31l8FA2bO5qxpqf8uhV5eZ]  \n",
       "4  [spotify:track:3ZwrKxXpwOXPezZ9ey9QT1, spotify...  "
      ]
     },
     "execution_count": 10,
     "metadata": {},
     "output_type": "execute_result"
    }
   ],
   "source": [
    "search_queries_df = pd.DataFrame(search_queries_json)\n",
    "search_queries_df.columns = ['platform', 'search_time', 'search_query', 'search_interaction_uris']\n",
    "search_queries_df.to_csv(\"csvs/search_queries.csv\", encoding = 'utf-8', index = False)\n",
    "search_queries_df.head()"
   ]
  },
  {
   "cell_type": "markdown",
   "id": "cb09450b-0f55-4676-b55b-7e531c0074f3",
   "metadata": {},
   "source": [
    "## Streaming history\n",
    "\n",
    "We'll borrow the code from [@io_exception](https://twitter.com/io_exception) in his [tacosdedatos tutorial](https://old.tacosdedatos.com/mas-data-viz-con-spotify-python)"
   ]
  },
  {
   "cell_type": "code",
   "execution_count": 11,
   "id": "e4b33bf2-a857-42a5-9a8a-a0cb1b77c7f0",
   "metadata": {},
   "outputs": [
    {
     "data": {
      "text/html": [
       "<div>\n",
       "<style scoped>\n",
       "    .dataframe tbody tr th:only-of-type {\n",
       "        vertical-align: middle;\n",
       "    }\n",
       "\n",
       "    .dataframe tbody tr th {\n",
       "        vertical-align: top;\n",
       "    }\n",
       "\n",
       "    .dataframe thead th {\n",
       "        text-align: right;\n",
       "    }\n",
       "</style>\n",
       "<table border=\"1\" class=\"dataframe\">\n",
       "  <thead>\n",
       "    <tr style=\"text-align: right;\">\n",
       "      <th></th>\n",
       "      <th>end_time</th>\n",
       "      <th>artist_name</th>\n",
       "      <th>track_name</th>\n",
       "      <th>ms_played</th>\n",
       "    </tr>\n",
       "  </thead>\n",
       "  <tbody>\n",
       "    <tr>\n",
       "      <th>0</th>\n",
       "      <td>2020-10-06 20:12:00</td>\n",
       "      <td>Gera MX</td>\n",
       "      <td>Rumores</td>\n",
       "      <td>2693</td>\n",
       "    </tr>\n",
       "    <tr>\n",
       "      <th>1</th>\n",
       "      <td>2020-10-07 02:33:00</td>\n",
       "      <td>Gera MX</td>\n",
       "      <td>A Lo Mexicano</td>\n",
       "      <td>118769</td>\n",
       "    </tr>\n",
       "    <tr>\n",
       "      <th>2</th>\n",
       "      <td>2020-10-07 02:33:00</td>\n",
       "      <td>Gera MX</td>\n",
       "      <td>Gran Pez</td>\n",
       "      <td>1951</td>\n",
       "    </tr>\n",
       "    <tr>\n",
       "      <th>3</th>\n",
       "      <td>2020-10-07 02:36:00</td>\n",
       "      <td>Gera MX</td>\n",
       "      <td>Gran Pez</td>\n",
       "      <td>190375</td>\n",
       "    </tr>\n",
       "    <tr>\n",
       "      <th>4</th>\n",
       "      <td>2020-10-07 02:38:00</td>\n",
       "      <td>Gera MX</td>\n",
       "      <td>Gran Pez</td>\n",
       "      <td>147921</td>\n",
       "    </tr>\n",
       "  </tbody>\n",
       "</table>\n",
       "</div>"
      ],
      "text/plain": [
       "             end_time artist_name     track_name  ms_played\n",
       "0 2020-10-06 20:12:00     Gera MX        Rumores       2693\n",
       "1 2020-10-07 02:33:00     Gera MX  A Lo Mexicano     118769\n",
       "2 2020-10-07 02:33:00     Gera MX       Gran Pez       1951\n",
       "3 2020-10-07 02:36:00     Gera MX       Gran Pez     190375\n",
       "4 2020-10-07 02:38:00     Gera MX       Gran Pez     147921"
      ]
     },
     "execution_count": 11,
     "metadata": {},
     "output_type": "execute_result"
    }
   ],
   "source": [
    "history = []\n",
    "for file in sorted(glob(\"MyData/StreamingHistory*.json\")):\n",
    "    with open(file) as readable:\n",
    "        history.extend(json.load(readable))\n",
    "history = pd.DataFrame(history)\n",
    "history[\"endTime\"] = pd.to_datetime(history[\"endTime\"])\n",
    "history.columns = ['end_time', 'artist_name', 'track_name', 'ms_played']\n",
    "\n",
    "history.to_csv(\"csvs/streaming_history.csv\", encoding = 'utf-8', index = False)\n",
    "history.head()"
   ]
  },
  {
   "cell_type": "markdown",
   "id": "04d0bf07-86c4-4605-8ba1-17946599a2a8",
   "metadata": {},
   "source": [
    "## Library\n",
    "YourLibrary.json is actually a collection of all your saved items\n",
    "but this means there's `tracks`, `albums`, `shows`, `episodes`, and `artists` in one file. \n",
    "\n",
    "These will be each a `library_` table/dataframe"
   ]
  },
  {
   "cell_type": "code",
   "execution_count": 12,
   "id": "b34002c4-e5e2-4ad6-be04-be12f8c5ca1f",
   "metadata": {},
   "outputs": [],
   "source": [
    "with open(\"MyData/YourLibrary.json\", \"r\") as file:\n",
    "    library_json = json.load(file)"
   ]
  },
  {
   "cell_type": "code",
   "execution_count": 13,
   "id": "f94a398e-3114-4d08-b4c8-6ed7f99b04d4",
   "metadata": {},
   "outputs": [
    {
     "data": {
      "text/html": [
       "<pre style=\"white-space:pre;overflow-x:auto;line-height:normal;font-family:Menlo,'DejaVu Sans Mono',consolas,'Courier New',monospace\">saving: csvs/library_tracks.csv\n",
       "</pre>\n"
      ],
      "text/plain": [
       "saving: csvs/library_tracks.csv\n"
      ]
     },
     "metadata": {},
     "output_type": "display_data"
    },
    {
     "data": {
      "text/html": [
       "<pre style=\"white-space:pre;overflow-x:auto;line-height:normal;font-family:Menlo,'DejaVu Sans Mono',consolas,'Courier New',monospace\">saving: csvs/library_albums.csv\n",
       "</pre>\n"
      ],
      "text/plain": [
       "saving: csvs/library_albums.csv\n"
      ]
     },
     "metadata": {},
     "output_type": "display_data"
    },
    {
     "data": {
      "text/html": [
       "<pre style=\"white-space:pre;overflow-x:auto;line-height:normal;font-family:Menlo,'DejaVu Sans Mono',consolas,'Courier New',monospace\">saving: csvs/library_shows.csv\n",
       "</pre>\n"
      ],
      "text/plain": [
       "saving: csvs/library_shows.csv\n"
      ]
     },
     "metadata": {},
     "output_type": "display_data"
    },
    {
     "data": {
      "text/html": [
       "<pre style=\"white-space:pre;overflow-x:auto;line-height:normal;font-family:Menlo,'DejaVu Sans Mono',consolas,'Courier New',monospace\">saving: csvs/library_episodes.csv\n",
       "</pre>\n"
      ],
      "text/plain": [
       "saving: csvs/library_episodes.csv\n"
      ]
     },
     "metadata": {},
     "output_type": "display_data"
    },
    {
     "data": {
      "text/html": [
       "<pre style=\"white-space:pre;overflow-x:auto;line-height:normal;font-family:Menlo,'DejaVu Sans Mono',consolas,'Courier New',monospace\">saving: csvs/library_artists.csv\n",
       "</pre>\n"
      ],
      "text/plain": [
       "saving: csvs/library_artists.csv\n"
      ]
     },
     "metadata": {},
     "output_type": "display_data"
    }
   ],
   "source": [
    "for label in ['tracks', 'albums', 'shows', 'episodes', 'artists']:\n",
    "    file_name = f\"csvs/library_{label}.csv\"\n",
    "    print(f\"saving: {file_name}\")\n",
    "    pd.DataFrame(library_json[label]).to_csv(file_name, encoding = 'utf-8', index = False)"
   ]
  }
 ],
 "metadata": {
  "kernelspec": {
   "display_name": "Python 3 (ipykernel)",
   "language": "python",
   "name": "python3"
  },
  "language_info": {
   "codemirror_mode": {
    "name": "ipython",
    "version": 3
   },
   "file_extension": ".py",
   "mimetype": "text/x-python",
   "name": "python",
   "nbconvert_exporter": "python",
   "pygments_lexer": "ipython3",
   "version": "3.9.6"
  }
 },
 "nbformat": 4,
 "nbformat_minor": 5
}
