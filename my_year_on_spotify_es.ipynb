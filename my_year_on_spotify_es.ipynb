{
  "nbformat": 4,
  "nbformat_minor": 2,
  "metadata": {
    "colab": {
      "name": "my-year-on-spotify-es.ipynb",
      "provenance": [],
      "toc_visible": true
    },
    "kernelspec": {
      "name": "python3",
      "display_name": "Python 3.9.6 64-bit ('.venv': venv)"
    },
    "language_info": {
      "name": "python",
      "version": "3.9.6",
      "mimetype": "text/x-python",
      "codemirror_mode": {
        "name": "ipython",
        "version": 3
      },
      "pygments_lexer": "ipython3",
      "nbconvert_exporter": "python",
      "file_extension": ".py"
    },
    "interpreter": {
      "hash": "fe6676e46d7dabbfb7e43710aeb6ec516433b0b5380f13a68a01714360719737"
    }
  },
  "cells": [
    {
      "cell_type": "markdown",
      "source": [
        "# Mi año en Spotify"
      ],
      "metadata": {
        "id": "RJlg357Y7UQr"
      }
    },
    {
      "cell_type": "code",
      "execution_count": null,
      "source": [
        "# Si tienes tus datos que mejor, si no, descarga aquí unos cuantos de los míos\n",
        "# _ = !wget -O StreamingHistory1.json https://pastebin.com/raw/wq3NZfsK"
      ],
      "outputs": [],
      "metadata": {
        "id": "ihNfZbMr5i2G"
      }
    },
    {
      "cell_type": "code",
      "execution_count": 1,
      "source": [
        "# Algunos imports\n",
        "import calendar\n",
        "import numpy as np\n",
        "import matplotlib.pyplot as plt\n",
        "import seaborn as sns\n",
        "from datetime import timedelta"
      ],
      "outputs": [],
      "metadata": {
        "id": "T1GFiwDV_d9h"
      }
    },
    {
      "cell_type": "markdown",
      "source": [
        "Inspirado por [el post de Nerudista en Tacos de datos](https://tacosdedatos.com/dueno-de-mis-datos-spotify) fui a pedirles mi información a Spotify con el fin de hacer unas cuantas gráficas con ella.\n",
        "\n",
        "Si tu quieres hacer lo mismo, puedes ir a pedirlos en [esta página](https://www.spotify.com/es/account/privacy/), una vez que la solicites, tomará un par de días para que la puedas descargar. \n",
        "\n",
        "Pero en fin, entre toda la información que recibirás, habrán algunos archivos que se llaman `StreamingHistoryXX.json`, estos son con los que estaremos trabajando en el resto del post.\n",
        "\n",
        "## Los datos  \n",
        "\n",
        "Los archivos dentro de los archivos *json* mencionados anteriormente se ven más o menos así:  \n",
        "\n",
        "\n",
        "```json\n",
        "[\n",
        "  {\n",
        "    \"endTime\" : \"2019-02-04 17:14\",\n",
        "    \"artistName\" : \"MGMT\",\n",
        "    \"trackName\" : \"Time to Pretend\",\n",
        "    \"msPlayed\" : 261000\n",
        "  },\n",
        "  {\n",
        "    \"endTime\" : \"2019-02-04 17:18\",\n",
        "    \"artistName\" : \"MGMT\",\n",
        "\"...\" \n",
        "```  \n",
        "\n",
        "En donde estos son los valores:  \n",
        "\n",
        " - `endTime`: Día y hora en los que finalizó la reproducción, en formato UTC (Tiempo Universal Coordinado).\n",
        " - `artistName`: Nombre del \"creador\" de cada elemento reproducido (por ejemplo, el nombre del artista de una canción).\n",
        " - `trackName`: Nombre de los elementos reproducidos o vistos (por ejemplo, título de una canción o nombre de un video). \n",
        " - `msPlayed`: significa cuántos milisegundos se reprodujo una canción. \n",
        "\n",
        "Para leer estos datos en un DataFrame (que es como los vamos a ocupar más adelante) vamos a hacer uso de esta pequeña función:"
      ],
      "metadata": {
        "id": "qbWnTYfb7mKG"
      }
    },
    {
      "cell_type": "code",
      "execution_count": 2,
      "source": [
        "from glob import glob\n",
        "import json\n",
        "import pandas as pd\n",
        "\n",
        "def read_history():\n",
        "    history = []\n",
        "    for file in sorted(glob(\"MyData/StreamingHistory*.json\")):\n",
        "        with open(file) as readable:\n",
        "            history.extend(json.load(readable))\n",
        "    history = pd.DataFrame(history)\n",
        "    history[\"endTime\"] = pd.to_datetime(history[\"endTime\"])\n",
        "    return history\n",
        "\n",
        "streaming_history = read_history()\n",
        "streaming_history.head(5)"
      ],
      "outputs": [
        {
          "output_type": "execute_result",
          "data": {
            "text/html": [
              "<div>\n",
              "<style scoped>\n",
              "    .dataframe tbody tr th:only-of-type {\n",
              "        vertical-align: middle;\n",
              "    }\n",
              "\n",
              "    .dataframe tbody tr th {\n",
              "        vertical-align: top;\n",
              "    }\n",
              "\n",
              "    .dataframe thead th {\n",
              "        text-align: right;\n",
              "    }\n",
              "</style>\n",
              "<table border=\"1\" class=\"dataframe\">\n",
              "  <thead>\n",
              "    <tr style=\"text-align: right;\">\n",
              "      <th></th>\n",
              "      <th>endTime</th>\n",
              "      <th>artistName</th>\n",
              "      <th>trackName</th>\n",
              "      <th>msPlayed</th>\n",
              "    </tr>\n",
              "  </thead>\n",
              "  <tbody>\n",
              "    <tr>\n",
              "      <th>0</th>\n",
              "      <td>2020-10-06 20:12:00</td>\n",
              "      <td>Gera MX</td>\n",
              "      <td>Rumores</td>\n",
              "      <td>2693</td>\n",
              "    </tr>\n",
              "    <tr>\n",
              "      <th>1</th>\n",
              "      <td>2020-10-07 02:33:00</td>\n",
              "      <td>Gera MX</td>\n",
              "      <td>A Lo Mexicano</td>\n",
              "      <td>118769</td>\n",
              "    </tr>\n",
              "    <tr>\n",
              "      <th>2</th>\n",
              "      <td>2020-10-07 02:33:00</td>\n",
              "      <td>Gera MX</td>\n",
              "      <td>Gran Pez</td>\n",
              "      <td>1951</td>\n",
              "    </tr>\n",
              "    <tr>\n",
              "      <th>3</th>\n",
              "      <td>2020-10-07 02:36:00</td>\n",
              "      <td>Gera MX</td>\n",
              "      <td>Gran Pez</td>\n",
              "      <td>190375</td>\n",
              "    </tr>\n",
              "    <tr>\n",
              "      <th>4</th>\n",
              "      <td>2020-10-07 02:38:00</td>\n",
              "      <td>Gera MX</td>\n",
              "      <td>Gran Pez</td>\n",
              "      <td>147921</td>\n",
              "    </tr>\n",
              "  </tbody>\n",
              "</table>\n",
              "</div>"
            ],
            "text/plain": [
              "              endTime artistName      trackName  msPlayed\n",
              "0 2020-10-06 20:12:00    Gera MX        Rumores      2693\n",
              "1 2020-10-07 02:33:00    Gera MX  A Lo Mexicano    118769\n",
              "2 2020-10-07 02:33:00    Gera MX       Gran Pez      1951\n",
              "3 2020-10-07 02:36:00    Gera MX       Gran Pez    190375\n",
              "4 2020-10-07 02:38:00    Gera MX       Gran Pez    147921"
            ]
          },
          "metadata": {},
          "execution_count": 2
        }
      ],
      "metadata": {
        "id": "4iGoMSaV7kwS",
        "colab": {
          "base_uri": "https://localhost:8080/",
          "height": 206
        },
        "outputId": "016d4a0a-3f4f-454b-c219-3cd9c965923b"
      }
    },
    {
      "cell_type": "markdown",
      "source": [
        "## Histograma \n",
        "\n",
        "Siempre he sido fan de la forma en la que GitHub presenta las contribuciones que cada desarrollador hace en el sitio, y me parece que los datos obtenidos de Spotify, pero antes vamos a tener que modificar los datos un poco.\n",
        "\n",
        "Como no nos interesa la hora en que cada canción terminó, primero vamos a deshacernos de la parte temporal de `endTime`:"
      ],
      "metadata": {
        "id": "o6WbVK0w-1kh"
      }
    },
    {
      "cell_type": "code",
      "execution_count": 3,
      "source": [
        "streaming_history[\"date\"] = streaming_history[\"endTime\"].dt.floor('d')"
      ],
      "outputs": [],
      "metadata": {
        "id": "qG0pdLLA7xhl"
      }
    },
    {
      "cell_type": "markdown",
      "source": [
        "Luego vamos a obtener un conteo de canciones por día con `groupby`:"
      ],
      "metadata": {
        "id": "xKA2gmRV-_TT"
      }
    },
    {
      "cell_type": "code",
      "execution_count": 4,
      "source": [
        "by_date = streaming_history.groupby(\"date\")[[\"trackName\"]].count()\n",
        "by_date = by_date.sort_index()"
      ],
      "outputs": [],
      "metadata": {
        "id": "qtUctbjU_B48"
      }
    },
    {
      "cell_type": "markdown",
      "source": [
        "Para nuestra gráfica, necesitamos también saber a qué día de la semana y qué número de semana corresponde cada fecha, esto lo obtenemos con las propiedades `week` y `weekday`:"
      ],
      "metadata": {
        "id": "Ws_r4kc-_F13"
      }
    },
    {
      "cell_type": "code",
      "execution_count": 5,
      "source": [
        "by_date[\"weekday\"] = by_date.index.weekday\n",
        "by_date[\"week\"] = by_date.index.week"
      ],
      "outputs": [
        {
          "output_type": "stream",
          "name": "stderr",
          "text": [
            "/var/folders/5z/s5dw0v0s6bjgn7_r7b4mzkqr0000gp/T/ipykernel_92587/3935525091.py:2: FutureWarning: weekofyear and week have been deprecated, please use DatetimeIndex.isocalendar().week instead, which returns a Series.  To exactly reproduce the behavior of week and weekofyear and return an Index, you may call pd.Int64Index(idx.isocalendar().week)\n",
            "  by_date[\"week\"] = by_date.index.week\n"
          ]
        }
      ],
      "metadata": {
        "id": "UreTHC6B_IGA"
      }
    },
    {
      "cell_type": "markdown",
      "source": [
        "Y que al final dejará nuestro DataFrame viéndose así:"
      ],
      "metadata": {
        "id": "T1sgo8sz_MLF"
      }
    },
    {
      "cell_type": "code",
      "execution_count": 6,
      "source": [
        "by_date.head()"
      ],
      "outputs": [
        {
          "output_type": "execute_result",
          "data": {
            "text/html": [
              "<div>\n",
              "<style scoped>\n",
              "    .dataframe tbody tr th:only-of-type {\n",
              "        vertical-align: middle;\n",
              "    }\n",
              "\n",
              "    .dataframe tbody tr th {\n",
              "        vertical-align: top;\n",
              "    }\n",
              "\n",
              "    .dataframe thead th {\n",
              "        text-align: right;\n",
              "    }\n",
              "</style>\n",
              "<table border=\"1\" class=\"dataframe\">\n",
              "  <thead>\n",
              "    <tr style=\"text-align: right;\">\n",
              "      <th></th>\n",
              "      <th>trackName</th>\n",
              "      <th>weekday</th>\n",
              "      <th>week</th>\n",
              "    </tr>\n",
              "    <tr>\n",
              "      <th>date</th>\n",
              "      <th></th>\n",
              "      <th></th>\n",
              "      <th></th>\n",
              "    </tr>\n",
              "  </thead>\n",
              "  <tbody>\n",
              "    <tr>\n",
              "      <th>2020-10-06</th>\n",
              "      <td>1</td>\n",
              "      <td>1</td>\n",
              "      <td>41</td>\n",
              "    </tr>\n",
              "    <tr>\n",
              "      <th>2020-10-07</th>\n",
              "      <td>6</td>\n",
              "      <td>2</td>\n",
              "      <td>41</td>\n",
              "    </tr>\n",
              "    <tr>\n",
              "      <th>2020-10-09</th>\n",
              "      <td>4</td>\n",
              "      <td>4</td>\n",
              "      <td>41</td>\n",
              "    </tr>\n",
              "    <tr>\n",
              "      <th>2020-10-10</th>\n",
              "      <td>13</td>\n",
              "      <td>5</td>\n",
              "      <td>41</td>\n",
              "    </tr>\n",
              "    <tr>\n",
              "      <th>2020-10-11</th>\n",
              "      <td>15</td>\n",
              "      <td>6</td>\n",
              "      <td>41</td>\n",
              "    </tr>\n",
              "  </tbody>\n",
              "</table>\n",
              "</div>"
            ],
            "text/plain": [
              "            trackName  weekday  week\n",
              "date                                \n",
              "2020-10-06          1        1    41\n",
              "2020-10-07          6        2    41\n",
              "2020-10-09          4        4    41\n",
              "2020-10-10         13        5    41\n",
              "2020-10-11         15        6    41"
            ]
          },
          "metadata": {},
          "execution_count": 6
        }
      ],
      "metadata": {
        "id": "7F3t1nMc_RUz",
        "colab": {
          "base_uri": "https://localhost:8080/",
          "height": 238
        },
        "outputId": "a2eb6452-54e6-4aa1-84fe-101becc932c0"
      }
    },
    {
      "cell_type": "markdown",
      "source": [
        "Hasta el momento ya tenemos casi todo, lo que falta es obtener números continuos para la semana, es decir, en el frame de arriba la semana 6 de 2019 debe ser la semana 0, la semana 7 debe ser la semana 1... a mi no se me ocurre otra manera de hacerlo más que con un ciclo `for`:"
      ],
      "metadata": {
        "id": "qU3rceEC_T8W"
      }
    },
    {
      "cell_type": "code",
      "execution_count": 7,
      "source": [
        "week = 0\n",
        "prev_week = by_date.iloc[0][\"week\"]\n",
        "continuous_week = np.zeros(len(by_date)).astype(int)\n",
        "sunday_dates = []\n",
        "for i, (_, row) in enumerate(by_date.iterrows()):\n",
        "    if row[\"week\"] != prev_week:\n",
        "        week += 1\n",
        "        prev_week = row[\"week\"]\n",
        "    continuous_week[i] = week\n",
        "by_date[\"continuous_week\"] = continuous_week \n",
        "by_date.head()"
      ],
      "outputs": [
        {
          "output_type": "execute_result",
          "data": {
            "text/html": [
              "<div>\n",
              "<style scoped>\n",
              "    .dataframe tbody tr th:only-of-type {\n",
              "        vertical-align: middle;\n",
              "    }\n",
              "\n",
              "    .dataframe tbody tr th {\n",
              "        vertical-align: top;\n",
              "    }\n",
              "\n",
              "    .dataframe thead th {\n",
              "        text-align: right;\n",
              "    }\n",
              "</style>\n",
              "<table border=\"1\" class=\"dataframe\">\n",
              "  <thead>\n",
              "    <tr style=\"text-align: right;\">\n",
              "      <th></th>\n",
              "      <th>trackName</th>\n",
              "      <th>weekday</th>\n",
              "      <th>week</th>\n",
              "      <th>continuous_week</th>\n",
              "    </tr>\n",
              "    <tr>\n",
              "      <th>date</th>\n",
              "      <th></th>\n",
              "      <th></th>\n",
              "      <th></th>\n",
              "      <th></th>\n",
              "    </tr>\n",
              "  </thead>\n",
              "  <tbody>\n",
              "    <tr>\n",
              "      <th>2020-10-06</th>\n",
              "      <td>1</td>\n",
              "      <td>1</td>\n",
              "      <td>41</td>\n",
              "      <td>0</td>\n",
              "    </tr>\n",
              "    <tr>\n",
              "      <th>2020-10-07</th>\n",
              "      <td>6</td>\n",
              "      <td>2</td>\n",
              "      <td>41</td>\n",
              "      <td>0</td>\n",
              "    </tr>\n",
              "    <tr>\n",
              "      <th>2020-10-09</th>\n",
              "      <td>4</td>\n",
              "      <td>4</td>\n",
              "      <td>41</td>\n",
              "      <td>0</td>\n",
              "    </tr>\n",
              "    <tr>\n",
              "      <th>2020-10-10</th>\n",
              "      <td>13</td>\n",
              "      <td>5</td>\n",
              "      <td>41</td>\n",
              "      <td>0</td>\n",
              "    </tr>\n",
              "    <tr>\n",
              "      <th>2020-10-11</th>\n",
              "      <td>15</td>\n",
              "      <td>6</td>\n",
              "      <td>41</td>\n",
              "      <td>0</td>\n",
              "    </tr>\n",
              "  </tbody>\n",
              "</table>\n",
              "</div>"
            ],
            "text/plain": [
              "            trackName  weekday  week  continuous_week\n",
              "date                                                 \n",
              "2020-10-06          1        1    41                0\n",
              "2020-10-07          6        2    41                0\n",
              "2020-10-09          4        4    41                0\n",
              "2020-10-10         13        5    41                0\n",
              "2020-10-11         15        6    41                0"
            ]
          },
          "metadata": {},
          "execution_count": 7
        }
      ],
      "metadata": {
        "id": "wfA7Sjo2_UWG",
        "colab": {
          "base_uri": "https://localhost:8080/",
          "height": 238
        },
        "outputId": "12fbdf32-ad29-4a66-cc2c-a733cab31814"
      }
    },
    {
      "cell_type": "markdown",
      "source": [
        "El siguiente paso es preparar, con NumPy, una matriz de tamaño `días ✕ semanas` en donde cada una de las entradas será la cantidad de canciones que escuchamos en ese día, de esa semana:"
      ],
      "metadata": {
        "id": "07XuIlKn_pG5"
      }
    },
    {
      "cell_type": "code",
      "execution_count": 8,
      "source": [
        "songs = np.full((7, continuous_week.max()+1), np.nan)\n",
        "\n",
        "for index, row in by_date.iterrows():\n",
        "    songs[row[\"weekday\"]][row[\"continuous_week\"]] = row[\"trackName\"]"
      ],
      "outputs": [],
      "metadata": {
        "id": "R1jHHenG_qAy"
      }
    },
    {
      "cell_type": "markdown",
      "source": [
        "Ahora, simplemente podríamos graficar el la matriz `songs`, sin embargo el resultado no es tan agradable:"
      ],
      "metadata": {
        "id": "sGQVE8Id_vkb"
      }
    },
    {
      "cell_type": "code",
      "execution_count": 9,
      "source": [
        "sns.heatmap(songs)"
      ],
      "outputs": [
        {
          "output_type": "execute_result",
          "data": {
            "text/plain": [
              "<AxesSubplot:>"
            ]
          },
          "metadata": {},
          "execution_count": 9
        },
        {
          "output_type": "display_data",
          "data": {
            "image/png": "[encoded data removed]",
            "text/plain": [
              "<Figure size 432x288 with 2 Axes>"
            ]
          },
          "metadata": {
            "needs_background": "light"
          }
        }
      ],
      "metadata": {
        "id": "yjKUH9bV_tsX",
        "colab": {
          "base_uri": "https://localhost:8080/",
          "height": 282
        },
        "outputId": "5e02e095-072b-4f3d-b276-d5d1c8e155e2"
      }
    },
    {
      "cell_type": "markdown",
      "source": [
        "Lo que podemos hacer para mejorarlo requiere de un poco más de código. Lo primero es limpiar un poco las etiquetas de los ejes:"
      ],
      "metadata": {
        "id": "VWI8TbqOANxj"
      }
    },
    {
      "cell_type": "code",
      "execution_count": 10,
      "source": [
        "min_date = streaming_history[\"endTime\"].min()\n",
        "first_monday = min_date - timedelta(min_date.weekday())\n",
        "mons = [first_monday + timedelta(weeks=wk) for wk in range(continuous_week.max())]\n",
        "x_labels = [calendar.month_abbr[mons[0].month]]\n",
        "x_labels.extend([\n",
        "    calendar.month_abbr[mons[i].month] if mons[i-1].month != mons[i].month else \"\" \n",
        "    for i in range(1, len(mons))])\n",
        "\n",
        "y_labels = [\"Mon\", \"\", \"Wed\", \"\", \"Fri\", \"\", \"Sun\"]"
      ],
      "outputs": [],
      "metadata": {
        "id": "Pac4TRZyARkk"
      }
    },
    {
      "cell_type": "markdown",
      "source": [
        "Definitivamente las etiquetas del eje de las X son mucho más complicado que las de Y, ya que no son continuas ni fijas, deben ser calculadas de acuerdo a los datos (si queres un poco más de explicación sobre el código, dime en [@io_exception](https://twitter.com/io_exception)).\n",
        "\n",
        "Después vamos a hacer un poco de *grafimagia* con el tamaño de la gráfica, colores y los ejes. Y ya por último, usaremos el `heatmap` de *seaborn* con algunos cuantos argumentos que explicaré más adelante y desde luego, no olvides que hay que poner las etiquetas que tanto nos costó conseguir:\n"
      ],
      "metadata": {
        "id": "kd8BaY-YAi1P"
      }
    },
    {
      "cell_type": "code",
      "execution_count": 11,
      "source": [
        "fig = plt.figure(figsize=(20,5))\n",
        "ax = plt.subplot()\n",
        "\n",
        "ax.set_title(\"My year on Spotify\", fontsize=20,pad=40)\n",
        "ax.xaxis.tick_top()\n",
        "ax.tick_params(axis='both', which='both',length=0)\n",
        "ax.set_facecolor(\"#ebedf0\") \n",
        "fig.patch.set_facecolor('white')\n",
        "\n",
        "sns.heatmap(songs, linewidths=2, linecolor='white', square=True,\n",
        "            mask=np.isnan(songs), cmap=\"Greens\",\n",
        "            vmin=0, vmax=50, cbar=False, ax=ax)\n",
        "\n",
        "ax.set_yticklabels(y_labels, rotation=0)\n",
        "ax.set_xticklabels(x_labels, ha=\"left\")\n",
        "pass"
      ],
      "outputs": [
        {
          "output_type": "error",
          "ename": "ValueError",
          "evalue": "The number of FixedLocator locations (53), usually from a call to set_ticks, does not match the number of ticklabels (52).",
          "traceback": [
            "\u001b[0;31m---------------------------------------------------------------------------\u001b[0m",
            "\u001b[0;31mValueError\u001b[0m                                Traceback (most recent call last)",
            "\u001b[0;32m/var/folders/5z/s5dw0v0s6bjgn7_r7b4mzkqr0000gp/T/ipykernel_92587/1276800128.py\u001b[0m in \u001b[0;36m<module>\u001b[0;34m\u001b[0m\n\u001b[1;32m     13\u001b[0m \u001b[0;34m\u001b[0m\u001b[0m\n\u001b[1;32m     14\u001b[0m \u001b[0max\u001b[0m\u001b[0;34m.\u001b[0m\u001b[0mset_yticklabels\u001b[0m\u001b[0;34m(\u001b[0m\u001b[0my_labels\u001b[0m\u001b[0;34m,\u001b[0m \u001b[0mrotation\u001b[0m\u001b[0;34m=\u001b[0m\u001b[0;36m0\u001b[0m\u001b[0;34m)\u001b[0m\u001b[0;34m\u001b[0m\u001b[0;34m\u001b[0m\u001b[0m\n\u001b[0;32m---> 15\u001b[0;31m \u001b[0max\u001b[0m\u001b[0;34m.\u001b[0m\u001b[0mset_xticklabels\u001b[0m\u001b[0;34m(\u001b[0m\u001b[0mx_labels\u001b[0m\u001b[0;34m,\u001b[0m \u001b[0mha\u001b[0m\u001b[0;34m=\u001b[0m\u001b[0;34m\"left\"\u001b[0m\u001b[0;34m)\u001b[0m\u001b[0;34m\u001b[0m\u001b[0;34m\u001b[0m\u001b[0m\n\u001b[0m\u001b[1;32m     16\u001b[0m \u001b[0;32mpass\u001b[0m\u001b[0;34m\u001b[0m\u001b[0;34m\u001b[0m\u001b[0m\n",
            "\u001b[0;32m~/Documents/repos/spotify-datasette/.venv/lib/python3.9/site-packages/matplotlib/axes/_base.py\u001b[0m in \u001b[0;36mwrapper\u001b[0;34m(self, *args, **kwargs)\u001b[0m\n\u001b[1;32m     71\u001b[0m \u001b[0;34m\u001b[0m\u001b[0m\n\u001b[1;32m     72\u001b[0m         \u001b[0;32mdef\u001b[0m \u001b[0mwrapper\u001b[0m\u001b[0;34m(\u001b[0m\u001b[0mself\u001b[0m\u001b[0;34m,\u001b[0m \u001b[0;34m*\u001b[0m\u001b[0margs\u001b[0m\u001b[0;34m,\u001b[0m \u001b[0;34m**\u001b[0m\u001b[0mkwargs\u001b[0m\u001b[0;34m)\u001b[0m\u001b[0;34m:\u001b[0m\u001b[0;34m\u001b[0m\u001b[0;34m\u001b[0m\u001b[0m\n\u001b[0;32m---> 73\u001b[0;31m             \u001b[0;32mreturn\u001b[0m \u001b[0mget_method\u001b[0m\u001b[0;34m(\u001b[0m\u001b[0mself\u001b[0m\u001b[0;34m)\u001b[0m\u001b[0;34m(\u001b[0m\u001b[0;34m*\u001b[0m\u001b[0margs\u001b[0m\u001b[0;34m,\u001b[0m \u001b[0;34m**\u001b[0m\u001b[0mkwargs\u001b[0m\u001b[0;34m)\u001b[0m\u001b[0;34m\u001b[0m\u001b[0;34m\u001b[0m\u001b[0m\n\u001b[0m\u001b[1;32m     74\u001b[0m \u001b[0;34m\u001b[0m\u001b[0m\n\u001b[1;32m     75\u001b[0m         \u001b[0mwrapper\u001b[0m\u001b[0;34m.\u001b[0m\u001b[0m__module__\u001b[0m \u001b[0;34m=\u001b[0m \u001b[0mowner\u001b[0m\u001b[0;34m.\u001b[0m\u001b[0m__module__\u001b[0m\u001b[0;34m\u001b[0m\u001b[0;34m\u001b[0m\u001b[0m\n",
            "\u001b[0;32m~/Documents/repos/spotify-datasette/.venv/lib/python3.9/site-packages/matplotlib/_api/deprecation.py\u001b[0m in \u001b[0;36mwrapper\u001b[0;34m(*args, **kwargs)\u001b[0m\n\u001b[1;32m    469\u001b[0m                 \u001b[0;34m\"parameter will become keyword-only %(removal)s.\"\u001b[0m\u001b[0;34m,\u001b[0m\u001b[0;34m\u001b[0m\u001b[0;34m\u001b[0m\u001b[0m\n\u001b[1;32m    470\u001b[0m                 name=name, obj_type=f\"parameter of {func.__name__}()\")\n\u001b[0;32m--> 471\u001b[0;31m         \u001b[0;32mreturn\u001b[0m \u001b[0mfunc\u001b[0m\u001b[0;34m(\u001b[0m\u001b[0;34m*\u001b[0m\u001b[0margs\u001b[0m\u001b[0;34m,\u001b[0m \u001b[0;34m**\u001b[0m\u001b[0mkwargs\u001b[0m\u001b[0;34m)\u001b[0m\u001b[0;34m\u001b[0m\u001b[0;34m\u001b[0m\u001b[0m\n\u001b[0m\u001b[1;32m    472\u001b[0m \u001b[0;34m\u001b[0m\u001b[0m\n\u001b[1;32m    473\u001b[0m     \u001b[0;32mreturn\u001b[0m \u001b[0mwrapper\u001b[0m\u001b[0;34m\u001b[0m\u001b[0;34m\u001b[0m\u001b[0m\n",
            "\u001b[0;32m~/Documents/repos/spotify-datasette/.venv/lib/python3.9/site-packages/matplotlib/axis.py\u001b[0m in \u001b[0;36m_set_ticklabels\u001b[0;34m(self, labels, fontdict, minor, **kwargs)\u001b[0m\n\u001b[1;32m   1793\u001b[0m         \u001b[0;32mif\u001b[0m \u001b[0mfontdict\u001b[0m \u001b[0;32mis\u001b[0m \u001b[0;32mnot\u001b[0m \u001b[0;32mNone\u001b[0m\u001b[0;34m:\u001b[0m\u001b[0;34m\u001b[0m\u001b[0;34m\u001b[0m\u001b[0m\n\u001b[1;32m   1794\u001b[0m             \u001b[0mkwargs\u001b[0m\u001b[0;34m.\u001b[0m\u001b[0mupdate\u001b[0m\u001b[0;34m(\u001b[0m\u001b[0mfontdict\u001b[0m\u001b[0;34m)\u001b[0m\u001b[0;34m\u001b[0m\u001b[0;34m\u001b[0m\u001b[0m\n\u001b[0;32m-> 1795\u001b[0;31m         \u001b[0;32mreturn\u001b[0m \u001b[0mself\u001b[0m\u001b[0;34m.\u001b[0m\u001b[0mset_ticklabels\u001b[0m\u001b[0;34m(\u001b[0m\u001b[0mlabels\u001b[0m\u001b[0;34m,\u001b[0m \u001b[0mminor\u001b[0m\u001b[0;34m=\u001b[0m\u001b[0mminor\u001b[0m\u001b[0;34m,\u001b[0m \u001b[0;34m**\u001b[0m\u001b[0mkwargs\u001b[0m\u001b[0;34m)\u001b[0m\u001b[0;34m\u001b[0m\u001b[0;34m\u001b[0m\u001b[0m\n\u001b[0m\u001b[1;32m   1796\u001b[0m \u001b[0;34m\u001b[0m\u001b[0m\n\u001b[1;32m   1797\u001b[0m     \u001b[0;32mdef\u001b[0m \u001b[0mset_ticks\u001b[0m\u001b[0;34m(\u001b[0m\u001b[0mself\u001b[0m\u001b[0;34m,\u001b[0m \u001b[0mticks\u001b[0m\u001b[0;34m,\u001b[0m \u001b[0;34m*\u001b[0m\u001b[0;34m,\u001b[0m \u001b[0mminor\u001b[0m\u001b[0;34m=\u001b[0m\u001b[0;32mFalse\u001b[0m\u001b[0;34m)\u001b[0m\u001b[0;34m:\u001b[0m\u001b[0;34m\u001b[0m\u001b[0;34m\u001b[0m\u001b[0m\n",
            "\u001b[0;32m~/Documents/repos/spotify-datasette/.venv/lib/python3.9/site-packages/matplotlib/axis.py\u001b[0m in \u001b[0;36mset_ticklabels\u001b[0;34m(self, ticklabels, minor, **kwargs)\u001b[0m\n\u001b[1;32m   1714\u001b[0m             \u001b[0;31m# remove all tick labels, so only error for > 0 ticklabels\u001b[0m\u001b[0;34m\u001b[0m\u001b[0;34m\u001b[0m\u001b[0;34m\u001b[0m\u001b[0m\n\u001b[1;32m   1715\u001b[0m             \u001b[0;32mif\u001b[0m \u001b[0mlen\u001b[0m\u001b[0;34m(\u001b[0m\u001b[0mlocator\u001b[0m\u001b[0;34m.\u001b[0m\u001b[0mlocs\u001b[0m\u001b[0;34m)\u001b[0m \u001b[0;34m!=\u001b[0m \u001b[0mlen\u001b[0m\u001b[0;34m(\u001b[0m\u001b[0mticklabels\u001b[0m\u001b[0;34m)\u001b[0m \u001b[0;32mand\u001b[0m \u001b[0mlen\u001b[0m\u001b[0;34m(\u001b[0m\u001b[0mticklabels\u001b[0m\u001b[0;34m)\u001b[0m \u001b[0;34m!=\u001b[0m \u001b[0;36m0\u001b[0m\u001b[0;34m:\u001b[0m\u001b[0;34m\u001b[0m\u001b[0;34m\u001b[0m\u001b[0m\n\u001b[0;32m-> 1716\u001b[0;31m                 raise ValueError(\n\u001b[0m\u001b[1;32m   1717\u001b[0m                     \u001b[0;34m\"The number of FixedLocator locations\"\u001b[0m\u001b[0;34m\u001b[0m\u001b[0;34m\u001b[0m\u001b[0m\n\u001b[1;32m   1718\u001b[0m                     \u001b[0;34mf\" ({len(locator.locs)}), usually from a call to\"\u001b[0m\u001b[0;34m\u001b[0m\u001b[0;34m\u001b[0m\u001b[0m\n",
            "\u001b[0;31mValueError\u001b[0m: The number of FixedLocator locations (53), usually from a call to set_ticks, does not match the number of ticklabels (52)."
          ]
        },
        {
          "output_type": "display_data",
          "data": {
            "image/png": "[encoded data removed]",
            "text/plain": [
              "<Figure size 1440x360 with 1 Axes>"
            ]
          },
          "metadata": {}
        }
      ],
      "metadata": {
        "id": "mXAASU-pA7qR",
        "colab": {
          "base_uri": "https://localhost:8080/",
          "height": 233
        },
        "outputId": "79e06462-978f-4556-9869-93546948be4b"
      }
    },
    {
      "cell_type": "markdown",
      "source": [
        "Los argumentos:  \n",
        "\n",
        " - `songs`: nuestra matriz de `días ✕ semanas` con la cuenta de canciones por día,  \n",
        " - `linewidths`: el tamaño de la separación entre cada recuadro,  \n",
        " - `linecolor`: el color de la separación entre cada recuadro,  \n",
        " - `square`: le indica a la función que queremos que se respete la relación `1:1` en el tamaño de cada recuadro,  \n",
        " - `mask`: este es un argumento bastante interesante, ya que nos va a ayudar a \"enmascarar\" llos recuadros para los que no tenemos información. Lo establecemos a una matriz de valores booleanos (de tamaño `días ✕ semanas`), en donde cada `True` significa que no hay información para dicho día/semana\n",
        " - `cmap`: el *colormap* que se debe aplicar, curiosamente \"Greens\" coincide bastante con la coloración que usa GitHub,  \n",
        " - `vmin`: el valor que consideramos como el mínimo de entre todos nuestros valores,\n",
        " - `vmax`: el valor que consideramos máximo de entre todos nuestros valores, en mi caso considero que 100 canciones es el máximo, ¡a pesar de que mi récord es de 190 en un día!\n",
        " - `cbar`: valor *booleano* para indicar si queremos o no mostrar la barra de color que usualmente acompaña a el *heatmap*,\n",
        " - `ax`: el *axes* sobre el que se debe dibujar la gráfica.\n",
        "\n",
        "Y *voilà*, nuestra gráfica está lista.\n",
        "\n",
        "Ya quedará en ti modificar algunos aspectos de la gráfica, tal vez ponerle información acerca de la cantidad de canciones, habilitar la barra de color... otra gran idea sería hacer lo mismo pero en un framework como D3.js, pero eso ya queda para otro post. Por lo mientras, te invito a jugar con los datos en este Google Colab Notebook y a que me contactes [vía twitter en @io_exception](https://twitter.com/io_exception)."
      ],
      "metadata": {
        "id": "jHu-pc1IBIfT"
      }
    },
    {
      "cell_type": "code",
      "execution_count": null,
      "source": [],
      "outputs": [],
      "metadata": {
        "id": "1gW4V8kJBFkm"
      }
    }
  ]
}